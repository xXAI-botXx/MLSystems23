{
  "cells": [
    {
      "cell_type": "code",
      "execution_count": 1,
      "metadata": {
        "id": "hWv7IK1jo2Ng"
      },
      "outputs": [],
      "source": [
        "%matplotlib inline"
      ]
    },
    {
      "cell_type": "markdown",
      "metadata": {
        "id": "EjRPjzqMo2Nk"
      },
      "source": [
        "\n",
        "# Hello, NAS!\n",
        "\n",
        "This is the 101 tutorial of Neural Architecture Search (NAS) on NNI.\n",
        "In this tutorial, we will search for a neural architecture on MNIST dataset with the help of NAS framework of NNI, i.e., *Retiarii*.\n",
        "We use multi-trial NAS as an example to show how to construct and explore a model space.\n",
        "\n",
        "There are mainly three crucial components for a neural architecture search task, namely,\n",
        "\n",
        "* Model search space that defines a set of models to explore.\n",
        "* A proper strategy as the method to explore this model space.\n",
        "* A model evaluator that reports the performance of every model in the space.\n",
        "\n",
        "Currently, PyTorch is the only supported framework by Retiarii, and we have only tested **PyTorch 1.7 to 1.10**.\n",
        "This tutorial assumes PyTorch context but it should also apply to other frameworks, which is in our future plan.\n",
        "\n",
        "## Define your Model Space\n",
        "\n",
        "Model space is defined by users to express a set of models that users want to explore, which contains potentially good-performing models.\n",
        "In this framework, a model space is defined with two parts: a base model and possible mutations on the base model.\n"
      ]
    },
    {
      "cell_type": "markdown",
      "metadata": {
        "id": "iQN8dAGco2Nn"
      },
      "source": [
        "### Define Base Model\n",
        "\n",
        "Defining a base model is almost the same as defining a PyTorch (or TensorFlow) model.\n",
        "Usually, you only need to replace the code ``import torch.nn as nn`` with\n",
        "``import nni.retiarii.nn.pytorch as nn`` to use our wrapped PyTorch modules.\n",
        "\n",
        "Below is a very simple example of defining a base model.\n",
        "\n"
      ]
    },
    {
      "cell_type": "code",
      "source": [
        "!pip install nni \n",
        "!pip install pytorch-lightning\n",
        "  "
      ],
      "metadata": {
        "id": "uY7Isv_qqkVo",
        "outputId": "ddd80bba-5c49-468e-e1f7-ebb2728d341e",
        "colab": {
          "base_uri": "https://localhost:8080/"
        }
      },
      "execution_count": 6,
      "outputs": [
        {
          "output_type": "stream",
          "name": "stdout",
          "text": [
            "Looking in indexes: https://pypi.org/simple, https://us-python.pkg.dev/colab-wheels/public/simple/\n",
            "Requirement already satisfied: nni in /usr/local/lib/python3.10/dist-packages (2.10.1)\n",
            "Requirement already satisfied: astor in /usr/local/lib/python3.10/dist-packages (from nni) (0.8.1)\n",
            "Requirement already satisfied: cloudpickle in /usr/local/lib/python3.10/dist-packages (from nni) (2.2.1)\n",
            "Requirement already satisfied: colorama in /usr/local/lib/python3.10/dist-packages (from nni) (0.4.6)\n",
            "Requirement already satisfied: filelock<3.12 in /usr/local/lib/python3.10/dist-packages (from nni) (3.11.0)\n",
            "Requirement already satisfied: json-tricks>=3.15.5 in /usr/local/lib/python3.10/dist-packages (from nni) (3.17.0)\n",
            "Requirement already satisfied: packaging in /usr/local/lib/python3.10/dist-packages (from nni) (23.1)\n",
            "Requirement already satisfied: pandas in /usr/local/lib/python3.10/dist-packages (from nni) (1.5.3)\n",
            "Requirement already satisfied: prettytable in /usr/local/lib/python3.10/dist-packages (from nni) (0.7.2)\n",
            "Requirement already satisfied: psutil in /usr/local/lib/python3.10/dist-packages (from nni) (5.9.5)\n",
            "Requirement already satisfied: PythonWebHDFS in /usr/local/lib/python3.10/dist-packages (from nni) (0.2.3)\n",
            "Requirement already satisfied: pyyaml>=5.4 in /usr/local/lib/python3.10/dist-packages (from nni) (6.0)\n",
            "Requirement already satisfied: requests in /usr/local/lib/python3.10/dist-packages (from nni) (2.27.1)\n",
            "Requirement already satisfied: responses in /usr/local/lib/python3.10/dist-packages (from nni) (0.23.1)\n",
            "Requirement already satisfied: schema in /usr/local/lib/python3.10/dist-packages (from nni) (0.7.5)\n",
            "Requirement already satisfied: scikit-learn>=0.24.1 in /usr/local/lib/python3.10/dist-packages (from nni) (1.2.2)\n",
            "Requirement already satisfied: tqdm in /usr/local/lib/python3.10/dist-packages (from nni) (4.65.0)\n",
            "Requirement already satisfied: typeguard<3 in /usr/local/lib/python3.10/dist-packages (from nni) (2.13.3)\n",
            "Requirement already satisfied: typing-extensions>=4.0.0 in /usr/local/lib/python3.10/dist-packages (from nni) (4.5.0)\n",
            "Requirement already satisfied: websockets>=10.1 in /usr/local/lib/python3.10/dist-packages (from nni) (11.0.3)\n",
            "Requirement already satisfied: numpy in /usr/local/lib/python3.10/dist-packages (from nni) (1.22.4)\n",
            "Requirement already satisfied: scipy in /usr/local/lib/python3.10/dist-packages (from nni) (1.10.1)\n",
            "Requirement already satisfied: joblib>=1.1.1 in /usr/local/lib/python3.10/dist-packages (from scikit-learn>=0.24.1->nni) (1.2.0)\n",
            "Requirement already satisfied: threadpoolctl>=2.0.0 in /usr/local/lib/python3.10/dist-packages (from scikit-learn>=0.24.1->nni) (3.1.0)\n",
            "Requirement already satisfied: python-dateutil>=2.8.1 in /usr/local/lib/python3.10/dist-packages (from pandas->nni) (2.8.2)\n",
            "Requirement already satisfied: pytz>=2020.1 in /usr/local/lib/python3.10/dist-packages (from pandas->nni) (2022.7.1)\n",
            "Requirement already satisfied: simplejson in /usr/local/lib/python3.10/dist-packages (from PythonWebHDFS->nni) (3.19.1)\n",
            "Requirement already satisfied: urllib3<1.27,>=1.21.1 in /usr/local/lib/python3.10/dist-packages (from requests->nni) (1.26.15)\n",
            "Requirement already satisfied: certifi>=2017.4.17 in /usr/local/lib/python3.10/dist-packages (from requests->nni) (2022.12.7)\n",
            "Requirement already satisfied: charset-normalizer~=2.0.0 in /usr/local/lib/python3.10/dist-packages (from requests->nni) (2.0.12)\n",
            "Requirement already satisfied: idna<4,>=2.5 in /usr/local/lib/python3.10/dist-packages (from requests->nni) (3.4)\n",
            "Requirement already satisfied: types-PyYAML in /usr/local/lib/python3.10/dist-packages (from responses->nni) (6.0.12.10)\n",
            "Requirement already satisfied: contextlib2>=0.5.5 in /usr/local/lib/python3.10/dist-packages (from schema->nni) (0.6.0.post1)\n",
            "Requirement already satisfied: six>=1.5 in /usr/local/lib/python3.10/dist-packages (from python-dateutil>=2.8.1->pandas->nni) (1.16.0)\n",
            "Looking in indexes: https://pypi.org/simple, https://us-python.pkg.dev/colab-wheels/public/simple/\n",
            "Collecting pytorch-lightning\n",
            "  Downloading pytorch_lightning-2.0.2-py3-none-any.whl (719 kB)\n",
            "\u001b[2K     \u001b[90m━━━━━━━━━━━━━━━━━━━━━━━━━━━━━━━━━━━━━━\u001b[0m \u001b[32m719.0/719.0 kB\u001b[0m \u001b[31m28.0 MB/s\u001b[0m eta \u001b[36m0:00:00\u001b[0m\n",
            "\u001b[?25hRequirement already satisfied: numpy>=1.17.2 in /usr/local/lib/python3.10/dist-packages (from pytorch-lightning) (1.22.4)\n",
            "Requirement already satisfied: torch>=1.11.0 in /usr/local/lib/python3.10/dist-packages (from pytorch-lightning) (2.0.1+cu118)\n",
            "Requirement already satisfied: tqdm>=4.57.0 in /usr/local/lib/python3.10/dist-packages (from pytorch-lightning) (4.65.0)\n",
            "Requirement already satisfied: PyYAML>=5.4 in /usr/local/lib/python3.10/dist-packages (from pytorch-lightning) (6.0)\n",
            "Requirement already satisfied: fsspec[http]>2021.06.0 in /usr/local/lib/python3.10/dist-packages (from pytorch-lightning) (2023.4.0)\n",
            "Collecting torchmetrics>=0.7.0 (from pytorch-lightning)\n",
            "  Downloading torchmetrics-0.11.4-py3-none-any.whl (519 kB)\n",
            "\u001b[2K     \u001b[90m━━━━━━━━━━━━━━━━━━━━━━━━━━━━━━━━━━━━━━\u001b[0m \u001b[32m519.2/519.2 kB\u001b[0m \u001b[31m50.0 MB/s\u001b[0m eta \u001b[36m0:00:00\u001b[0m\n",
            "\u001b[?25hRequirement already satisfied: packaging>=17.1 in /usr/local/lib/python3.10/dist-packages (from pytorch-lightning) (23.1)\n",
            "Requirement already satisfied: typing-extensions>=4.0.0 in /usr/local/lib/python3.10/dist-packages (from pytorch-lightning) (4.5.0)\n",
            "Collecting lightning-utilities>=0.7.0 (from pytorch-lightning)\n",
            "  Downloading lightning_utilities-0.8.0-py3-none-any.whl (20 kB)\n",
            "Requirement already satisfied: requests in /usr/local/lib/python3.10/dist-packages (from fsspec[http]>2021.06.0->pytorch-lightning) (2.27.1)\n",
            "Collecting aiohttp!=4.0.0a0,!=4.0.0a1 (from fsspec[http]>2021.06.0->pytorch-lightning)\n",
            "  Downloading aiohttp-3.8.4-cp310-cp310-manylinux_2_17_x86_64.manylinux2014_x86_64.whl (1.0 MB)\n",
            "\u001b[2K     \u001b[90m━━━━━━━━━━━━━━━━━━━━━━━━━━━━━━━━━━━━━━━━\u001b[0m \u001b[32m1.0/1.0 MB\u001b[0m \u001b[31m56.8 MB/s\u001b[0m eta \u001b[36m0:00:00\u001b[0m\n",
            "\u001b[?25hRequirement already satisfied: filelock in /usr/local/lib/python3.10/dist-packages (from torch>=1.11.0->pytorch-lightning) (3.11.0)\n",
            "Requirement already satisfied: sympy in /usr/local/lib/python3.10/dist-packages (from torch>=1.11.0->pytorch-lightning) (1.11.1)\n",
            "Requirement already satisfied: networkx in /usr/local/lib/python3.10/dist-packages (from torch>=1.11.0->pytorch-lightning) (3.1)\n",
            "Requirement already satisfied: jinja2 in /usr/local/lib/python3.10/dist-packages (from torch>=1.11.0->pytorch-lightning) (3.1.2)\n",
            "Requirement already satisfied: triton==2.0.0 in /usr/local/lib/python3.10/dist-packages (from torch>=1.11.0->pytorch-lightning) (2.0.0)\n",
            "Requirement already satisfied: cmake in /usr/local/lib/python3.10/dist-packages (from triton==2.0.0->torch>=1.11.0->pytorch-lightning) (3.25.2)\n",
            "Requirement already satisfied: lit in /usr/local/lib/python3.10/dist-packages (from triton==2.0.0->torch>=1.11.0->pytorch-lightning) (16.0.5)\n",
            "Requirement already satisfied: attrs>=17.3.0 in /usr/local/lib/python3.10/dist-packages (from aiohttp!=4.0.0a0,!=4.0.0a1->fsspec[http]>2021.06.0->pytorch-lightning) (23.1.0)\n",
            "Requirement already satisfied: charset-normalizer<4.0,>=2.0 in /usr/local/lib/python3.10/dist-packages (from aiohttp!=4.0.0a0,!=4.0.0a1->fsspec[http]>2021.06.0->pytorch-lightning) (2.0.12)\n",
            "Collecting multidict<7.0,>=4.5 (from aiohttp!=4.0.0a0,!=4.0.0a1->fsspec[http]>2021.06.0->pytorch-lightning)\n",
            "  Downloading multidict-6.0.4-cp310-cp310-manylinux_2_17_x86_64.manylinux2014_x86_64.whl (114 kB)\n",
            "\u001b[2K     \u001b[90m━━━━━━━━━━━━━━━━━━━━━━━━━━━━━━━━━━━━━━\u001b[0m \u001b[32m114.5/114.5 kB\u001b[0m \u001b[31m14.5 MB/s\u001b[0m eta \u001b[36m0:00:00\u001b[0m\n",
            "\u001b[?25hCollecting async-timeout<5.0,>=4.0.0a3 (from aiohttp!=4.0.0a0,!=4.0.0a1->fsspec[http]>2021.06.0->pytorch-lightning)\n",
            "  Downloading async_timeout-4.0.2-py3-none-any.whl (5.8 kB)\n",
            "Collecting yarl<2.0,>=1.0 (from aiohttp!=4.0.0a0,!=4.0.0a1->fsspec[http]>2021.06.0->pytorch-lightning)\n",
            "  Downloading yarl-1.9.2-cp310-cp310-manylinux_2_17_x86_64.manylinux2014_x86_64.whl (268 kB)\n",
            "\u001b[2K     \u001b[90m━━━━━━━━━━━━━━━━━━━━━━━━━━━━━━━━━━━━━━\u001b[0m \u001b[32m268.8/268.8 kB\u001b[0m \u001b[31m32.3 MB/s\u001b[0m eta \u001b[36m0:00:00\u001b[0m\n",
            "\u001b[?25hCollecting frozenlist>=1.1.1 (from aiohttp!=4.0.0a0,!=4.0.0a1->fsspec[http]>2021.06.0->pytorch-lightning)\n",
            "  Downloading frozenlist-1.3.3-cp310-cp310-manylinux_2_5_x86_64.manylinux1_x86_64.manylinux_2_17_x86_64.manylinux2014_x86_64.whl (149 kB)\n",
            "\u001b[2K     \u001b[90m━━━━━━━━━━━━━━━━━━━━━━━━━━━━━━━━━━━━━━\u001b[0m \u001b[32m149.6/149.6 kB\u001b[0m \u001b[31m20.4 MB/s\u001b[0m eta \u001b[36m0:00:00\u001b[0m\n",
            "\u001b[?25hCollecting aiosignal>=1.1.2 (from aiohttp!=4.0.0a0,!=4.0.0a1->fsspec[http]>2021.06.0->pytorch-lightning)\n",
            "  Downloading aiosignal-1.3.1-py3-none-any.whl (7.6 kB)\n",
            "Requirement already satisfied: MarkupSafe>=2.0 in /usr/local/lib/python3.10/dist-packages (from jinja2->torch>=1.11.0->pytorch-lightning) (2.1.2)\n",
            "Requirement already satisfied: urllib3<1.27,>=1.21.1 in /usr/local/lib/python3.10/dist-packages (from requests->fsspec[http]>2021.06.0->pytorch-lightning) (1.26.15)\n",
            "Requirement already satisfied: certifi>=2017.4.17 in /usr/local/lib/python3.10/dist-packages (from requests->fsspec[http]>2021.06.0->pytorch-lightning) (2022.12.7)\n",
            "Requirement already satisfied: idna<4,>=2.5 in /usr/local/lib/python3.10/dist-packages (from requests->fsspec[http]>2021.06.0->pytorch-lightning) (3.4)\n",
            "Requirement already satisfied: mpmath>=0.19 in /usr/local/lib/python3.10/dist-packages (from sympy->torch>=1.11.0->pytorch-lightning) (1.3.0)\n",
            "Installing collected packages: multidict, lightning-utilities, frozenlist, async-timeout, yarl, aiosignal, aiohttp, torchmetrics, pytorch-lightning\n",
            "Successfully installed aiohttp-3.8.4 aiosignal-1.3.1 async-timeout-4.0.2 frozenlist-1.3.3 lightning-utilities-0.8.0 multidict-6.0.4 pytorch-lightning-2.0.2 torchmetrics-0.11.4 yarl-1.9.2\n"
          ]
        }
      ]
    },
    {
      "cell_type": "code",
      "execution_count": 7,
      "metadata": {
        "id": "cu0yzd4oo2No"
      },
      "outputs": [],
      "source": [
        "import torch\n",
        "import torch.nn.functional as F\n",
        "import nni.retiarii.nn.pytorch as nn\n",
        "from nni.retiarii import model_wrapper\n",
        "\n",
        "\n",
        "@model_wrapper      # this decorator should be put on the out most\n",
        "class Net(nn.Module):\n",
        "    def __init__(self):\n",
        "        super().__init__()\n",
        "        self.conv1 = nn.Conv2d(1, 32, 3, 1)\n",
        "        self.conv2 = nn.Conv2d(32, 64, 3, 1)\n",
        "        self.dropout1 = nn.Dropout(0.25)\n",
        "        self.dropout2 = nn.Dropout(0.5)\n",
        "        self.fc1 = nn.Linear(9216, 128)\n",
        "        self.fc2 = nn.Linear(128, 10)\n",
        "\n",
        "    def forward(self, x):\n",
        "        x = F.relu(self.conv1(x))\n",
        "        x = F.max_pool2d(self.conv2(x), 2)\n",
        "        x = torch.flatten(self.dropout1(x), 1)\n",
        "        x = self.fc2(self.dropout2(F.relu(self.fc1(x))))\n",
        "        output = F.log_softmax(x, dim=1)\n",
        "        return output"
      ]
    },
    {
      "cell_type": "markdown",
      "metadata": {
        "id": "lMDmo_SKo2Np"
      },
      "source": [
        ".. tip:: Always keep in mind that you should use ``import nni.retiarii.nn.pytorch as nn`` and :meth:`nni.retiarii.model_wrapper`.\n",
        "         Many mistakes are a result of forgetting one of those.\n",
        "         Also, please use ``torch.nn`` for submodules of ``nn.init``, e.g., ``torch.nn.init`` instead of ``nn.init``.\n",
        "\n",
        "### Define Model Mutations\n",
        "\n",
        "A base model is only one concrete model not a model space. We provide :doc:`API and Primitives </nas/construct_space>`\n",
        "for users to express how the base model can be mutated. That is, to build a model space which includes many models.\n",
        "\n",
        "Based on the above base model, we can define a model space as below.\n",
        "\n",
        ".. code-block:: diff\n",
        "\n",
        "  @model_wrapper\n",
        "  class Net(nn.Module):\n",
        "    def __init__(self):\n",
        "      super().__init__()\n",
        "      self.conv1 = nn.Conv2d(1, 32, 3, 1)\n",
        "  -   self.conv2 = nn.Conv2d(32, 64, 3, 1)\n",
        "  +   self.conv2 = nn.LayerChoice([\n",
        "  +       nn.Conv2d(32, 64, 3, 1),\n",
        "  +       DepthwiseSeparableConv(32, 64)\n",
        "  +   ])\n",
        "  -   self.dropout1 = nn.Dropout(0.25)\n",
        "  +   self.dropout1 = nn.Dropout(nn.ValueChoice([0.25, 0.5, 0.75]))\n",
        "      self.dropout2 = nn.Dropout(0.5)\n",
        "  -   self.fc1 = nn.Linear(9216, 128)\n",
        "  -   self.fc2 = nn.Linear(128, 10)\n",
        "  +   feature = nn.ValueChoice([64, 128, 256])\n",
        "  +   self.fc1 = nn.Linear(9216, feature)\n",
        "  +   self.fc2 = nn.Linear(feature, 10)\n",
        "\n",
        "    def forward(self, x):\n",
        "      x = F.relu(self.conv1(x))\n",
        "      x = F.max_pool2d(self.conv2(x), 2)\n",
        "      x = torch.flatten(self.dropout1(x), 1)\n",
        "      x = self.fc2(self.dropout2(F.relu(self.fc1(x))))\n",
        "      output = F.log_softmax(x, dim=1)\n",
        "      return output\n",
        "\n",
        "This results in the following code:\n",
        "\n"
      ]
    },
    {
      "cell_type": "code",
      "execution_count": 8,
      "metadata": {
        "id": "BoXjjTvAo2Nq",
        "outputId": "294a602d-eb45-4684-dc50-8c7e97a53711",
        "colab": {
          "base_uri": "https://localhost:8080/"
        }
      },
      "outputs": [
        {
          "output_type": "execute_result",
          "data": {
            "text/plain": [
              "ModelSpace(\n",
              "  (conv1): Conv2d(1, 32, kernel_size=(3, 3), stride=(1, 1))\n",
              "  (conv2): LayerChoice([Conv2d(32, 64, kernel_size=(3, 3), stride=(1, 1)), DepthwiseSeparableConv(\n",
              "    (depthwise): Conv2d(32, 32, kernel_size=(3, 3), stride=(1, 1), groups=32)\n",
              "    (pointwise): Conv2d(32, 64, kernel_size=(1, 1), stride=(1, 1))\n",
              "  )], label='model_1')\n",
              "  (dropout1): Dropout(p=0.25, inplace=False)\n",
              "  (dropout2): Dropout(p=0.5, inplace=False)\n",
              "  (fc1): Linear(in_features=9216, out_features=64, bias=True)\n",
              "  (fc2): Linear(in_features=64, out_features=10, bias=True)\n",
              ")"
            ]
          },
          "metadata": {},
          "execution_count": 8
        }
      ],
      "source": [
        "class DepthwiseSeparableConv(nn.Module):\n",
        "    def __init__(self, in_ch, out_ch):\n",
        "        super().__init__()\n",
        "        self.depthwise = nn.Conv2d(in_ch, in_ch, kernel_size=3, groups=in_ch)\n",
        "        self.pointwise = nn.Conv2d(in_ch, out_ch, kernel_size=1)\n",
        "\n",
        "    def forward(self, x):\n",
        "        return self.pointwise(self.depthwise(x))\n",
        "\n",
        "\n",
        "@model_wrapper\n",
        "class ModelSpace(nn.Module):\n",
        "    def __init__(self):\n",
        "        super().__init__()\n",
        "        self.conv1 = nn.Conv2d(1, 32, 3, 1)\n",
        "        # LayerChoice is used to select a layer between Conv2d and DwConv.\n",
        "        self.conv2 = nn.LayerChoice([\n",
        "            nn.Conv2d(32, 64, 3, 1),\n",
        "            DepthwiseSeparableConv(32, 64)\n",
        "        ])\n",
        "        # ValueChoice is used to select a dropout rate.\n",
        "        # ValueChoice can be used as parameter of modules wrapped in `nni.retiarii.nn.pytorch`\n",
        "        # or customized modules wrapped with `@basic_unit`.\n",
        "        self.dropout1 = nn.Dropout(nn.ValueChoice([0.25, 0.5, 0.75]))  # choose dropout rate from 0.25, 0.5 and 0.75\n",
        "        self.dropout2 = nn.Dropout(0.5)\n",
        "        feature = nn.ValueChoice([64, 128, 256])\n",
        "        self.fc1 = nn.Linear(9216, feature)\n",
        "        self.fc2 = nn.Linear(feature, 10)\n",
        "\n",
        "    def forward(self, x):\n",
        "        x = F.relu(self.conv1(x))\n",
        "        x = F.max_pool2d(self.conv2(x), 2)\n",
        "        x = torch.flatten(self.dropout1(x), 1)\n",
        "        x = self.fc2(self.dropout2(F.relu(self.fc1(x))))\n",
        "        output = F.log_softmax(x, dim=1)\n",
        "        return output\n",
        "\n",
        "\n",
        "model_space = ModelSpace()\n",
        "model_space"
      ]
    },
    {
      "cell_type": "markdown",
      "metadata": {
        "id": "vWtSpCJBo2Nr"
      },
      "source": [
        "This example uses two mutation APIs,\n",
        ":class:`nn.LayerChoice <nni.retiarii.nn.pytorch.LayerChoice>` and\n",
        ":class:`nn.InputChoice <nni.retiarii.nn.pytorch.ValueChoice>`.\n",
        ":class:`nn.LayerChoice <nni.retiarii.nn.pytorch.LayerChoice>`\n",
        "takes a list of candidate modules (two in this example), one will be chosen for each sampled model.\n",
        "It can be used like normal PyTorch module.\n",
        ":class:`nn.InputChoice <nni.retiarii.nn.pytorch.ValueChoice>` takes a list of candidate values,\n",
        "one will be chosen to take effect for each sampled model.\n",
        "\n",
        "More detailed API description and usage can be found :doc:`here </nas/construct_space>`.\n",
        "\n",
        "<div class=\"alert alert-info\"><h4>Note</h4><p>We are actively enriching the mutation APIs, to facilitate easy construction of model space.\n",
        "    If the currently supported mutation APIs cannot express your model space,\n",
        "    please refer to :doc:`this doc </nas/mutator>` for customizing mutators.</p></div>\n",
        "\n",
        "## Explore the Defined Model Space\n",
        "\n",
        "There are basically two exploration approaches: (1) search by evaluating each sampled model independently,\n",
        "which is the search approach in `multi-trial NAS <multi-trial-nas>`\n",
        "and (2) one-shot weight-sharing based search, which is used in one-shot NAS.\n",
        "We demonstrate the first approach in this tutorial. Users can refer to `here <one-shot-nas>` for the second approach.\n",
        "\n",
        "First, users need to pick a proper exploration strategy to explore the defined model space.\n",
        "Second, users need to pick or customize a model evaluator to evaluate the performance of each explored model.\n",
        "\n",
        "### Pick an exploration strategy\n",
        "\n",
        "Retiarii supports many :doc:`exploration strategies </nas/exploration_strategy>`.\n",
        "\n",
        "Simply choosing (i.e., instantiate) an exploration strategy as below.\n",
        "\n"
      ]
    },
    {
      "cell_type": "code",
      "execution_count": 9,
      "metadata": {
        "id": "YelEnbUYo2Nr"
      },
      "outputs": [],
      "source": [
        "import nni.retiarii.strategy as strategy\n",
        "search_strategy = strategy.Random(dedup=True)  # dedup=False if deduplication is not wanted"
      ]
    },
    {
      "cell_type": "markdown",
      "metadata": {
        "id": "teoFkVZ6o2Ns"
      },
      "source": [
        "### Pick or customize a model evaluator\n",
        "\n",
        "In the exploration process, the exploration strategy repeatedly generates new models. A model evaluator is for training\n",
        "and validating each generated model to obtain the model's performance.\n",
        "The performance is sent to the exploration strategy for the strategy to generate better models.\n",
        "\n",
        "Retiarii has provided :doc:`built-in model evaluators </nas/evaluator>`, but to start with,\n",
        "it is recommended to use :class:`FunctionalEvaluator <nni.retiarii.evaluator.FunctionalEvaluator>`,\n",
        "that is, to wrap your own training and evaluation code with one single function.\n",
        "This function should receive one single model class and uses :func:`nni.report_final_result` to report the final score of this model.\n",
        "\n",
        "An example here creates a simple evaluator that runs on MNIST dataset, trains for 2 epochs, and reports its validation accuracy.\n",
        "\n"
      ]
    },
    {
      "cell_type": "code",
      "execution_count": 10,
      "metadata": {
        "id": "6xw6xRqgo2Ns"
      },
      "outputs": [],
      "source": [
        "import nni\n",
        "\n",
        "from torchvision import transforms\n",
        "from torchvision.datasets import MNIST\n",
        "from torch.utils.data import DataLoader\n",
        "\n",
        "\n",
        "def train_epoch(model, device, train_loader, optimizer, epoch):\n",
        "    loss_fn = torch.nn.CrossEntropyLoss()\n",
        "    model.train()\n",
        "    for batch_idx, (data, target) in enumerate(train_loader):\n",
        "        data, target = data.to(device), target.to(device)\n",
        "        optimizer.zero_grad()\n",
        "        output = model(data)\n",
        "        loss = loss_fn(output, target)\n",
        "        loss.backward()\n",
        "        optimizer.step()\n",
        "        if batch_idx % 10 == 0:\n",
        "            print('Train Epoch: {} [{}/{} ({:.0f}%)]\\tLoss: {:.6f}'.format(\n",
        "                epoch, batch_idx * len(data), len(train_loader.dataset),\n",
        "                100. * batch_idx / len(train_loader), loss.item()))\n",
        "\n",
        "\n",
        "def test_epoch(model, device, test_loader):\n",
        "    model.eval()\n",
        "    test_loss = 0\n",
        "    correct = 0\n",
        "    with torch.no_grad():\n",
        "        for data, target in test_loader:\n",
        "            data, target = data.to(device), target.to(device)\n",
        "            output = model(data)\n",
        "            pred = output.argmax(dim=1, keepdim=True)\n",
        "            correct += pred.eq(target.view_as(pred)).sum().item()\n",
        "\n",
        "    test_loss /= len(test_loader.dataset)\n",
        "    accuracy = 100. * correct / len(test_loader.dataset)\n",
        "\n",
        "    print('\\nTest set: Accuracy: {}/{} ({:.0f}%)\\n'.format(\n",
        "          correct, len(test_loader.dataset), accuracy))\n",
        "\n",
        "    return accuracy\n",
        "\n",
        "\n",
        "def evaluate_model(model_cls):\n",
        "    # \"model_cls\" is a class, need to instantiate\n",
        "    model = model_cls()\n",
        "\n",
        "    device = torch.device('cuda') if torch.cuda.is_available() else torch.device('cpu')\n",
        "    model.to(device)\n",
        "\n",
        "    optimizer = torch.optim.Adam(model.parameters(), lr=1e-3)\n",
        "    transf = transforms.Compose([transforms.ToTensor(), transforms.Normalize((0.1307,), (0.3081,))])\n",
        "    train_loader = DataLoader(MNIST('data/mnist', download=True, transform=transf), batch_size=64, shuffle=True)\n",
        "    test_loader = DataLoader(MNIST('data/mnist', download=True, train=False, transform=transf), batch_size=64)\n",
        "\n",
        "    for epoch in range(3):\n",
        "        # train the model for one epoch\n",
        "        train_epoch(model, device, train_loader, optimizer, epoch)\n",
        "        # test the model for one epoch\n",
        "        accuracy = test_epoch(model, device, test_loader)\n",
        "        # call report intermediate result. Result can be float or dict\n",
        "        nni.report_intermediate_result(accuracy)\n",
        "\n",
        "    # report final test result\n",
        "    nni.report_final_result(accuracy)"
      ]
    },
    {
      "cell_type": "markdown",
      "metadata": {
        "id": "P70qsdpPo2Nt"
      },
      "source": [
        "Create the evaluator\n",
        "\n"
      ]
    },
    {
      "cell_type": "code",
      "execution_count": 11,
      "metadata": {
        "id": "hU7SM_elo2Nt"
      },
      "outputs": [],
      "source": [
        "from nni.retiarii.evaluator import FunctionalEvaluator\n",
        "evaluator = FunctionalEvaluator(evaluate_model)"
      ]
    },
    {
      "cell_type": "markdown",
      "metadata": {
        "id": "7EtEmkKvo2Nu"
      },
      "source": [
        "The ``train_epoch`` and ``test_epoch`` here can be any customized function,\n",
        "where users can write their own training recipe.\n",
        "\n",
        "It is recommended that the ``evaluate_model`` here accepts no additional arguments other than ``model_cls``.\n",
        "However, in the :doc:`advanced tutorial </nas/evaluator>`, we will show how to use additional arguments in case you actually need those.\n",
        "In future, we will support mutation on the arguments of evaluators, which is commonly called \"Hyper-parmeter tuning\".\n",
        "\n",
        "## Launch an Experiment\n",
        "\n",
        "After all the above are prepared, it is time to start an experiment to do the model search. An example is shown below.\n",
        "\n"
      ]
    },
    {
      "cell_type": "code",
      "execution_count": 18,
      "metadata": {
        "id": "hXQb_cH6o2Nu"
      },
      "outputs": [],
      "source": [
        "from nni.retiarii.experiment.pytorch import RetiariiExperiment, RetiariiExeConfig\n",
        "exp = RetiariiExperiment(model_space, evaluator, [], search_strategy)\n",
        "exp_config = RetiariiExeConfig('local')\n",
        "exp_config.experiment_name = 'mnist_search'"
      ]
    },
    {
      "cell_type": "markdown",
      "metadata": {
        "id": "2hl0UlH_o2Nu"
      },
      "source": [
        "The following configurations are useful to control how many trials to run at most / at the same time.\n",
        "\n"
      ]
    },
    {
      "cell_type": "code",
      "execution_count": 19,
      "metadata": {
        "id": "MGu6WRv7o2Nv"
      },
      "outputs": [],
      "source": [
        "exp_config.max_trial_number = 4   # spawn 4 trials at most\n",
        "exp_config.trial_concurrency = 2  # will run two trials concurrently"
      ]
    },
    {
      "cell_type": "markdown",
      "metadata": {
        "id": "mCqL5LqLo2Nv"
      },
      "source": [
        "Remember to set the following config if you want to GPU.\n",
        "``use_active_gpu`` should be set true if you wish to use an occupied GPU (possibly running a GUI).\n",
        "\n"
      ]
    },
    {
      "cell_type": "code",
      "execution_count": 20,
      "metadata": {
        "id": "Ui1rT4fGo2Nv"
      },
      "outputs": [],
      "source": [
        "exp_config.trial_gpu_number = 1\n",
        "exp_config.training_service.use_active_gpu = True"
      ]
    },
    {
      "cell_type": "markdown",
      "metadata": {
        "id": "BGC19hgyo2Nv"
      },
      "source": [
        "Launch the experiment. The experiment should take several minutes to finish.\n",
        "\n"
      ]
    },
    {
      "cell_type": "code",
      "source": [
        "from google.colab.output import eval_js\n",
        "\n",
        "print(eval_js(\"google.colab.kernel.proxyPort(8081)\"))"
      ],
      "metadata": {
        "id": "zNA9Dq5qsKCt",
        "outputId": "21e4d754-cfa1-42b6-e83c-b3fff605c72a",
        "colab": {
          "base_uri": "https://localhost:8080/",
          "height": 35
        }
      },
      "execution_count": 16,
      "outputs": [
        {
          "output_type": "stream",
          "name": "stdout",
          "text": [
            "https://6yiwxdgmb6k-496ff2e9c6d22116-8081-colab.googleusercontent.com/\n"
          ]
        }
      ]
    },
    {
      "cell_type": "code",
      "execution_count": null,
      "metadata": {
        "id": "Cw7EG7CRo2Nw",
        "outputId": "3c172e87-1459-4da4-d611-1d92fd7c034e",
        "colab": {
          "base_uri": "https://localhost:8080/"
        }
      },
      "outputs": [
        {
          "output_type": "stream",
          "name": "stdout",
          "text": [
            "[2023-05-24 07:38:13] \u001b[32mCreating experiment, Experiment ID: \u001b[36mzqc078dl\u001b[0m\n"
          ]
        },
        {
          "output_type": "stream",
          "name": "stderr",
          "text": [
            "INFO:nni.experiment:Creating experiment, Experiment ID: ${CYAN}zqc078dl\n"
          ]
        },
        {
          "output_type": "stream",
          "name": "stdout",
          "text": [
            "[2023-05-24 07:38:13] \u001b[32mStarting web server...\u001b[0m\n"
          ]
        },
        {
          "output_type": "stream",
          "name": "stderr",
          "text": [
            "INFO:nni.experiment:Starting web server...\n"
          ]
        },
        {
          "output_type": "stream",
          "name": "stdout",
          "text": [
            "[2023-05-24 07:38:14] \u001b[32mSetting up...\u001b[0m\n"
          ]
        },
        {
          "output_type": "stream",
          "name": "stderr",
          "text": [
            "INFO:nni.experiment:Setting up...\n"
          ]
        },
        {
          "output_type": "stream",
          "name": "stdout",
          "text": [
            "[2023-05-24 07:38:14] \u001b[32mWeb portal URLs: \u001b[36mhttp://127.0.0.1:8081 http://172.28.0.12:8081\u001b[0m\n"
          ]
        },
        {
          "output_type": "stream",
          "name": "stderr",
          "text": [
            "INFO:nni.experiment:Web portal URLs: ${CYAN}http://127.0.0.1:8081 http://172.28.0.12:8081\n",
            "/usr/local/lib/python3.10/dist-packages/nni/nas/execution/common/integration_api.py:34: UserWarning: Advisor is already set.You should avoid instantiating RetiariiExperiment twice in one proces.If you are running in a Jupyter notebook, please restart the kernel.\n",
            "  warnings.warn('Advisor is already set.'\n",
            "/usr/local/lib/python3.10/dist-packages/nni/nas/execution/api.py:59: RuntimeWarning: Execution engine is already set. You should avoid instantiating RetiariiExperiment twice in one process. If you are running in a Jupyter notebook, please restart the kernel.\n",
            "  warnings.warn('Execution engine is already set. '\n"
          ]
        },
        {
          "output_type": "stream",
          "name": "stdout",
          "text": [
            "[2023-05-24 07:38:14] \u001b[32mDispatcher started\u001b[0m\n"
          ]
        },
        {
          "output_type": "stream",
          "name": "stderr",
          "text": [
            "INFO:nni.runtime.msg_dispatcher_base:Dispatcher started\n"
          ]
        },
        {
          "output_type": "stream",
          "name": "stdout",
          "text": [
            "[2023-05-24 07:38:14] \u001b[32mStart strategy...\u001b[0m\n"
          ]
        },
        {
          "output_type": "stream",
          "name": "stderr",
          "text": [
            "INFO:nni.nas.experiment.pytorch:Start strategy...\n"
          ]
        },
        {
          "output_type": "stream",
          "name": "stdout",
          "text": [
            "[2023-05-24 07:38:14] \u001b[32mSuccessfully update searchSpace.\u001b[0m\n"
          ]
        },
        {
          "output_type": "stream",
          "name": "stderr",
          "text": [
            "INFO:nni.experiment:Successfully update searchSpace.\n"
          ]
        },
        {
          "output_type": "stream",
          "name": "stdout",
          "text": [
            "[2023-05-24 07:38:14] \u001b[32mRandom search running in fixed size mode. Dedup: on.\u001b[0m\n"
          ]
        },
        {
          "output_type": "stream",
          "name": "stderr",
          "text": [
            "INFO:nni.nas.strategy.bruteforce:Random search running in fixed size mode. Dedup: on.\n"
          ]
        }
      ],
      "source": [
        "exp.run(exp_config, 8081)"
      ]
    },
    {
      "cell_type": "markdown",
      "metadata": {
        "id": "ftz29DRAo2Nw"
      },
      "source": [
        "Users can also run Retiarii Experiment with :doc:`different training services </experiment/training_service/overview>`\n",
        "besides ``local`` training service.\n",
        "\n",
        "## Visualize the Experiment\n",
        "\n",
        "Users can visualize their experiment in the same way as visualizing a normal hyper-parameter tuning experiment.\n",
        "For example, open ``localhost:8081`` in your browser, 8081 is the port that you set in ``exp.run``.\n",
        "Please refer to :doc:`here </experiment/web_portal/web_portal>` for details.\n",
        "\n",
        "We support visualizing models with 3rd-party visualization engines (like `Netron <https://netron.app/>`__).\n",
        "This can be used by clicking ``Visualization`` in detail panel for each trial.\n",
        "Note that current visualization is based on `onnx <https://onnx.ai/>`__ ,\n",
        "thus visualization is not feasible if the model cannot be exported into onnx.\n",
        "\n",
        "Built-in evaluators (e.g., Classification) will automatically export the model into a file.\n",
        "For your own evaluator, you need to save your file into ``$NNI_OUTPUT_DIR/model.onnx`` to make this work.\n",
        "For instance,\n",
        "\n"
      ]
    },
    {
      "cell_type": "code",
      "execution_count": null,
      "metadata": {
        "id": "NNXMI6Eco2Nw"
      },
      "outputs": [],
      "source": [
        "import os\n",
        "from pathlib import Path\n",
        "\n",
        "\n",
        "def evaluate_model_with_visualization(model_cls):\n",
        "    model = model_cls()\n",
        "    # dump the model into an onnx\n",
        "    if 'NNI_OUTPUT_DIR' in os.environ:\n",
        "        dummy_input = torch.zeros(1, 3, 32, 32)\n",
        "        torch.onnx.export(model, (dummy_input, ),\n",
        "                          Path(os.environ['NNI_OUTPUT_DIR']) / 'model.onnx')\n",
        "    evaluate_model(model_cls)"
      ]
    },
    {
      "cell_type": "markdown",
      "metadata": {
        "id": "5iKE0QJqo2Nw"
      },
      "source": [
        "Relaunch the experiment, and a button is shown on Web portal.\n",
        "\n",
        "<img src=\"file://../../img/netron_entrance_webui.png\">\n",
        "\n",
        "## Export Top Models\n",
        "\n",
        "Users can export top models after the exploration is done using ``export_top_models``.\n",
        "\n"
      ]
    },
    {
      "cell_type": "code",
      "execution_count": null,
      "metadata": {
        "id": "g7kJESzbo2Nx"
      },
      "outputs": [],
      "source": [
        "for model_dict in exp.export_top_models(formatter='dict'):\n",
        "    print(model_dict)"
      ]
    },
    {
      "cell_type": "markdown",
      "metadata": {
        "id": "9Z-xLEOto2Nx"
      },
      "source": [
        "The output is ``json`` object which records the mutation actions of the top model.\n",
        "If users want to output source code of the top model,\n",
        "they can use `graph-based execution engine <graph-based-execution-engine>` for the experiment,\n",
        "by simply adding the following two lines.\n",
        "\n"
      ]
    },
    {
      "cell_type": "code",
      "execution_count": null,
      "metadata": {
        "id": "Kx6p9KO1o2Nx"
      },
      "outputs": [],
      "source": [
        "exp_config.execution_engine = 'base'\n",
        "export_formatter = 'code'"
      ]
    }
  ],
  "metadata": {
    "kernelspec": {
      "display_name": "Python 3",
      "language": "python",
      "name": "python3"
    },
    "language_info": {
      "codemirror_mode": {
        "name": "ipython",
        "version": 3
      },
      "file_extension": ".py",
      "mimetype": "text/x-python",
      "name": "python",
      "nbconvert_exporter": "python",
      "pygments_lexer": "ipython3",
      "version": "3.8.8"
    },
    "colab": {
      "provenance": [],
      "gpuType": "T4"
    },
    "accelerator": "GPU",
    "gpuClass": "standard"
  },
  "nbformat": 4,
  "nbformat_minor": 0
}