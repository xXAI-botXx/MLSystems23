{
  "nbformat": 4,
  "nbformat_minor": 0,
  "metadata": {
    "colab": {
      "provenance": []
    },
    "kernelspec": {
      "display_name": "Python 3",
      "name": "python3"
    },
    "language_info": {
      "name": "python"
    }
  },
  "cells": [
    {
      "cell_type": "code",
      "metadata": {
        "id": "aXS14MDqjAdS"
      },
      "source": [
        "import warnings\n",
        "warnings.simplefilter(action='ignore', category=FutureWarning)"
      ],
      "execution_count": 1,
      "outputs": []
    },
    {
      "cell_type": "markdown",
      "metadata": {
        "id": "0Y-NMgMlIa-_"
      },
      "source": [
        "# Auto-sklearn\n",
        "Auto-sklearn is an automated machine learning toolkit and a drop-in replacement for a scikit-learn estimator.\n",
        "\n",
        "For more information about the framework, please visit the documentation [here](https://automl.github.io/auto-sklearn/master/)."
      ]
    },
    {
      "cell_type": "markdown",
      "metadata": {
        "id": "q7ihaCc5KtFL"
      },
      "source": [
        "## What you will need to run the code\n",
        "\n",
        "In order to run this code, we are going to first install Auto-sklearn using pip. For more instructions on how to install Auto-sklearn, for example using conda, please check [this](https://automl.github.io/auto-sklearn/master/installation.html)."
      ]
    },
    {
      "cell_type": "code",
      "metadata": {
        "colab": {
          "base_uri": "https://localhost:8080/"
        },
        "id": "HWhGa_OANAMM",
        "outputId": "0740179c-8249-47b7-ff78-4a96f8ce37f4"
      },
      "source": [
        "# For google colab, we need to force the installation of the a scikit learn\n",
        "# version\n",
        "#!pip uninstall -y scikit-learn\n",
        "#!pip install 'scikit-learn>=0.24.0'\n",
        "#!pip uninstall -y distributed\n",
        "#!pip install 'distributed==2.30.1'\n",
        "!pip install -U numpy \n",
        "!pip install auto-sklearn\n",
        "import autosklearn\n",
        "\n",
        "print(\"Using Auto-sklearn version {}\".format(autosklearn.__version__))"
      ],
      "execution_count": 1,
      "outputs": [
        {
          "output_type": "stream",
          "name": "stdout",
          "text": [
            "Looking in indexes: https://pypi.org/simple, https://us-python.pkg.dev/colab-wheels/public/simple/\n",
            "Requirement already satisfied: numpy in /usr/local/lib/python3.10/dist-packages (1.24.3)\n",
            "Looking in indexes: https://pypi.org/simple, https://us-python.pkg.dev/colab-wheels/public/simple/\n",
            "Requirement already satisfied: auto-sklearn in /usr/local/lib/python3.10/dist-packages (0.15.0)\n",
            "Requirement already satisfied: setuptools in /usr/local/lib/python3.10/dist-packages (from auto-sklearn) (67.7.2)\n",
            "Requirement already satisfied: typing-extensions in /usr/local/lib/python3.10/dist-packages (from auto-sklearn) (4.5.0)\n",
            "Requirement already satisfied: distro in /usr/local/lib/python3.10/dist-packages (from auto-sklearn) (1.8.0)\n",
            "Requirement already satisfied: numpy>=1.9.0 in /usr/local/lib/python3.10/dist-packages (from auto-sklearn) (1.24.3)\n",
            "Requirement already satisfied: scipy>=1.7.0 in /usr/local/lib/python3.10/dist-packages (from auto-sklearn) (1.10.1)\n",
            "Requirement already satisfied: joblib in /usr/local/lib/python3.10/dist-packages (from auto-sklearn) (1.2.0)\n",
            "Requirement already satisfied: scikit-learn<0.25.0,>=0.24.0 in /usr/local/lib/python3.10/dist-packages (from auto-sklearn) (0.24.2)\n",
            "Requirement already satisfied: dask>=2021.12 in /usr/local/lib/python3.10/dist-packages (from auto-sklearn) (2023.5.0)\n",
            "Requirement already satisfied: distributed>=2012.12 in /usr/local/lib/python3.10/dist-packages (from auto-sklearn) (2023.5.0)\n",
            "Requirement already satisfied: pyyaml in /usr/local/lib/python3.10/dist-packages (from auto-sklearn) (6.0)\n",
            "Requirement already satisfied: pandas>=1.0 in /usr/local/lib/python3.10/dist-packages (from auto-sklearn) (1.5.3)\n",
            "Requirement already satisfied: liac-arff in /usr/local/lib/python3.10/dist-packages (from auto-sklearn) (2.5.0)\n",
            "Requirement already satisfied: threadpoolctl in /usr/local/lib/python3.10/dist-packages (from auto-sklearn) (3.1.0)\n",
            "Requirement already satisfied: ConfigSpace<0.5,>=0.4.21 in /usr/local/lib/python3.10/dist-packages (from auto-sklearn) (0.4.21)\n",
            "Requirement already satisfied: pynisher<0.7,>=0.6.3 in /usr/local/lib/python3.10/dist-packages (from auto-sklearn) (0.6.4)\n",
            "Requirement already satisfied: pyrfr<0.9,>=0.8.1 in /usr/local/lib/python3.10/dist-packages (from auto-sklearn) (0.8.3)\n",
            "Requirement already satisfied: smac<1.3,>=1.2 in /usr/local/lib/python3.10/dist-packages (from auto-sklearn) (1.2)\n",
            "Requirement already satisfied: cython in /usr/local/lib/python3.10/dist-packages (from ConfigSpace<0.5,>=0.4.21->auto-sklearn) (0.29.34)\n",
            "Requirement already satisfied: pyparsing in /usr/local/lib/python3.10/dist-packages (from ConfigSpace<0.5,>=0.4.21->auto-sklearn) (3.0.9)\n",
            "Requirement already satisfied: click>=8.0 in /usr/local/lib/python3.10/dist-packages (from dask>=2021.12->auto-sklearn) (8.1.3)\n",
            "Requirement already satisfied: cloudpickle>=1.5.0 in /usr/local/lib/python3.10/dist-packages (from dask>=2021.12->auto-sklearn) (2.2.1)\n",
            "Requirement already satisfied: fsspec>=2021.09.0 in /usr/local/lib/python3.10/dist-packages (from dask>=2021.12->auto-sklearn) (2023.4.0)\n",
            "Requirement already satisfied: packaging>=20.0 in /usr/local/lib/python3.10/dist-packages (from dask>=2021.12->auto-sklearn) (23.1)\n",
            "Requirement already satisfied: partd>=1.2.0 in /usr/local/lib/python3.10/dist-packages (from dask>=2021.12->auto-sklearn) (1.4.0)\n",
            "Requirement already satisfied: toolz>=0.10.0 in /usr/local/lib/python3.10/dist-packages (from dask>=2021.12->auto-sklearn) (0.12.0)\n",
            "Requirement already satisfied: importlib-metadata>=4.13.0 in /usr/local/lib/python3.10/dist-packages (from dask>=2021.12->auto-sklearn) (6.6.0)\n",
            "Requirement already satisfied: jinja2>=2.10.3 in /usr/local/lib/python3.10/dist-packages (from distributed>=2012.12->auto-sklearn) (3.1.2)\n",
            "Requirement already satisfied: locket>=1.0.0 in /usr/local/lib/python3.10/dist-packages (from distributed>=2012.12->auto-sklearn) (1.0.0)\n",
            "Requirement already satisfied: msgpack>=1.0.0 in /usr/local/lib/python3.10/dist-packages (from distributed>=2012.12->auto-sklearn) (1.0.5)\n",
            "Requirement already satisfied: psutil>=5.7.0 in /usr/local/lib/python3.10/dist-packages (from distributed>=2012.12->auto-sklearn) (5.9.5)\n",
            "Requirement already satisfied: sortedcontainers>=2.0.5 in /usr/local/lib/python3.10/dist-packages (from distributed>=2012.12->auto-sklearn) (2.4.0)\n",
            "Requirement already satisfied: tblib>=1.6.0 in /usr/local/lib/python3.10/dist-packages (from distributed>=2012.12->auto-sklearn) (1.7.0)\n",
            "Requirement already satisfied: tornado>=6.0.3 in /usr/local/lib/python3.10/dist-packages (from distributed>=2012.12->auto-sklearn) (6.3.1)\n",
            "Requirement already satisfied: urllib3>=1.24.3 in /usr/local/lib/python3.10/dist-packages (from distributed>=2012.12->auto-sklearn) (1.26.15)\n",
            "Requirement already satisfied: zict>=2.2.0 in /usr/local/lib/python3.10/dist-packages (from distributed>=2012.12->auto-sklearn) (3.0.0)\n",
            "Requirement already satisfied: python-dateutil>=2.8.1 in /usr/local/lib/python3.10/dist-packages (from pandas>=1.0->auto-sklearn) (2.8.2)\n",
            "Requirement already satisfied: pytz>=2020.1 in /usr/local/lib/python3.10/dist-packages (from pandas>=1.0->auto-sklearn) (2022.7.1)\n",
            "Requirement already satisfied: emcee>=3.0.0 in /usr/local/lib/python3.10/dist-packages (from smac<1.3,>=1.2->auto-sklearn) (3.1.4)\n",
            "Requirement already satisfied: zipp>=0.5 in /usr/local/lib/python3.10/dist-packages (from importlib-metadata>=4.13.0->dask>=2021.12->auto-sklearn) (3.15.0)\n",
            "Requirement already satisfied: MarkupSafe>=2.0 in /usr/local/lib/python3.10/dist-packages (from jinja2>=2.10.3->distributed>=2012.12->auto-sklearn) (2.1.2)\n",
            "Requirement already satisfied: six>=1.5 in /usr/local/lib/python3.10/dist-packages (from python-dateutil>=2.8.1->pandas>=1.0->auto-sklearn) (1.16.0)\n",
            "Using Auto-sklearn version 0.15.0\n"
          ]
        }
      ]
    },
    {
      "cell_type": "markdown",
      "metadata": {
        "id": "sUxbg5B2J8lU"
      },
      "source": [
        "## First Step: Load data\n",
        "\n",
        "Auto-sklearn can work with multiple input data formats (python lists, numpy arrays, sparse arrays and pandas data-frames).  \n",
        "\n",
        "For this example we are going to be using the [credit-g dataset](https://www.openml.org/d/31) which is a binary classification problem. This means that we have to find an estimator that is able to predict between 2 categories, *'bad'* and *'good'*.\n"
      ]
    },
    {
      "cell_type": "code",
      "metadata": {
        "colab": {
          "base_uri": "https://localhost:8080/"
        },
        "id": "kxGRtUSmJ7ki",
        "outputId": "abd32361-fd6e-4ff2-a323-bd2888ae639c"
      },
      "source": [
        "import sklearn.datasets\n",
        "import sklearn.model_selection\n",
        "\n",
        "# We fetch the data using the openml.org\n",
        "X, y = sklearn.datasets.fetch_openml(data_id=31, return_X_y=True, as_frame=True)\n",
        "\n",
        "# Split the data into train and test\n",
        "X_train, X_test, y_train, y_test = sklearn.model_selection.train_test_split(\n",
        "    X, y, test_size=0.4, random_state=42\n",
        ")\n",
        "\n",
        "X_train.info()"
      ],
      "execution_count": 2,
      "outputs": [
        {
          "output_type": "stream",
          "name": "stdout",
          "text": [
            "<class 'pandas.core.frame.DataFrame'>\n",
            "Int64Index: 600 entries, 24 to 102\n",
            "Data columns (total 20 columns):\n",
            " #   Column                  Non-Null Count  Dtype   \n",
            "---  ------                  --------------  -----   \n",
            " 0   checking_status         600 non-null    category\n",
            " 1   duration                600 non-null    float64 \n",
            " 2   credit_history          600 non-null    category\n",
            " 3   purpose                 600 non-null    category\n",
            " 4   credit_amount           600 non-null    float64 \n",
            " 5   savings_status          600 non-null    category\n",
            " 6   employment              600 non-null    category\n",
            " 7   installment_commitment  600 non-null    float64 \n",
            " 8   personal_status         600 non-null    category\n",
            " 9   other_parties           600 non-null    category\n",
            " 10  residence_since         600 non-null    float64 \n",
            " 11  property_magnitude      600 non-null    category\n",
            " 12  age                     600 non-null    float64 \n",
            " 13  other_payment_plans     600 non-null    category\n",
            " 14  housing                 600 non-null    category\n",
            " 15  existing_credits        600 non-null    float64 \n",
            " 16  job                     600 non-null    category\n",
            " 17  num_dependents          600 non-null    float64 \n",
            " 18  own_telephone           600 non-null    category\n",
            " 19  foreign_worker          600 non-null    category\n",
            "dtypes: category(13), float64(7)\n",
            "memory usage: 47.6 KB\n"
          ]
        }
      ]
    },
    {
      "cell_type": "markdown",
      "metadata": {
        "id": "Ovb0DEDfTRz1"
      },
      "source": [
        "## Second Step: Manually build a pipeline\n",
        "\n",
        "For this tutorial, we are going to implement some traditional machine learning models ([GradientBoosting](https://scikit-learn.org/stable/modules/generated/sklearn.ensemble.GradientBoostingClassifier.html), [Support Vector Machines](https://scikit-learn.org/stable/modules/svm.html), [Decision Tree Classifier](https://scikit-learn.org/stable/modules/tree.html)) using [scikit-learn](https://scikit-learn.org/stable/index.html). Then we are going to show how we can achieve an even better performance than these traditional models, by using Auto-Sklearn.\n"
      ]
    },
    {
      "cell_type": "markdown",
      "metadata": {
        "id": "jx8gyRP0cL_N"
      },
      "source": [
        "### C-Support Vector Classification\n",
        "\n"
      ]
    },
    {
      "cell_type": "code",
      "metadata": {
        "colab": {
          "base_uri": "https://localhost:8080/"
        },
        "id": "jkhGLtCCT0i6",
        "outputId": "35c7b43d-d2b1-4c58-886b-cde2cc23c8c4"
      },
      "source": [
        "from sklearn.compose import ColumnTransformer\n",
        "from sklearn.metrics import accuracy_score\n",
        "from sklearn.pipeline import Pipeline\n",
        "from sklearn.preprocessing import OneHotEncoder\n",
        "from sklearn.preprocessing import StandardScaler\n",
        "from sklearn.svm import SVC\n",
        "\n",
        "\n",
        "# Create the estimator using the default parameters from the library\n",
        "estimator_svc = SVC(\n",
        "    C=1.0, kernel='rbf', gamma='scale', shrinking=True, tol=1e-3,\n",
        "    cache_size=200, verbose=False, max_iter=-1, random_state=42\n",
        ")\n",
        "\n",
        "# build and fit the pipeline\n",
        "categorical_columns = [col for col in X_train.columns \n",
        "                       if X[col].dtype.name == 'category']\n",
        "encoder = ColumnTransformer(transformers = [\n",
        "  ('cat', OneHotEncoder(handle_unknown='ignore'), categorical_columns)\n",
        "], remainder='passthrough')\n",
        "pipeline_svc = Pipeline([\n",
        "  ('encoder', encoder),\n",
        "  ('scaler', StandardScaler()),                   \n",
        "  ('svc', estimator_svc),\n",
        "])\n",
        "pipeline_svc.fit(X_train, y_train)\n",
        "\n",
        "# Score the model\n",
        "prediction = pipeline_svc.predict(X_test)\n",
        "performance_svc = accuracy_score(y_test, prediction)\n",
        "print(f\"SVC performance is {performance_svc}\")"
      ],
      "execution_count": 3,
      "outputs": [
        {
          "output_type": "stream",
          "name": "stdout",
          "text": [
            "SVC performance is 0.7675\n"
          ]
        }
      ]
    },
    {
      "cell_type": "markdown",
      "metadata": {
        "id": "YzcQy2lFnUVY"
      },
      "source": [
        "### GradientBoostingClassifier"
      ]
    },
    {
      "cell_type": "code",
      "metadata": {
        "colab": {
          "base_uri": "https://localhost:8080/"
        },
        "id": "LmWaffHyTRCp",
        "outputId": "46c7ad9d-ee82-4874-acfb-afbc3943fa74"
      },
      "source": [
        "from sklearn.ensemble import GradientBoostingClassifier\n",
        "\n",
        "# Create the estimator using default parameters from the library\n",
        "estimator_gradboost = GradientBoostingClassifier(\n",
        "    learning_rate=0.1, n_estimators=100, subsample=1.0, \n",
        "    criterion='friedman_mse', min_samples_split=2, min_samples_leaf=1, \n",
        "    min_weight_fraction_leaf=0.0, max_depth=3, min_impurity_decrease=0.0,\n",
        "    random_state=42)\n",
        "\n",
        "# Translate the categorical columns to \n",
        "# a numerical value\n",
        "categorical_columns = [col for col in X_train.columns \n",
        "                       if X[col].dtype.name == 'category']\n",
        "encoder = ColumnTransformer(transformers = [\n",
        "  ('cat', OneHotEncoder(handle_unknown='ignore'), categorical_columns)\n",
        "], remainder='passthrough')\n",
        "\n",
        "\n",
        "# Build and fit the pipeline\n",
        "pipeline_gradboost = Pipeline([\n",
        "  ('encoder', encoder),\n",
        "  ('gradboost', estimator_gradboost),\n",
        "])\n",
        "pipeline_gradboost.fit(X_train, y_train)\n",
        "\n",
        "# Score the model\n",
        "prediction = pipeline_gradboost.predict(X_test)\n",
        "performance_gradboost = accuracy_score(y_test, prediction)\n",
        "print(f\"GradientBooster performance is {performance_gradboost}\")"
      ],
      "execution_count": 4,
      "outputs": [
        {
          "output_type": "stream",
          "name": "stdout",
          "text": [
            "GradientBooster performance is 0.735\n"
          ]
        }
      ]
    },
    {
      "cell_type": "markdown",
      "metadata": {
        "id": "ur1jyA7Ncc8M"
      },
      "source": [
        "### Decision tree classifier"
      ]
    },
    {
      "cell_type": "code",
      "metadata": {
        "colab": {
          "base_uri": "https://localhost:8080/"
        },
        "id": "WE_s9S3Pef0E",
        "outputId": "a1745da3-9fdf-4b4d-e751-8d96a9274a71"
      },
      "source": [
        "from sklearn.tree import DecisionTreeClassifier\n",
        "\n",
        "# Create the estimator using the default parameters from the library\n",
        "estimator_tree = DecisionTreeClassifier(random_state=42)\n",
        "\n",
        "# build and fit the pipeline\n",
        "encoder = ColumnTransformer(transformers = [\n",
        "  ('cat', OneHotEncoder(handle_unknown='ignore'), categorical_columns)\n",
        "], remainder='passthrough')\n",
        "pipeline_tree = Pipeline([\n",
        "  ('encoder', encoder),\n",
        "  ('DecisionTree', estimator_tree),\n",
        "])\n",
        "pipeline_tree.fit(X_train, y_train)\n",
        "\n",
        "# Predict on the training data\n",
        "prediction = pipeline_tree.predict(X_test)\n",
        "\n",
        "# Evaluate the performance of the model\n",
        "performance_tree = accuracy_score(y_test, prediction)\n",
        "print(f\"Decision Tree performance is {performance_tree}\")"
      ],
      "execution_count": 5,
      "outputs": [
        {
          "output_type": "stream",
          "name": "stdout",
          "text": [
            "Decision Tree performance is 0.7075\n"
          ]
        }
      ]
    },
    {
      "cell_type": "markdown",
      "metadata": {
        "id": "cjIrVVFCf7PP"
      },
      "source": [
        "# Third Step: Use Auto-sklearn as a drop-in-replacement\n"
      ]
    },
    {
      "cell_type": "code",
      "metadata": {
        "colab": {
          "base_uri": "https://localhost:8080/"
        },
        "id": "K6a9W6xef7bI",
        "outputId": "1ffc4648-d043-4cb6-9c8e-758fe7d67dea"
      },
      "source": [
        "import autosklearn.classification\n",
        "\n",
        "# Create and train the estimator \n",
        "estimator_askl = autosklearn.classification.AutoSklearnClassifier(\n",
        "    time_left_for_this_task=300, \n",
        "    seed=42, \n",
        "    resampling_strategy='cv',\n",
        "    n_jobs=1,\n",
        ")\n",
        "estimator_askl.fit(X_train, y_train)\n",
        "\n",
        "# Score the model\n",
        "prediction = estimator_askl.predict(X_test)\n",
        "performance_askl = accuracy_score(y_test, prediction)\n",
        "print(f\"Auto-Sklearn Classifier performance is {performance_askl}\")"
      ],
      "execution_count": 6,
      "outputs": [
        {
          "output_type": "stream",
          "name": "stderr",
          "text": [
            "/usr/local/lib/python3.10/dist-packages/autosklearn/data/target_validator.py:187: UserWarning: Fitting transformer with a pandas series which has the dtype category. Inverse transform may not be able preserve dtype when converting to np.ndarray\n",
            "  warnings.warn(\n"
          ]
        },
        {
          "output_type": "stream",
          "name": "stdout",
          "text": [
            "Auto-Sklearn Classifier performance is 0.785\n"
          ]
        }
      ]
    },
    {
      "cell_type": "code",
      "metadata": {
        "colab": {
          "base_uri": "https://localhost:8080/",
          "height": 302
        },
        "id": "sQojc2E6jIWA",
        "outputId": "8924b187-8c87-494f-ced2-8d3da6500ed5"
      },
      "source": [
        "import pandas as pd\n",
        "from google.colab import data_table\n",
        "\n",
        "# By using Auto-Sklearn on can achieve a better performance!\n",
        "data_table.DataTable(\n",
        "pd.DataFrame(\n",
        "    [\n",
        "     {'Model': 'Auto-Sklearn Classifier', 'Accuracy': performance_askl},\n",
        "     {'Model': 'GradientBoosting', 'Accuracy': performance_gradboost},\n",
        "     {'Model': 'Decision Tree Classifier', 'Accuracy': performance_tree},\n",
        "     {'Model': 'Support Vector Classifier', 'Accuracy': performance_svc},\n",
        "     ]\n",
        "))"
      ],
      "execution_count": 7,
      "outputs": [
        {
          "output_type": "execute_result",
          "data": {
            "text/html": [
              "<div>\n",
              "<style scoped>\n",
              "    .dataframe tbody tr th:only-of-type {\n",
              "        vertical-align: middle;\n",
              "    }\n",
              "\n",
              "    .dataframe tbody tr th {\n",
              "        vertical-align: top;\n",
              "    }\n",
              "\n",
              "    .dataframe thead th {\n",
              "        text-align: right;\n",
              "    }\n",
              "</style>\n",
              "<table border=\"1\" class=\"dataframe\">\n",
              "  <thead>\n",
              "    <tr style=\"text-align: right;\">\n",
              "      <th></th>\n",
              "      <th>Model</th>\n",
              "      <th>Accuracy</th>\n",
              "    </tr>\n",
              "  </thead>\n",
              "  <tbody>\n",
              "    <tr>\n",
              "      <th>0</th>\n",
              "      <td>Auto-Sklearn Classifier</td>\n",
              "      <td>0.7850</td>\n",
              "    </tr>\n",
              "    <tr>\n",
              "      <th>1</th>\n",
              "      <td>GradientBoosting</td>\n",
              "      <td>0.7350</td>\n",
              "    </tr>\n",
              "    <tr>\n",
              "      <th>2</th>\n",
              "      <td>Decision Tree Classifier</td>\n",
              "      <td>0.7075</td>\n",
              "    </tr>\n",
              "    <tr>\n",
              "      <th>3</th>\n",
              "      <td>Support Vector Classifier</td>\n",
              "      <td>0.7675</td>\n",
              "    </tr>\n",
              "  </tbody>\n",
              "</table>\n",
              "</div>"
            ],
            "application/vnd.google.colaboratory.module+javascript": "\n      import \"https://ssl.gstatic.com/colaboratory/data_table/99dac6621f6ae8c4/data_table.js\";\n\n      window.createDataTable({\n        data: [[{\n            'v': 0,\n            'f': \"0\",\n        },\n\"Auto-Sklearn Classifier\",\n{\n            'v': 0.785,\n            'f': \"0.785\",\n        }],\n [{\n            'v': 1,\n            'f': \"1\",\n        },\n\"GradientBoosting\",\n{\n            'v': 0.735,\n            'f': \"0.735\",\n        }],\n [{\n            'v': 2,\n            'f': \"2\",\n        },\n\"Decision Tree Classifier\",\n{\n            'v': 0.7075,\n            'f': \"0.7075\",\n        }],\n [{\n            'v': 3,\n            'f': \"3\",\n        },\n\"Support Vector Classifier\",\n{\n            'v': 0.7675,\n            'f': \"0.7675\",\n        }]],\n        columns: [[\"number\", \"index\"], [\"string\", \"Model\"], [\"number\", \"Accuracy\"]],\n        columnOptions: [{\"width\": \"1px\", \"className\": \"index_column\"}],\n        rowsPerPage: 25,\n        helpUrl: \"https://colab.research.google.com/notebooks/data_table.ipynb\",\n        suppressOutputScrolling: true,\n        minimumWidth: undefined,\n      });\n    ",
            "text/plain": [
              "<google.colab.data_table.DataTable object>"
            ]
          },
          "metadata": {},
          "execution_count": 7
        }
      ]
    }
  ]
}