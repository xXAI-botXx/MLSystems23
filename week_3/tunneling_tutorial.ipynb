{
  "cells": [
    {
      "cell_type": "markdown",
      "metadata": {
        "id": "0-56Kv9IXfTO"
      },
      "source": [
        "# Tunneling network connections\n",
        "\n",
        "## Problem\n",
        "Often, especially when using Cloud services, network connections to locally started servers are blocked from the outside. Example: we can start a server on a Colab instance, but this not reachable, hence useless...\n",
        "\n",
        "## Solution: tunneling of network connections"
      ]
    },
    {
      "cell_type": "markdown",
      "metadata": {
        "id": "DJzYv1nhXfTS"
      },
      "source": [
        "### via SSH \n",
        "* requires ssh access to machine where we have enough rights, like own laptop, own server\n",
        "\n",
        "![image.png](https://goteleport.com/blog/_next/image/?url=%2Fblog%2F_next%2Fstatic%2Fmedia%2Fremote-port-forwarding.eb42e3f9.png&w=828&q=75)\n",
        "\n",
        "```\n",
        "bash $ ssh -R 80:127.0.0.1:3000 user@<remote_server_ip>\n",
        "\n",
        "```"
      ]
    },
    {
      "cell_type": "markdown",
      "metadata": {
        "id": "BiYnUVfxXfTT"
      },
      "source": [
        "### via ngrok\n",
        "* web service allowing easy setup of reverse tunnels \n",
        "\n",
        "* Python API: https://pyngrok.readthedocs.io/en/latest/index.html\n",
        "![image.png](https://pyngrok.readthedocs.io/en/latest/_images/logo.png)"
      ]
    },
    {
      "cell_type": "code",
      "execution_count": 1,
      "metadata": {
        "colab": {
          "base_uri": "https://localhost:8080/"
        },
        "id": "LOVqtErAbPvd",
        "outputId": "aa8d6f3f-de62-4b79-e3c5-beb87bcf4e5f"
      },
      "outputs": [
        {
          "output_type": "stream",
          "name": "stdout",
          "text": [
            "\u001b[2K     \u001b[90m━━━━━━━━━━━━━━━━━━━━━━━━━━━━━━━━━━━━━━━━\u001b[0m \u001b[32m17.7/17.7 MB\u001b[0m \u001b[31m39.6 MB/s\u001b[0m eta \u001b[36m0:00:00\u001b[0m\n",
            "\u001b[2K     \u001b[90m━━━━━━━━━━━━━━━━━━━━━━━━━━━━━━━━━━━━━━━━\u001b[0m \u001b[32m79.5/79.5 kB\u001b[0m \u001b[31m5.5 MB/s\u001b[0m eta \u001b[36m0:00:00\u001b[0m\n",
            "\u001b[2K     \u001b[90m━━━━━━━━━━━━━━━━━━━━━━━━━━━━━━━━━━━━━━━━\u001b[0m \u001b[32m82.7/82.7 kB\u001b[0m \u001b[31m4.3 MB/s\u001b[0m eta \u001b[36m0:00:00\u001b[0m\n",
            "\u001b[?25h  Preparing metadata (setup.py) ... \u001b[?25l\u001b[?25hdone\n",
            "\u001b[2K     \u001b[90m━━━━━━━━━━━━━━━━━━━━━━━━━━━━━━━━━━━━━━\u001b[0m \u001b[32m184.3/184.3 kB\u001b[0m \u001b[31m11.2 MB/s\u001b[0m eta \u001b[36m0:00:00\u001b[0m\n",
            "\u001b[2K     \u001b[90m━━━━━━━━━━━━━━━━━━━━━━━━━━━━━━━━━━━━━━\u001b[0m \u001b[32m212.3/212.3 kB\u001b[0m \u001b[31m14.0 MB/s\u001b[0m eta \u001b[36m0:00:00\u001b[0m\n",
            "\u001b[2K     \u001b[90m━━━━━━━━━━━━━━━━━━━━━━━━━━━━━━━━━━━━━━━\u001b[0m \u001b[32m147.5/147.5 kB\u001b[0m \u001b[31m7.9 MB/s\u001b[0m eta \u001b[36m0:00:00\u001b[0m\n",
            "\u001b[2K     \u001b[90m━━━━━━━━━━━━━━━━━━━━━━━━━━━━━━━━━━━━━━━━\u001b[0m \u001b[32m78.7/78.7 kB\u001b[0m \u001b[31m5.8 MB/s\u001b[0m eta \u001b[36m0:00:00\u001b[0m\n",
            "\u001b[2K     \u001b[90m━━━━━━━━━━━━━━━━━━━━━━━━━━━━━━━━━━━━━━━━\u001b[0m \u001b[32m62.7/62.7 kB\u001b[0m \u001b[31m5.0 MB/s\u001b[0m eta \u001b[36m0:00:00\u001b[0m\n",
            "\u001b[?25h  Building wheel for databricks-cli (setup.py) ... \u001b[?25l\u001b[?25hdone\n"
          ]
        }
      ],
      "source": [
        "#install MLflow\n",
        "!pip install mlflow --quiet"
      ]
    },
    {
      "cell_type": "code",
      "execution_count": 2,
      "metadata": {
        "id": "clEVAQGMbT0u"
      },
      "outputs": [],
      "source": [
        "import mlflow"
      ]
    },
    {
      "cell_type": "code",
      "execution_count": 3,
      "metadata": {
        "id": "KM5PBveKbaL1"
      },
      "outputs": [],
      "source": [
        "#start local experiment\n",
        "with mlflow.start_run(run_name=\"MLflow on Colab\"):\n",
        "  mlflow.log_metric(\"m1\", 2.0)\n",
        "  mlflow.log_param(\"p1\", \"mlflow-colab\")"
      ]
    },
    {
      "cell_type": "code",
      "execution_count": 4,
      "metadata": {
        "id": "voxMyV9qbe4S"
      },
      "outputs": [],
      "source": [
        "# run tracking UI in the background\n",
        "get_ipython().system_raw(\"mlflow ui --port 5000 &\")# run tracking UI in the background"
      ]
    },
    {
      "cell_type": "code",
      "execution_count": 5,
      "metadata": {
        "colab": {
          "base_uri": "https://localhost:8080/"
        },
        "id": "liYURcmobj20",
        "outputId": "674e65b9-4089-40ab-b296-aaf562672da6"
      },
      "outputs": [
        {
          "output_type": "stream",
          "name": "stdout",
          "text": [
            "<!doctype html><html lang=\"en\"><head><meta charset=\"utf-8\"/><meta name=\"viewport\" content=\"width=device-width,initial-scale=1,shrink-to-fit=no\"/><link rel=\"shortcut icon\" href=\"./static-files/favicon.ico\"/><meta name=\"theme-color\" content=\"#000000\"/><link rel=\"manifest\" href=\"./static-files/manifest.json\"/><title>MLflow</title><script defer=\"defer\" src=\"static-files/static/js/main.a75bee39.js\"></script><link href=\"static-files/static/css/main.45d71c4b.css\" rel=\"stylesheet\"></head><body><noscript>You need to enable JavaScript to run this app.</noscript><div id=\"root\"></div><div id=\"modal\"></div></body></html>"
          ]
        }
      ],
      "source": [
        "#test\n",
        "!curl localhost:5000"
      ]
    },
    {
      "cell_type": "code",
      "execution_count": 7,
      "metadata": {
        "colab": {
          "base_uri": "https://localhost:8080/"
        },
        "id": "MrJhP1CBSWdi",
        "outputId": "13a9dc00-5b92-4b3f-8bf0-3d239b8c7aea"
      },
      "outputs": [
        {
          "output_type": "stream",
          "name": "stderr",
          "text": [
            "WARNING:pyngrok.process.ngrok:t=2023-04-21T13:02:55+0000 lvl=warn msg=\"ngrok config file found at legacy location, move to XDG location\" xdg_path=/root/.config/ngrok/ngrok.yml legacy_path=/root/.ngrok2/ngrok.yml\n"
          ]
        },
        {
          "output_type": "stream",
          "name": "stdout",
          "text": [
            "MLflow Tracking UI: NgrokTunnel: \"https://3ad6-34-125-224-108.ngrok-free.app\" -> \"http://localhost:5000\"\n"
          ]
        }
      ],
      "source": [
        "# create remote tunnel using ngrok.com to allow local port access\n",
        "# borrowed from https://colab.research.google.com/github/alfozan/MLflow-GBRT-demo/blob/master/MLflow-GBRT-demo.ipynb#scrollTo=4h3bKHMYUIG6\n",
        "!pip install pyngrok --quiet\n",
        "from pyngrok import ngrok\n",
        "\n",
        "# Terminate open tunnels if exist\n",
        "ngrok.kill()\n",
        "\n",
        "# Setting the authtoken (optional)\n",
        "# Get your authtoken from https://dashboard.ngrok.com/auth\n",
        "NGROK_AUTH_TOKEN = \"2Ojm21zFiqNrq18YP2z2nSza1YZ_atJFZdcC2Wdi9LBpT2Fq\"\n",
        "ngrok.set_auth_token(NGROK_AUTH_TOKEN)\n",
        "\n",
        "# Open an HTTPs tunnel on port 5000 for http://localhost:5000\n",
        "public_url = ngrok.connect(\"localhost:5000\", bind_tls=True)\n",
        "print(\"MLflow Tracking UI:\", public_url)"
      ]
    },
    {
      "cell_type": "code",
      "execution_count": 9,
      "metadata": {
        "id": "xgMNImW8tFy1",
        "outputId": "fe800a81-e2c8-4c34-ddce-9055c9eb4bc7",
        "colab": {
          "base_uri": "https://localhost:8080/"
        }
      },
      "outputs": [
        {
          "output_type": "stream",
          "name": "stdout",
          "text": [
            "mlflow: no process found\n"
          ]
        }
      ],
      "source": [
        "!killall mlflow"
      ]
    },
    {
      "cell_type": "code",
      "source": [
        "!ps aux"
      ],
      "metadata": {
        "id": "kNxIfLB29IXj",
        "outputId": "c5c66c0f-a82c-43e7-87a9-91b9d443c8c4",
        "colab": {
          "base_uri": "https://localhost:8080/"
        }
      },
      "execution_count": 10,
      "outputs": [
        {
          "output_type": "stream",
          "name": "stdout",
          "text": [
            "USER         PID %CPU %MEM    VSZ   RSS TTY      STAT START   TIME COMMAND\n",
            "root           1  0.0  0.0   1012     8 ?        Ss   12:54   0:00 /sbin/docker-\n",
            "root           7  0.2  0.3 896812 49240 ?        Sl   12:54   0:03 /tools/node/b\n",
            "root          19  0.0  0.0   5524   580 ?        Ss   12:55   0:00 tail -n +0 -F\n",
            "root          29  0.0  0.0   6904  3216 ?        S    12:55   0:00 /bin/bash -e \n",
            "root          31  0.0  0.0   6904  1764 ?        S    12:55   0:00 /bin/bash -e \n",
            "root          33  0.0  0.0 721768 12520 ?        Sl   12:55   0:00 /usr/colab/bi\n",
            "root          59  0.5  0.0      0     0 ?        Z    12:55   0:07 [python3] <de\n",
            "root          60  0.0  0.3  73436 40048 ?        S    12:55   0:00 python3 /usr/\n",
            "root          77  0.4  1.1 556532 152628 ?       Sl   12:55   0:05 /usr/bin/pyth\n",
            "root          78  0.1  0.0 712884  8436 ?        Sl   12:55   0:01 /usr/local/bi\n",
            "root         137  0.9  1.4 1349928 187332 ?      Ssl  12:55   0:11 /usr/bin/pyth\n",
            "root         179  0.2  0.1 537860 14416 ?        Sl   12:55   0:03 /usr/bin/pyth\n",
            "root         495  0.0  0.1  30280 22548 ?        S    12:56   0:00 /usr/bin/pyth\n",
            "root         500  0.1  1.0 463448 138936 ?       Sl   12:56   0:02 /usr/bin/pyth\n",
            "root         501  0.1  1.0 463444 139300 ?       Sl   12:56   0:02 /usr/bin/pyth\n",
            "root         502  0.1  1.0 463444 139300 ?       Sl   12:56   0:02 /usr/bin/pyth\n",
            "root         503  0.1  1.0 463444 139300 ?       Sl   12:56   0:02 /usr/bin/pyth\n",
            "root        2201  0.4  0.2 732964 32532 ?        Sl   13:02   0:03 /usr/local/li\n",
            "root        2225  1.8  1.1 939268 158264 ?       Sl   13:02   0:14 node /datalab\n",
            "root        5368  0.0  0.0   5488   580 ?        S    13:15   0:00 sleep 1\n",
            "root        5369  0.0  0.0   8900  3272 ?        R    13:15   0:00 ps aux\n"
          ]
        }
      ]
    }
  ],
  "metadata": {
    "colab": {
      "provenance": []
    },
    "kernelspec": {
      "display_name": "Python 3 (ipykernel)",
      "language": "python",
      "name": "python3"
    },
    "language_info": {
      "codemirror_mode": {
        "name": "ipython",
        "version": 3
      },
      "file_extension": ".py",
      "mimetype": "text/x-python",
      "name": "python",
      "nbconvert_exporter": "python",
      "pygments_lexer": "ipython3",
      "version": "3.9.12"
    }
  },
  "nbformat": 4,
  "nbformat_minor": 0
}