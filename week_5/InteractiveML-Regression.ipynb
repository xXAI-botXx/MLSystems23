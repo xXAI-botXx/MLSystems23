{
  "cells": [
    {
      "cell_type": "markdown",
      "metadata": {
        "id": "xj4ygRkQkQVu"
      },
      "source": [
        "# Interactive Machine Learning Demo - Linear Regression"
      ]
    },
    {
      "cell_type": "code",
      "execution_count": 1,
      "metadata": {
        "collapsed": true,
        "id": "zblizp1AkQVy"
      },
      "outputs": [],
      "source": [
        "from ipywidgets import interact, interactive, IntSlider, Layout, interact_manual\n",
        "import ipywidgets as widgets\n",
        "from IPython.display import display\n",
        "\n",
        "import numpy as np\n",
        "import matplotlib.pyplot as plt\n",
        "#%matplotlib inline\n",
        "\n",
        "import pandas as pd"
      ]
    },
    {
      "cell_type": "markdown",
      "metadata": {
        "id": "u20HW2SakQV1"
      },
      "source": [
        "## Linear Regression and Regularization"
      ]
    },
    {
      "cell_type": "markdown",
      "metadata": {
        "id": "fxYmJdLukQV1"
      },
      "source": [
        "### Variables"
      ]
    },
    {
      "cell_type": "code",
      "execution_count": 9,
      "metadata": {
        "collapsed": true,
        "id": "0qDvznjBkQV2"
      },
      "outputs": [],
      "source": [
        "N_samples = 25\n",
        "x_min = -5\n",
        "x_max = 5\n",
        "x1= np.linspace(x_min,x_max,N_samples*5)\n",
        "x= np.random.choice(x1,size=N_samples)\n",
        "noise_std=1\n",
        "noise_mean=0\n",
        "noise_magnitude = 2"
      ]
    },
    {
      "cell_type": "markdown",
      "metadata": {
        "id": "UdZlgrBYkQV3"
      },
      "source": [
        "### Function definitions (ideal fitting function and actual data generating function with noise)"
      ]
    },
    {
      "cell_type": "code",
      "execution_count": 10,
      "metadata": {
        "collapsed": true,
        "id": "cb4n3uBqkQV4"
      },
      "outputs": [],
      "source": [
        "def func_gen(N_samples,x_min,x_max,noise_magnitude,noise_sd,noise_mean):\n",
        "    x1= np.linspace(x_min,x_max,N_samples*5)\n",
        "    x= np.random.choice(x1,size=N_samples)\n",
        "    y=2*x-0.6*x**2+0.2*x**3+18*np.sin(x)\n",
        "    y1=2*x1-0.6*x1**2+0.2*x1**3+18*np.sin(x1)\n",
        "    y= y+noise_magnitude*np.random.normal(loc=noise_mean,scale=noise_sd,size=N_samples)\n",
        "    plt.figure(figsize=(8,5))\n",
        "    plt.plot(x1,y1,c='k',lw=2)\n",
        "    plt.scatter(x,y,edgecolors='k',c='yellow',s=60)\n",
        "    plt.grid(True)\n",
        "    plt.show()\n",
        "    return (x,y,x1,y1)"
      ]
    },
    {
      "cell_type": "markdown",
      "metadata": {
        "id": "bN1_8_SjkQV4"
      },
      "source": [
        "### Call the 'interactive' widget with the data generating function, which also plots the data real-time"
      ]
    },
    {
      "cell_type": "code",
      "execution_count": 11,
      "metadata": {
        "scrolled": false,
        "colab": {
          "base_uri": "https://localhost:8080/",
          "height": 637,
          "referenced_widgets": [
            "08f4883b4769436eb63382b72e90b37d",
            "842fec9b203442c19e97026d7c36973d",
            "f3d2331af8ac411caf45092eb3c74771",
            "af601bc48fc34f1b8bb06e13df5131d0",
            "9056c8d01b54406abfd0b9020acc73f9",
            "fccaf83e1278416599ca3102ca78cb03",
            "267e6fef57ac4196ac6451b646f00d6f",
            "d3ee5f9f89b34db195812a4715a56337",
            "47f46b22a9db4e19835a1dea6136d71d",
            "db5bfd4afee5420d91b3a1b9ab452b69",
            "801af389a30a4b43805378eca965e972",
            "7789a65dcc3b4d799e2f176fc8c9ce26",
            "2c5968a2297a40ec8c0e6e0adda7e12d",
            "e682ed680c904d5cb6a95b04ebb3517d",
            "ea1631e68e464e1db1072f12e56030ae",
            "fc321eaa0179428ea92aa2b7a061e1f9",
            "62b266c65df8482da73edbcc1f89d0e1",
            "1c3b89d7c8d94e15b1fd16718e76307e",
            "2b13ab9c7f6e4ba2b053445f5c26d63d",
            "c67546a91dec42e3a00915ea74d49fb8",
            "e687048c10bc450eab6a063d23a6b5ef",
            "428e1f97a5f1402ab1d3d9edff78eeaf"
          ]
        },
        "id": "vbT3XJggkQV5",
        "outputId": "30ac7d5a-d7ba-4192-a758-c40a6d09af33"
      },
      "outputs": [
        {
          "output_type": "display_data",
          "data": {
            "text/plain": [
              "interactive(children=(Dropdown(description='N_samples', options={'Low (50 samples)': 50, 'High (200 samples)':…"
            ],
            "application/vnd.jupyter.widget-view+json": {
              "version_major": 2,
              "version_minor": 0,
              "model_id": "08f4883b4769436eb63382b72e90b37d"
            }
          },
          "metadata": {}
        }
      ],
      "source": [
        "p=interactive(func_gen,N_samples={'Low (50 samples)':50,'High (200 samples)':200},x_min=(-5,0,1), x_max=(0,5,1),\n",
        "              noise_magnitude=(0,5,1),noise_sd=(0.1,1,0.1),noise_mean=(-2,2,0.5))\n",
        "display(p)"
      ]
    },
    {
      "cell_type": "markdown",
      "metadata": {
        "id": "uuZSFLd-kQV8"
      },
      "source": [
        "### Extract the data"
      ]
    },
    {
      "cell_type": "code",
      "execution_count": 12,
      "metadata": {
        "collapsed": true,
        "id": "B1TmT8L8kQV8"
      },
      "outputs": [],
      "source": [
        "x,y,x1,y1 = p.result"
      ]
    },
    {
      "cell_type": "markdown",
      "metadata": {
        "id": "9enk3suykQV9"
      },
      "source": [
        "### Load scikit-learn libraries"
      ]
    },
    {
      "cell_type": "code",
      "execution_count": 13,
      "metadata": {
        "collapsed": true,
        "id": "ScmV8DDdkQV9"
      },
      "outputs": [],
      "source": [
        "from sklearn.model_selection import train_test_split\n",
        "from sklearn.preprocessing import PolynomialFeatures\n",
        "from sklearn.linear_model import LassoCV\n",
        "from sklearn.linear_model import RidgeCV\n",
        "from sklearn.linear_model import LinearRegression\n",
        "from sklearn.pipeline import make_pipeline"
      ]
    },
    {
      "cell_type": "markdown",
      "metadata": {
        "id": "K2Hr7a0RkQV-"
      },
      "source": [
        "### Machine learning (regression) model encapsulated within a function "
      ]
    },
    {
      "cell_type": "code",
      "execution_count": 18,
      "metadata": {
        "id": "d_07veRrkQV_"
      },
      "outputs": [],
      "source": [
        "lasso_eps = 0.01\n",
        "lasso_nalpha=20\n",
        "lasso_iter=3000\n",
        "ridge_alphas = (0.001,0.01,0.1,1)\n",
        "\n",
        "def func_fit(model_type,test_size,degree):\n",
        "    X_train, X_test, y_train, y_test = train_test_split(x,y,test_size=test_size,random_state=55)\n",
        "    \n",
        "    if (model_type=='Linear regression'):\n",
        "        model = make_pipeline(PolynomialFeatures(degree,interaction_only=False), \n",
        "                          LinearRegression())\n",
        "    if (model_type=='LASSO with CV'):    \n",
        "        model = make_pipeline(PolynomialFeatures(degree,interaction_only=False), \n",
        "                              LassoCV(eps=lasso_eps,n_alphas=lasso_nalpha,max_iter=lasso_iter,cv=5))\n",
        "        \n",
        "    if (model_type=='Ridge with CV'):    \n",
        "        model = make_pipeline(PolynomialFeatures(degree,interaction_only=False), \n",
        "                              RidgeCV(alphas=ridge_alphas,cv=5))\n",
        "    \n",
        "    X_train=X_train.reshape(-1,1)\n",
        "    X_test=X_test.reshape(-1,1)\n",
        "    \n",
        "    model.fit(X_train,y_train)\n",
        "    \n",
        "    train_pred = np.array(model.predict(X_train))\n",
        "    train_score = model.score(X_train,y_train)\n",
        "    \n",
        "    test_pred = np.array(model.predict(X_test))\n",
        "    test_score = model.score(X_test,y_test)\n",
        "    \n",
        "    RMSE_test=np.sqrt(np.mean(np.square(test_pred-y_test)))\n",
        "    RMSE_train=np.sqrt(np.mean(np.square(train_pred-y_train)))\n",
        "       \n",
        "    plt.figure(figsize=(14,6))\n",
        "    \n",
        "    plt.subplot(1,2,1)\n",
        "    plt.title(\"Test set performance\\nTest score: %.3f\"%(test_score),fontsize=16)\n",
        "    plt.xlabel(\"X-test\",fontsize=13)\n",
        "    plt.ylabel(\"y-test\",fontsize=13)\n",
        "    plt.scatter(X_test,y_test,edgecolors='k',c='blue',s=60)\n",
        "    plt.scatter(X_test,test_pred,edgecolors='k',c='yellow',s=60)\n",
        "    plt.grid(True)\n",
        "    plt.legend(['Actual test values','Predicted values'])\n",
        "    \n",
        "    plt.subplot(1,2,2)\n",
        "    plt.title(\"Training set performance\\nTraining score: %.3f\"%(train_score),fontsize=16)\n",
        "    plt.xlabel(\"X-train\",fontsize=13)\n",
        "    plt.ylabel(\"y-train\",fontsize=13)\n",
        "    plt.scatter(X_train,y_train,c='blue')\n",
        "    plt.scatter(X_train,train_pred,c='yellow')\n",
        "    plt.grid(True)\n",
        "    plt.legend(['Actual training values','Fitted values'])\n",
        "    \n",
        "    plt.show()\n",
        "       \n",
        "    return (train_score,test_score)    "
      ]
    },
    {
      "cell_type": "markdown",
      "metadata": {
        "id": "bs61fI-gkQWB"
      },
      "source": [
        "### Run the encapsulated ML function with ipywidget interactive"
      ]
    },
    {
      "cell_type": "code",
      "execution_count": 19,
      "metadata": {
        "colab": {
          "base_uri": "https://localhost:8080/",
          "height": 627,
          "referenced_widgets": [
            "248ddbf33ce949dfa44a402ff29e1a58",
            "595069967580494ab1e58e701432355b",
            "cfdc0e81bc4547df836a048d27283d5d",
            "8cb1636fb9f042dd8b66f181bb7fd579",
            "6448b474bc134374b2d4e98ba1de4ac2",
            "bb7a0e19c7f44fe99c3bde03d19a63da",
            "72a29601560e425cafa48bbc5c4d1824",
            "25a8954464ec47b0a856b639de698da9",
            "847d38dccda34a319102263868831059",
            "1e237c56a57b4d86807772b0fe183df6",
            "2e989e1e5377496299c7d174a3f6406d",
            "3018de2c6c9740909f25a9e95879b9c3",
            "4d2b24c728b040ab90d4d596a378f4a5"
          ]
        },
        "id": "Tll8AWwMkQWB",
        "outputId": "8c6220ec-d204-49b6-f0ba-09142e8932a5"
      },
      "outputs": [
        {
          "output_type": "display_data",
          "data": {
            "text/plain": [
              "interactive(children=(RadioButtons(description='Choose Model', layout=Layout(width='250px'), options=('Linear …"
            ],
            "application/vnd.jupyter.widget-view+json": {
              "version_major": 2,
              "version_minor": 0,
              "model_id": "248ddbf33ce949dfa44a402ff29e1a58"
            }
          },
          "metadata": {}
        }
      ],
      "source": [
        "style = {'description_width': 'initial'}\n",
        "# Continuous_update = False for IntSlider control to stop continuous model evaluation while the slider is being dragged\n",
        "m = interactive(func_fit,model_type=widgets.RadioButtons(options=['Linear regression','LASSO with CV', 'Ridge with CV'],\n",
        "                                                    description = \"Choose Model\",style=style,\n",
        "                                                        layout=Layout(width='250px')),\n",
        "                test_size=widgets.Dropdown(options={\"10% of data\":0.1,\"20% of data\":0.2, \"30% of data\":0.3,\n",
        "                                                    \"40% of data\":0.4,\"50% of data\":0.5},\n",
        "                                          description=\"Test set size ($X_{test}$)\",style=style),\n",
        "               degree=widgets.IntSlider(min=1,max=10,step=1,description= 'Polynomial($\\sum\\limits_{i=1}^n a_nx^n$)',\n",
        "                                       style=style,continuous_update=False))\n",
        "\n",
        "# Set the height of the control.children[-1] so that the output does not jump and flicker\n",
        "output = m.children[-1]\n",
        "output.layout.height = '450px'\n",
        "\n",
        "# Display the control\n",
        "display(m)"
      ]
    },
    {
      "cell_type": "code",
      "execution_count": 15,
      "metadata": {
        "collapsed": true,
        "id": "FC1KIwLkkQWC"
      },
      "outputs": [],
      "source": []
    }
  ],
  "metadata": {
    "kernelspec": {
      "display_name": "Python 3",
      "language": "python",
      "name": "python3"
    },
    "language_info": {
      "codemirror_mode": {
        "name": "ipython",
        "version": 3
      },
      "file_extension": ".py",
      "mimetype": "text/x-python",
      "name": "python",
      "nbconvert_exporter": "python",
      "pygments_lexer": "ipython3",
      "version": "3.6.2"
    },
    "colab": {
      "provenance": []
    },
    "widgets": {
      "application/vnd.jupyter.widget-state+json": {
        "08f4883b4769436eb63382b72e90b37d": {
          "model_module": "@jupyter-widgets/controls",
          "model_name": "VBoxModel",
          "model_module_version": "1.5.0",
          "state": {
            "_dom_classes": [
              "widget-interact"
            ],
            "_model_module": "@jupyter-widgets/controls",
            "_model_module_version": "1.5.0",
            "_model_name": "VBoxModel",
            "_view_count": null,
            "_view_module": "@jupyter-widgets/controls",
            "_view_module_version": "1.5.0",
            "_view_name": "VBoxView",
            "box_style": "",
            "children": [
              "IPY_MODEL_842fec9b203442c19e97026d7c36973d",
              "IPY_MODEL_f3d2331af8ac411caf45092eb3c74771",
              "IPY_MODEL_af601bc48fc34f1b8bb06e13df5131d0",
              "IPY_MODEL_9056c8d01b54406abfd0b9020acc73f9",
              "IPY_MODEL_fccaf83e1278416599ca3102ca78cb03",
              "IPY_MODEL_267e6fef57ac4196ac6451b646f00d6f",
              "IPY_MODEL_d3ee5f9f89b34db195812a4715a56337"
            ],
            "layout": "IPY_MODEL_47f46b22a9db4e19835a1dea6136d71d"
          }
        },
        "842fec9b203442c19e97026d7c36973d": {
          "model_module": "@jupyter-widgets/controls",
          "model_name": "DropdownModel",
          "model_module_version": "1.5.0",
          "state": {
            "_dom_classes": [],
            "_model_module": "@jupyter-widgets/controls",
            "_model_module_version": "1.5.0",
            "_model_name": "DropdownModel",
            "_options_labels": [
              "Low (50 samples)",
              "High (200 samples)"
            ],
            "_view_count": null,
            "_view_module": "@jupyter-widgets/controls",
            "_view_module_version": "1.5.0",
            "_view_name": "DropdownView",
            "description": "N_samples",
            "description_tooltip": null,
            "disabled": false,
            "index": 0,
            "layout": "IPY_MODEL_db5bfd4afee5420d91b3a1b9ab452b69",
            "style": "IPY_MODEL_801af389a30a4b43805378eca965e972"
          }
        },
        "f3d2331af8ac411caf45092eb3c74771": {
          "model_module": "@jupyter-widgets/controls",
          "model_name": "IntSliderModel",
          "model_module_version": "1.5.0",
          "state": {
            "_dom_classes": [],
            "_model_module": "@jupyter-widgets/controls",
            "_model_module_version": "1.5.0",
            "_model_name": "IntSliderModel",
            "_view_count": null,
            "_view_module": "@jupyter-widgets/controls",
            "_view_module_version": "1.5.0",
            "_view_name": "IntSliderView",
            "continuous_update": true,
            "description": "x_min",
            "description_tooltip": null,
            "disabled": false,
            "layout": "IPY_MODEL_7789a65dcc3b4d799e2f176fc8c9ce26",
            "max": 0,
            "min": -5,
            "orientation": "horizontal",
            "readout": true,
            "readout_format": "d",
            "step": 1,
            "style": "IPY_MODEL_2c5968a2297a40ec8c0e6e0adda7e12d",
            "value": -3
          }
        },
        "af601bc48fc34f1b8bb06e13df5131d0": {
          "model_module": "@jupyter-widgets/controls",
          "model_name": "IntSliderModel",
          "model_module_version": "1.5.0",
          "state": {
            "_dom_classes": [],
            "_model_module": "@jupyter-widgets/controls",
            "_model_module_version": "1.5.0",
            "_model_name": "IntSliderModel",
            "_view_count": null,
            "_view_module": "@jupyter-widgets/controls",
            "_view_module_version": "1.5.0",
            "_view_name": "IntSliderView",
            "continuous_update": true,
            "description": "x_max",
            "description_tooltip": null,
            "disabled": false,
            "layout": "IPY_MODEL_e682ed680c904d5cb6a95b04ebb3517d",
            "max": 5,
            "min": 0,
            "orientation": "horizontal",
            "readout": true,
            "readout_format": "d",
            "step": 1,
            "style": "IPY_MODEL_ea1631e68e464e1db1072f12e56030ae",
            "value": 4
          }
        },
        "9056c8d01b54406abfd0b9020acc73f9": {
          "model_module": "@jupyter-widgets/controls",
          "model_name": "IntSliderModel",
          "model_module_version": "1.5.0",
          "state": {
            "_dom_classes": [],
            "_model_module": "@jupyter-widgets/controls",
            "_model_module_version": "1.5.0",
            "_model_name": "IntSliderModel",
            "_view_count": null,
            "_view_module": "@jupyter-widgets/controls",
            "_view_module_version": "1.5.0",
            "_view_name": "IntSliderView",
            "continuous_update": true,
            "description": "noise_magnitude",
            "description_tooltip": null,
            "disabled": false,
            "layout": "IPY_MODEL_fc321eaa0179428ea92aa2b7a061e1f9",
            "max": 5,
            "min": 0,
            "orientation": "horizontal",
            "readout": true,
            "readout_format": "d",
            "step": 1,
            "style": "IPY_MODEL_62b266c65df8482da73edbcc1f89d0e1",
            "value": 1
          }
        },
        "fccaf83e1278416599ca3102ca78cb03": {
          "model_module": "@jupyter-widgets/controls",
          "model_name": "FloatSliderModel",
          "model_module_version": "1.5.0",
          "state": {
            "_dom_classes": [],
            "_model_module": "@jupyter-widgets/controls",
            "_model_module_version": "1.5.0",
            "_model_name": "FloatSliderModel",
            "_view_count": null,
            "_view_module": "@jupyter-widgets/controls",
            "_view_module_version": "1.5.0",
            "_view_name": "FloatSliderView",
            "continuous_update": true,
            "description": "noise_sd",
            "description_tooltip": null,
            "disabled": false,
            "layout": "IPY_MODEL_1c3b89d7c8d94e15b1fd16718e76307e",
            "max": 1,
            "min": 0.1,
            "orientation": "horizontal",
            "readout": true,
            "readout_format": ".2f",
            "step": 0.1,
            "style": "IPY_MODEL_2b13ab9c7f6e4ba2b053445f5c26d63d",
            "value": 0.8
          }
        },
        "267e6fef57ac4196ac6451b646f00d6f": {
          "model_module": "@jupyter-widgets/controls",
          "model_name": "FloatSliderModel",
          "model_module_version": "1.5.0",
          "state": {
            "_dom_classes": [],
            "_model_module": "@jupyter-widgets/controls",
            "_model_module_version": "1.5.0",
            "_model_name": "FloatSliderModel",
            "_view_count": null,
            "_view_module": "@jupyter-widgets/controls",
            "_view_module_version": "1.5.0",
            "_view_name": "FloatSliderView",
            "continuous_update": true,
            "description": "noise_mean",
            "description_tooltip": null,
            "disabled": false,
            "layout": "IPY_MODEL_c67546a91dec42e3a00915ea74d49fb8",
            "max": 2,
            "min": -2,
            "orientation": "horizontal",
            "readout": true,
            "readout_format": ".2f",
            "step": 0.5,
            "style": "IPY_MODEL_e687048c10bc450eab6a063d23a6b5ef",
            "value": 1.5
          }
        },
        "d3ee5f9f89b34db195812a4715a56337": {
          "model_module": "@jupyter-widgets/output",
          "model_name": "OutputModel",
          "model_module_version": "1.0.0",
          "state": {
            "_dom_classes": [],
            "_model_module": "@jupyter-widgets/output",
            "_model_module_version": "1.0.0",
            "_model_name": "OutputModel",
            "_view_count": null,
            "_view_module": "@jupyter-widgets/output",
            "_view_module_version": "1.0.0",
            "_view_name": "OutputView",
            "layout": "IPY_MODEL_428e1f97a5f1402ab1d3d9edff78eeaf",
            "msg_id": "",
            "outputs": [
              {
                "output_type": "display_data",
                "data": {
                  "text/plain": "<Figure size 800x500 with 1 Axes>",
                  "image/png": "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\n"
                },
                "metadata": {}
              }
            ]
          }
        },
        "47f46b22a9db4e19835a1dea6136d71d": {
          "model_module": "@jupyter-widgets/base",
          "model_name": "LayoutModel",
          "model_module_version": "1.2.0",
          "state": {
            "_model_module": "@jupyter-widgets/base",
            "_model_module_version": "1.2.0",
            "_model_name": "LayoutModel",
            "_view_count": null,
            "_view_module": "@jupyter-widgets/base",
            "_view_module_version": "1.2.0",
            "_view_name": "LayoutView",
            "align_content": null,
            "align_items": null,
            "align_self": null,
            "border": null,
            "bottom": null,
            "display": null,
            "flex": null,
            "flex_flow": null,
            "grid_area": null,
            "grid_auto_columns": null,
            "grid_auto_flow": null,
            "grid_auto_rows": null,
            "grid_column": null,
            "grid_gap": null,
            "grid_row": null,
            "grid_template_areas": null,
            "grid_template_columns": null,
            "grid_template_rows": null,
            "height": null,
            "justify_content": null,
            "justify_items": null,
            "left": null,
            "margin": null,
            "max_height": null,
            "max_width": null,
            "min_height": null,
            "min_width": null,
            "object_fit": null,
            "object_position": null,
            "order": null,
            "overflow": null,
            "overflow_x": null,
            "overflow_y": null,
            "padding": null,
            "right": null,
            "top": null,
            "visibility": null,
            "width": null
          }
        },
        "db5bfd4afee5420d91b3a1b9ab452b69": {
          "model_module": "@jupyter-widgets/base",
          "model_name": "LayoutModel",
          "model_module_version": "1.2.0",
          "state": {
            "_model_module": "@jupyter-widgets/base",
            "_model_module_version": "1.2.0",
            "_model_name": "LayoutModel",
            "_view_count": null,
            "_view_module": "@jupyter-widgets/base",
            "_view_module_version": "1.2.0",
            "_view_name": "LayoutView",
            "align_content": null,
            "align_items": null,
            "align_self": null,
            "border": null,
            "bottom": null,
            "display": null,
            "flex": null,
            "flex_flow": null,
            "grid_area": null,
            "grid_auto_columns": null,
            "grid_auto_flow": null,
            "grid_auto_rows": null,
            "grid_column": null,
            "grid_gap": null,
            "grid_row": null,
            "grid_template_areas": null,
            "grid_template_columns": null,
            "grid_template_rows": null,
            "height": null,
            "justify_content": null,
            "justify_items": null,
            "left": null,
            "margin": null,
            "max_height": null,
            "max_width": null,
            "min_height": null,
            "min_width": null,
            "object_fit": null,
            "object_position": null,
            "order": null,
            "overflow": null,
            "overflow_x": null,
            "overflow_y": null,
            "padding": null,
            "right": null,
            "top": null,
            "visibility": null,
            "width": null
          }
        },
        "801af389a30a4b43805378eca965e972": {
          "model_module": "@jupyter-widgets/controls",
          "model_name": "DescriptionStyleModel",
          "model_module_version": "1.5.0",
          "state": {
            "_model_module": "@jupyter-widgets/controls",
            "_model_module_version": "1.5.0",
            "_model_name": "DescriptionStyleModel",
            "_view_count": null,
            "_view_module": "@jupyter-widgets/base",
            "_view_module_version": "1.2.0",
            "_view_name": "StyleView",
            "description_width": ""
          }
        },
        "7789a65dcc3b4d799e2f176fc8c9ce26": {
          "model_module": "@jupyter-widgets/base",
          "model_name": "LayoutModel",
          "model_module_version": "1.2.0",
          "state": {
            "_model_module": "@jupyter-widgets/base",
            "_model_module_version": "1.2.0",
            "_model_name": "LayoutModel",
            "_view_count": null,
            "_view_module": "@jupyter-widgets/base",
            "_view_module_version": "1.2.0",
            "_view_name": "LayoutView",
            "align_content": null,
            "align_items": null,
            "align_self": null,
            "border": null,
            "bottom": null,
            "display": null,
            "flex": null,
            "flex_flow": null,
            "grid_area": null,
            "grid_auto_columns": null,
            "grid_auto_flow": null,
            "grid_auto_rows": null,
            "grid_column": null,
            "grid_gap": null,
            "grid_row": null,
            "grid_template_areas": null,
            "grid_template_columns": null,
            "grid_template_rows": null,
            "height": null,
            "justify_content": null,
            "justify_items": null,
            "left": null,
            "margin": null,
            "max_height": null,
            "max_width": null,
            "min_height": null,
            "min_width": null,
            "object_fit": null,
            "object_position": null,
            "order": null,
            "overflow": null,
            "overflow_x": null,
            "overflow_y": null,
            "padding": null,
            "right": null,
            "top": null,
            "visibility": null,
            "width": null
          }
        },
        "2c5968a2297a40ec8c0e6e0adda7e12d": {
          "model_module": "@jupyter-widgets/controls",
          "model_name": "SliderStyleModel",
          "model_module_version": "1.5.0",
          "state": {
            "_model_module": "@jupyter-widgets/controls",
            "_model_module_version": "1.5.0",
            "_model_name": "SliderStyleModel",
            "_view_count": null,
            "_view_module": "@jupyter-widgets/base",
            "_view_module_version": "1.2.0",
            "_view_name": "StyleView",
            "description_width": "",
            "handle_color": null
          }
        },
        "e682ed680c904d5cb6a95b04ebb3517d": {
          "model_module": "@jupyter-widgets/base",
          "model_name": "LayoutModel",
          "model_module_version": "1.2.0",
          "state": {
            "_model_module": "@jupyter-widgets/base",
            "_model_module_version": "1.2.0",
            "_model_name": "LayoutModel",
            "_view_count": null,
            "_view_module": "@jupyter-widgets/base",
            "_view_module_version": "1.2.0",
            "_view_name": "LayoutView",
            "align_content": null,
            "align_items": null,
            "align_self": null,
            "border": null,
            "bottom": null,
            "display": null,
            "flex": null,
            "flex_flow": null,
            "grid_area": null,
            "grid_auto_columns": null,
            "grid_auto_flow": null,
            "grid_auto_rows": null,
            "grid_column": null,
            "grid_gap": null,
            "grid_row": null,
            "grid_template_areas": null,
            "grid_template_columns": null,
            "grid_template_rows": null,
            "height": null,
            "justify_content": null,
            "justify_items": null,
            "left": null,
            "margin": null,
            "max_height": null,
            "max_width": null,
            "min_height": null,
            "min_width": null,
            "object_fit": null,
            "object_position": null,
            "order": null,
            "overflow": null,
            "overflow_x": null,
            "overflow_y": null,
            "padding": null,
            "right": null,
            "top": null,
            "visibility": null,
            "width": null
          }
        },
        "ea1631e68e464e1db1072f12e56030ae": {
          "model_module": "@jupyter-widgets/controls",
          "model_name": "SliderStyleModel",
          "model_module_version": "1.5.0",
          "state": {
            "_model_module": "@jupyter-widgets/controls",
            "_model_module_version": "1.5.0",
            "_model_name": "SliderStyleModel",
            "_view_count": null,
            "_view_module": "@jupyter-widgets/base",
            "_view_module_version": "1.2.0",
            "_view_name": "StyleView",
            "description_width": "",
            "handle_color": null
          }
        },
        "fc321eaa0179428ea92aa2b7a061e1f9": {
          "model_module": "@jupyter-widgets/base",
          "model_name": "LayoutModel",
          "model_module_version": "1.2.0",
          "state": {
            "_model_module": "@jupyter-widgets/base",
            "_model_module_version": "1.2.0",
            "_model_name": "LayoutModel",
            "_view_count": null,
            "_view_module": "@jupyter-widgets/base",
            "_view_module_version": "1.2.0",
            "_view_name": "LayoutView",
            "align_content": null,
            "align_items": null,
            "align_self": null,
            "border": null,
            "bottom": null,
            "display": null,
            "flex": null,
            "flex_flow": null,
            "grid_area": null,
            "grid_auto_columns": null,
            "grid_auto_flow": null,
            "grid_auto_rows": null,
            "grid_column": null,
            "grid_gap": null,
            "grid_row": null,
            "grid_template_areas": null,
            "grid_template_columns": null,
            "grid_template_rows": null,
            "height": null,
            "justify_content": null,
            "justify_items": null,
            "left": null,
            "margin": null,
            "max_height": null,
            "max_width": null,
            "min_height": null,
            "min_width": null,
            "object_fit": null,
            "object_position": null,
            "order": null,
            "overflow": null,
            "overflow_x": null,
            "overflow_y": null,
            "padding": null,
            "right": null,
            "top": null,
            "visibility": null,
            "width": null
          }
        },
        "62b266c65df8482da73edbcc1f89d0e1": {
          "model_module": "@jupyter-widgets/controls",
          "model_name": "SliderStyleModel",
          "model_module_version": "1.5.0",
          "state": {
            "_model_module": "@jupyter-widgets/controls",
            "_model_module_version": "1.5.0",
            "_model_name": "SliderStyleModel",
            "_view_count": null,
            "_view_module": "@jupyter-widgets/base",
            "_view_module_version": "1.2.0",
            "_view_name": "StyleView",
            "description_width": "",
            "handle_color": null
          }
        },
        "1c3b89d7c8d94e15b1fd16718e76307e": {
          "model_module": "@jupyter-widgets/base",
          "model_name": "LayoutModel",
          "model_module_version": "1.2.0",
          "state": {
            "_model_module": "@jupyter-widgets/base",
            "_model_module_version": "1.2.0",
            "_model_name": "LayoutModel",
            "_view_count": null,
            "_view_module": "@jupyter-widgets/base",
            "_view_module_version": "1.2.0",
            "_view_name": "LayoutView",
            "align_content": null,
            "align_items": null,
            "align_self": null,
            "border": null,
            "bottom": null,
            "display": null,
            "flex": null,
            "flex_flow": null,
            "grid_area": null,
            "grid_auto_columns": null,
            "grid_auto_flow": null,
            "grid_auto_rows": null,
            "grid_column": null,
            "grid_gap": null,
            "grid_row": null,
            "grid_template_areas": null,
            "grid_template_columns": null,
            "grid_template_rows": null,
            "height": null,
            "justify_content": null,
            "justify_items": null,
            "left": null,
            "margin": null,
            "max_height": null,
            "max_width": null,
            "min_height": null,
            "min_width": null,
            "object_fit": null,
            "object_position": null,
            "order": null,
            "overflow": null,
            "overflow_x": null,
            "overflow_y": null,
            "padding": null,
            "right": null,
            "top": null,
            "visibility": null,
            "width": null
          }
        },
        "2b13ab9c7f6e4ba2b053445f5c26d63d": {
          "model_module": "@jupyter-widgets/controls",
          "model_name": "SliderStyleModel",
          "model_module_version": "1.5.0",
          "state": {
            "_model_module": "@jupyter-widgets/controls",
            "_model_module_version": "1.5.0",
            "_model_name": "SliderStyleModel",
            "_view_count": null,
            "_view_module": "@jupyter-widgets/base",
            "_view_module_version": "1.2.0",
            "_view_name": "StyleView",
            "description_width": "",
            "handle_color": null
          }
        },
        "c67546a91dec42e3a00915ea74d49fb8": {
          "model_module": "@jupyter-widgets/base",
          "model_name": "LayoutModel",
          "model_module_version": "1.2.0",
          "state": {
            "_model_module": "@jupyter-widgets/base",
            "_model_module_version": "1.2.0",
            "_model_name": "LayoutModel",
            "_view_count": null,
            "_view_module": "@jupyter-widgets/base",
            "_view_module_version": "1.2.0",
            "_view_name": "LayoutView",
            "align_content": null,
            "align_items": null,
            "align_self": null,
            "border": null,
            "bottom": null,
            "display": null,
            "flex": null,
            "flex_flow": null,
            "grid_area": null,
            "grid_auto_columns": null,
            "grid_auto_flow": null,
            "grid_auto_rows": null,
            "grid_column": null,
            "grid_gap": null,
            "grid_row": null,
            "grid_template_areas": null,
            "grid_template_columns": null,
            "grid_template_rows": null,
            "height": null,
            "justify_content": null,
            "justify_items": null,
            "left": null,
            "margin": null,
            "max_height": null,
            "max_width": null,
            "min_height": null,
            "min_width": null,
            "object_fit": null,
            "object_position": null,
            "order": null,
            "overflow": null,
            "overflow_x": null,
            "overflow_y": null,
            "padding": null,
            "right": null,
            "top": null,
            "visibility": null,
            "width": null
          }
        },
        "e687048c10bc450eab6a063d23a6b5ef": {
          "model_module": "@jupyter-widgets/controls",
          "model_name": "SliderStyleModel",
          "model_module_version": "1.5.0",
          "state": {
            "_model_module": "@jupyter-widgets/controls",
            "_model_module_version": "1.5.0",
            "_model_name": "SliderStyleModel",
            "_view_count": null,
            "_view_module": "@jupyter-widgets/base",
            "_view_module_version": "1.2.0",
            "_view_name": "StyleView",
            "description_width": "",
            "handle_color": null
          }
        },
        "428e1f97a5f1402ab1d3d9edff78eeaf": {
          "model_module": "@jupyter-widgets/base",
          "model_name": "LayoutModel",
          "model_module_version": "1.2.0",
          "state": {
            "_model_module": "@jupyter-widgets/base",
            "_model_module_version": "1.2.0",
            "_model_name": "LayoutModel",
            "_view_count": null,
            "_view_module": "@jupyter-widgets/base",
            "_view_module_version": "1.2.0",
            "_view_name": "LayoutView",
            "align_content": null,
            "align_items": null,
            "align_self": null,
            "border": null,
            "bottom": null,
            "display": null,
            "flex": null,
            "flex_flow": null,
            "grid_area": null,
            "grid_auto_columns": null,
            "grid_auto_flow": null,
            "grid_auto_rows": null,
            "grid_column": null,
            "grid_gap": null,
            "grid_row": null,
            "grid_template_areas": null,
            "grid_template_columns": null,
            "grid_template_rows": null,
            "height": null,
            "justify_content": null,
            "justify_items": null,
            "left": null,
            "margin": null,
            "max_height": null,
            "max_width": null,
            "min_height": null,
            "min_width": null,
            "object_fit": null,
            "object_position": null,
            "order": null,
            "overflow": null,
            "overflow_x": null,
            "overflow_y": null,
            "padding": null,
            "right": null,
            "top": null,
            "visibility": null,
            "width": null
          }
        },
        "248ddbf33ce949dfa44a402ff29e1a58": {
          "model_module": "@jupyter-widgets/controls",
          "model_name": "VBoxModel",
          "model_module_version": "1.5.0",
          "state": {
            "_dom_classes": [
              "widget-interact"
            ],
            "_model_module": "@jupyter-widgets/controls",
            "_model_module_version": "1.5.0",
            "_model_name": "VBoxModel",
            "_view_count": null,
            "_view_module": "@jupyter-widgets/controls",
            "_view_module_version": "1.5.0",
            "_view_name": "VBoxView",
            "box_style": "",
            "children": [
              "IPY_MODEL_595069967580494ab1e58e701432355b",
              "IPY_MODEL_cfdc0e81bc4547df836a048d27283d5d",
              "IPY_MODEL_8cb1636fb9f042dd8b66f181bb7fd579",
              "IPY_MODEL_6448b474bc134374b2d4e98ba1de4ac2"
            ],
            "layout": "IPY_MODEL_bb7a0e19c7f44fe99c3bde03d19a63da"
          }
        },
        "595069967580494ab1e58e701432355b": {
          "model_module": "@jupyter-widgets/controls",
          "model_name": "RadioButtonsModel",
          "model_module_version": "1.5.0",
          "state": {
            "_dom_classes": [],
            "_model_module": "@jupyter-widgets/controls",
            "_model_module_version": "1.5.0",
            "_model_name": "RadioButtonsModel",
            "_options_labels": [
              "Linear regression",
              "LASSO with CV",
              "Ridge with CV"
            ],
            "_view_count": null,
            "_view_module": "@jupyter-widgets/controls",
            "_view_module_version": "1.5.0",
            "_view_name": "RadioButtonsView",
            "description": "Choose Model",
            "description_tooltip": null,
            "disabled": false,
            "index": 0,
            "layout": "IPY_MODEL_72a29601560e425cafa48bbc5c4d1824",
            "style": "IPY_MODEL_25a8954464ec47b0a856b639de698da9"
          }
        },
        "cfdc0e81bc4547df836a048d27283d5d": {
          "model_module": "@jupyter-widgets/controls",
          "model_name": "DropdownModel",
          "model_module_version": "1.5.0",
          "state": {
            "_dom_classes": [],
            "_model_module": "@jupyter-widgets/controls",
            "_model_module_version": "1.5.0",
            "_model_name": "DropdownModel",
            "_options_labels": [
              "10% of data",
              "20% of data",
              "30% of data",
              "40% of data",
              "50% of data"
            ],
            "_view_count": null,
            "_view_module": "@jupyter-widgets/controls",
            "_view_module_version": "1.5.0",
            "_view_name": "DropdownView",
            "description": "Test set size ($X_{test}$)",
            "description_tooltip": null,
            "disabled": false,
            "index": 0,
            "layout": "IPY_MODEL_847d38dccda34a319102263868831059",
            "style": "IPY_MODEL_1e237c56a57b4d86807772b0fe183df6"
          }
        },
        "8cb1636fb9f042dd8b66f181bb7fd579": {
          "model_module": "@jupyter-widgets/controls",
          "model_name": "IntSliderModel",
          "model_module_version": "1.5.0",
          "state": {
            "_dom_classes": [],
            "_model_module": "@jupyter-widgets/controls",
            "_model_module_version": "1.5.0",
            "_model_name": "IntSliderModel",
            "_view_count": null,
            "_view_module": "@jupyter-widgets/controls",
            "_view_module_version": "1.5.0",
            "_view_name": "IntSliderView",
            "continuous_update": false,
            "description": "Polynomial($\\sum\\limits_{i=1}^n a_nx^n$)",
            "description_tooltip": null,
            "disabled": false,
            "layout": "IPY_MODEL_2e989e1e5377496299c7d174a3f6406d",
            "max": 10,
            "min": 1,
            "orientation": "horizontal",
            "readout": true,
            "readout_format": "d",
            "step": 1,
            "style": "IPY_MODEL_3018de2c6c9740909f25a9e95879b9c3",
            "value": 5
          }
        },
        "6448b474bc134374b2d4e98ba1de4ac2": {
          "model_module": "@jupyter-widgets/output",
          "model_name": "OutputModel",
          "model_module_version": "1.0.0",
          "state": {
            "_dom_classes": [],
            "_model_module": "@jupyter-widgets/output",
            "_model_module_version": "1.0.0",
            "_model_name": "OutputModel",
            "_view_count": null,
            "_view_module": "@jupyter-widgets/output",
            "_view_module_version": "1.0.0",
            "_view_name": "OutputView",
            "layout": "IPY_MODEL_4d2b24c728b040ab90d4d596a378f4a5",
            "msg_id": "",
            "outputs": [
              {
                "output_type": "display_data",
                "data": {
                  "text/plain": "<Figure size 1400x600 with 2 Axes>",
                  "image/png": "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\n"
                },
                "metadata": {}
              }
            ]
          }
        },
        "bb7a0e19c7f44fe99c3bde03d19a63da": {
          "model_module": "@jupyter-widgets/base",
          "model_name": "LayoutModel",
          "model_module_version": "1.2.0",
          "state": {
            "_model_module": "@jupyter-widgets/base",
            "_model_module_version": "1.2.0",
            "_model_name": "LayoutModel",
            "_view_count": null,
            "_view_module": "@jupyter-widgets/base",
            "_view_module_version": "1.2.0",
            "_view_name": "LayoutView",
            "align_content": null,
            "align_items": null,
            "align_self": null,
            "border": null,
            "bottom": null,
            "display": null,
            "flex": null,
            "flex_flow": null,
            "grid_area": null,
            "grid_auto_columns": null,
            "grid_auto_flow": null,
            "grid_auto_rows": null,
            "grid_column": null,
            "grid_gap": null,
            "grid_row": null,
            "grid_template_areas": null,
            "grid_template_columns": null,
            "grid_template_rows": null,
            "height": null,
            "justify_content": null,
            "justify_items": null,
            "left": null,
            "margin": null,
            "max_height": null,
            "max_width": null,
            "min_height": null,
            "min_width": null,
            "object_fit": null,
            "object_position": null,
            "order": null,
            "overflow": null,
            "overflow_x": null,
            "overflow_y": null,
            "padding": null,
            "right": null,
            "top": null,
            "visibility": null,
            "width": null
          }
        },
        "72a29601560e425cafa48bbc5c4d1824": {
          "model_module": "@jupyter-widgets/base",
          "model_name": "LayoutModel",
          "model_module_version": "1.2.0",
          "state": {
            "_model_module": "@jupyter-widgets/base",
            "_model_module_version": "1.2.0",
            "_model_name": "LayoutModel",
            "_view_count": null,
            "_view_module": "@jupyter-widgets/base",
            "_view_module_version": "1.2.0",
            "_view_name": "LayoutView",
            "align_content": null,
            "align_items": null,
            "align_self": null,
            "border": null,
            "bottom": null,
            "display": null,
            "flex": null,
            "flex_flow": null,
            "grid_area": null,
            "grid_auto_columns": null,
            "grid_auto_flow": null,
            "grid_auto_rows": null,
            "grid_column": null,
            "grid_gap": null,
            "grid_row": null,
            "grid_template_areas": null,
            "grid_template_columns": null,
            "grid_template_rows": null,
            "height": null,
            "justify_content": null,
            "justify_items": null,
            "left": null,
            "margin": null,
            "max_height": null,
            "max_width": null,
            "min_height": null,
            "min_width": null,
            "object_fit": null,
            "object_position": null,
            "order": null,
            "overflow": null,
            "overflow_x": null,
            "overflow_y": null,
            "padding": null,
            "right": null,
            "top": null,
            "visibility": null,
            "width": "250px"
          }
        },
        "25a8954464ec47b0a856b639de698da9": {
          "model_module": "@jupyter-widgets/controls",
          "model_name": "DescriptionStyleModel",
          "model_module_version": "1.5.0",
          "state": {
            "_model_module": "@jupyter-widgets/controls",
            "_model_module_version": "1.5.0",
            "_model_name": "DescriptionStyleModel",
            "_view_count": null,
            "_view_module": "@jupyter-widgets/base",
            "_view_module_version": "1.2.0",
            "_view_name": "StyleView",
            "description_width": "initial"
          }
        },
        "847d38dccda34a319102263868831059": {
          "model_module": "@jupyter-widgets/base",
          "model_name": "LayoutModel",
          "model_module_version": "1.2.0",
          "state": {
            "_model_module": "@jupyter-widgets/base",
            "_model_module_version": "1.2.0",
            "_model_name": "LayoutModel",
            "_view_count": null,
            "_view_module": "@jupyter-widgets/base",
            "_view_module_version": "1.2.0",
            "_view_name": "LayoutView",
            "align_content": null,
            "align_items": null,
            "align_self": null,
            "border": null,
            "bottom": null,
            "display": null,
            "flex": null,
            "flex_flow": null,
            "grid_area": null,
            "grid_auto_columns": null,
            "grid_auto_flow": null,
            "grid_auto_rows": null,
            "grid_column": null,
            "grid_gap": null,
            "grid_row": null,
            "grid_template_areas": null,
            "grid_template_columns": null,
            "grid_template_rows": null,
            "height": null,
            "justify_content": null,
            "justify_items": null,
            "left": null,
            "margin": null,
            "max_height": null,
            "max_width": null,
            "min_height": null,
            "min_width": null,
            "object_fit": null,
            "object_position": null,
            "order": null,
            "overflow": null,
            "overflow_x": null,
            "overflow_y": null,
            "padding": null,
            "right": null,
            "top": null,
            "visibility": null,
            "width": null
          }
        },
        "1e237c56a57b4d86807772b0fe183df6": {
          "model_module": "@jupyter-widgets/controls",
          "model_name": "DescriptionStyleModel",
          "model_module_version": "1.5.0",
          "state": {
            "_model_module": "@jupyter-widgets/controls",
            "_model_module_version": "1.5.0",
            "_model_name": "DescriptionStyleModel",
            "_view_count": null,
            "_view_module": "@jupyter-widgets/base",
            "_view_module_version": "1.2.0",
            "_view_name": "StyleView",
            "description_width": "initial"
          }
        },
        "2e989e1e5377496299c7d174a3f6406d": {
          "model_module": "@jupyter-widgets/base",
          "model_name": "LayoutModel",
          "model_module_version": "1.2.0",
          "state": {
            "_model_module": "@jupyter-widgets/base",
            "_model_module_version": "1.2.0",
            "_model_name": "LayoutModel",
            "_view_count": null,
            "_view_module": "@jupyter-widgets/base",
            "_view_module_version": "1.2.0",
            "_view_name": "LayoutView",
            "align_content": null,
            "align_items": null,
            "align_self": null,
            "border": null,
            "bottom": null,
            "display": null,
            "flex": null,
            "flex_flow": null,
            "grid_area": null,
            "grid_auto_columns": null,
            "grid_auto_flow": null,
            "grid_auto_rows": null,
            "grid_column": null,
            "grid_gap": null,
            "grid_row": null,
            "grid_template_areas": null,
            "grid_template_columns": null,
            "grid_template_rows": null,
            "height": null,
            "justify_content": null,
            "justify_items": null,
            "left": null,
            "margin": null,
            "max_height": null,
            "max_width": null,
            "min_height": null,
            "min_width": null,
            "object_fit": null,
            "object_position": null,
            "order": null,
            "overflow": null,
            "overflow_x": null,
            "overflow_y": null,
            "padding": null,
            "right": null,
            "top": null,
            "visibility": null,
            "width": null
          }
        },
        "3018de2c6c9740909f25a9e95879b9c3": {
          "model_module": "@jupyter-widgets/controls",
          "model_name": "SliderStyleModel",
          "model_module_version": "1.5.0",
          "state": {
            "_model_module": "@jupyter-widgets/controls",
            "_model_module_version": "1.5.0",
            "_model_name": "SliderStyleModel",
            "_view_count": null,
            "_view_module": "@jupyter-widgets/base",
            "_view_module_version": "1.2.0",
            "_view_name": "StyleView",
            "description_width": "initial",
            "handle_color": null
          }
        },
        "4d2b24c728b040ab90d4d596a378f4a5": {
          "model_module": "@jupyter-widgets/base",
          "model_name": "LayoutModel",
          "model_module_version": "1.2.0",
          "state": {
            "_model_module": "@jupyter-widgets/base",
            "_model_module_version": "1.2.0",
            "_model_name": "LayoutModel",
            "_view_count": null,
            "_view_module": "@jupyter-widgets/base",
            "_view_module_version": "1.2.0",
            "_view_name": "LayoutView",
            "align_content": null,
            "align_items": null,
            "align_self": null,
            "border": null,
            "bottom": null,
            "display": null,
            "flex": null,
            "flex_flow": null,
            "grid_area": null,
            "grid_auto_columns": null,
            "grid_auto_flow": null,
            "grid_auto_rows": null,
            "grid_column": null,
            "grid_gap": null,
            "grid_row": null,
            "grid_template_areas": null,
            "grid_template_columns": null,
            "grid_template_rows": null,
            "height": "450px",
            "justify_content": null,
            "justify_items": null,
            "left": null,
            "margin": null,
            "max_height": null,
            "max_width": null,
            "min_height": null,
            "min_width": null,
            "object_fit": null,
            "object_position": null,
            "order": null,
            "overflow": null,
            "overflow_x": null,
            "overflow_y": null,
            "padding": null,
            "right": null,
            "top": null,
            "visibility": null,
            "width": null
          }
        }
      }
    }
  },
  "nbformat": 4,
  "nbformat_minor": 0
}