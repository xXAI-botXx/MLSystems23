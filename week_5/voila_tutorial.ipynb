{
  "nbformat": 4,
  "nbformat_minor": 0,
  "metadata": {
    "colab": {
      "provenance": []
    },
    "kernelspec": {
      "name": "python3",
      "display_name": "Python 3"
    },
    "language_info": {
      "name": "python"
    }
  },
  "cells": [
    {
      "cell_type": "markdown",
      "source": [
        "# Voila Tutorial\n",
        "* Documentation: https://voila.readthedocs.io/en/stable/index.html"
      ],
      "metadata": {
        "id": "6TaTzeVpUsZB"
      }
    },
    {
      "cell_type": "markdown",
      "source": [
        "### Install"
      ],
      "metadata": {
        "id": "xDFYLjhZWhCy"
      }
    },
    {
      "cell_type": "code",
      "execution_count": 1,
      "metadata": {
        "colab": {
          "base_uri": "https://localhost:8080/"
        },
        "id": "BhD1iHMFUomC",
        "outputId": "7a689487-1eb6-4914-f32c-2f6b97c55aff"
      },
      "outputs": [
        {
          "output_type": "stream",
          "name": "stdout",
          "text": [
            "Cloning into 'DATA'...\n",
            "remote: Enumerating objects: 122, done.\u001b[K\n",
            "remote: Counting objects: 100% (35/35), done.\u001b[K\n",
            "remote: Compressing objects: 100% (25/25), done.\u001b[K\n",
            "remote: Total 122 (delta 10), reused 33 (delta 10), pack-reused 87\u001b[K\n",
            "Receiving objects: 100% (122/122), 172.31 MiB | 9.36 MiB/s, done.\n",
            "Resolving deltas: 100% (31/31), done.\n",
            "Updating files: 100% (84/84), done.\n"
          ]
        }
      ],
      "source": [
        "#! get some example notebooks\n",
        "!git clone https://github.com/keuperj/DATA.git"
      ]
    },
    {
      "cell_type": "code",
      "source": [
        "!ls DATA/notebooks"
      ],
      "metadata": {
        "colab": {
          "base_uri": "https://localhost:8080/"
        },
        "id": "xpyPsf0vV5lA",
        "outputId": "dbd5a12a-73e2-44fc-ef97-65e59acdffc3"
      },
      "execution_count": 2,
      "outputs": [
        {
          "output_type": "stream",
          "name": "stdout",
          "text": [
            "basics.ipynb\t gridspecLayout.ipynb  jupyter_config.json     reveal.ipynb\n",
            "bokeh.ipynb\t interactive.ipynb     mimerenderers.ipynb     xleaflet.ipynb\n",
            "bqplot.ipynb\t ipympl.ipynb\t       multiple_widgets.ipynb\n",
            "dashboard.ipynb  ipyvolume.ipynb       query-strings.ipynb\n"
          ]
        }
      ]
    },
    {
      "cell_type": "code",
      "source": [
        "#install voila - restart runtime after install!\n",
        "%pip install  voila #==0.5.0a4 jupyterlab-widgets==1.1.1"
      ],
      "metadata": {
        "colab": {
          "base_uri": "https://localhost:8080/"
        },
        "id": "3GyGDJLcWKkX",
        "outputId": "09beb7b4-cf66-4d24-ddd7-25dd7db83ade"
      },
      "execution_count": 3,
      "outputs": [
        {
          "output_type": "stream",
          "name": "stdout",
          "text": [
            "Looking in indexes: https://pypi.org/simple, https://us-python.pkg.dev/colab-wheels/public/simple/\n",
            "Collecting voila\n",
            "  Downloading voila-0.4.0-py3-none-any.whl (5.5 MB)\n",
            "\u001b[2K     \u001b[90m━━━━━━━━━━━━━━━━━━━━━━━━━━━━━━━━━━━━━━━━\u001b[0m \u001b[32m5.5/5.5 MB\u001b[0m \u001b[31m40.3 MB/s\u001b[0m eta \u001b[36m0:00:00\u001b[0m\n",
            "\u001b[?25hRequirement already satisfied: jupyter-core>=4.11.0 in /usr/local/lib/python3.10/dist-packages (from voila) (5.3.0)\n",
            "Requirement already satisfied: jupyter-server<2.0.0,>=1.18 in /usr/local/lib/python3.10/dist-packages (from voila) (1.24.0)\n",
            "Collecting jupyterlab-server<3,>=2.3.0\n",
            "  Downloading jupyterlab_server-2.22.1-py3-none-any.whl (57 kB)\n",
            "\u001b[2K     \u001b[90m━━━━━━━━━━━━━━━━━━━━━━━━━━━━━━━━━━━━━━━━\u001b[0m \u001b[32m57.0/57.0 kB\u001b[0m \u001b[31m7.1 MB/s\u001b[0m eta \u001b[36m0:00:00\u001b[0m\n",
            "\u001b[?25hRequirement already satisfied: nbclient<0.8,>=0.4.0 in /usr/local/lib/python3.10/dist-packages (from voila) (0.7.4)\n",
            "Requirement already satisfied: jupyter-client<=7.4.1,>=6.1.3 in /usr/local/lib/python3.10/dist-packages (from voila) (6.1.12)\n",
            "Collecting websockets>=9.0\n",
            "  Downloading websockets-11.0.2-cp310-cp310-manylinux_2_5_x86_64.manylinux1_x86_64.manylinux_2_17_x86_64.manylinux2014_x86_64.whl (129 kB)\n",
            "\u001b[2K     \u001b[90m━━━━━━━━━━━━━━━━━━━━━━━━━━━━━━━━━━━━━━\u001b[0m \u001b[32m129.9/129.9 kB\u001b[0m \u001b[31m16.6 MB/s\u001b[0m eta \u001b[36m0:00:00\u001b[0m\n",
            "\u001b[?25hRequirement already satisfied: traitlets<6,>=5.0.3 in /usr/local/lib/python3.10/dist-packages (from voila) (5.7.1)\n",
            "Requirement already satisfied: nbconvert<8,>=6.4.5 in /usr/local/lib/python3.10/dist-packages (from voila) (6.5.4)\n",
            "Requirement already satisfied: python-dateutil>=2.1 in /usr/local/lib/python3.10/dist-packages (from jupyter-client<=7.4.1,>=6.1.3->voila) (2.8.2)\n",
            "Requirement already satisfied: pyzmq>=13 in /usr/local/lib/python3.10/dist-packages (from jupyter-client<=7.4.1,>=6.1.3->voila) (23.2.1)\n",
            "Requirement already satisfied: tornado>=4.1 in /usr/local/lib/python3.10/dist-packages (from jupyter-client<=7.4.1,>=6.1.3->voila) (6.2)\n",
            "Requirement already satisfied: platformdirs>=2.5 in /usr/local/lib/python3.10/dist-packages (from jupyter-core>=4.11.0->voila) (3.3.0)\n",
            "Requirement already satisfied: prometheus-client in /usr/local/lib/python3.10/dist-packages (from jupyter-server<2.0.0,>=1.18->voila) (0.16.0)\n",
            "Requirement already satisfied: anyio<4,>=3.1.0 in /usr/local/lib/python3.10/dist-packages (from jupyter-server<2.0.0,>=1.18->voila) (3.6.2)\n",
            "Requirement already satisfied: packaging in /usr/local/lib/python3.10/dist-packages (from jupyter-server<2.0.0,>=1.18->voila) (23.1)\n",
            "Requirement already satisfied: websocket-client in /usr/local/lib/python3.10/dist-packages (from jupyter-server<2.0.0,>=1.18->voila) (1.5.1)\n",
            "Requirement already satisfied: jinja2 in /usr/local/lib/python3.10/dist-packages (from jupyter-server<2.0.0,>=1.18->voila) (3.1.2)\n",
            "Requirement already satisfied: Send2Trash in /usr/local/lib/python3.10/dist-packages (from jupyter-server<2.0.0,>=1.18->voila) (1.8.0)\n",
            "Requirement already satisfied: argon2-cffi in /usr/local/lib/python3.10/dist-packages (from jupyter-server<2.0.0,>=1.18->voila) (21.3.0)\n",
            "Requirement already satisfied: nbformat>=5.2.0 in /usr/local/lib/python3.10/dist-packages (from jupyter-server<2.0.0,>=1.18->voila) (5.8.0)\n",
            "Requirement already satisfied: terminado>=0.8.3 in /usr/local/lib/python3.10/dist-packages (from jupyter-server<2.0.0,>=1.18->voila) (0.17.1)\n",
            "Collecting json5>=0.9.0\n",
            "  Downloading json5-0.9.11-py2.py3-none-any.whl (19 kB)\n",
            "Collecting requests>=2.28\n",
            "  Downloading requests-2.30.0-py3-none-any.whl (62 kB)\n",
            "\u001b[2K     \u001b[90m━━━━━━━━━━━━━━━━━━━━━━━━━━━━━━━━━━━━━━━━\u001b[0m \u001b[32m62.5/62.5 kB\u001b[0m \u001b[31m8.0 MB/s\u001b[0m eta \u001b[36m0:00:00\u001b[0m\n",
            "\u001b[?25hCollecting jsonschema>=4.17.3\n",
            "  Downloading jsonschema-4.17.3-py3-none-any.whl (90 kB)\n",
            "\u001b[2K     \u001b[90m━━━━━━━━━━━━━━━━━━━━━━━━━━━━━━━━━━━━━━━━\u001b[0m \u001b[32m90.4/90.4 kB\u001b[0m \u001b[31m11.0 MB/s\u001b[0m eta \u001b[36m0:00:00\u001b[0m\n",
            "\u001b[?25hRequirement already satisfied: babel>=2.10 in /usr/local/lib/python3.10/dist-packages (from jupyterlab-server<3,>=2.3.0->voila) (2.12.1)\n",
            "Requirement already satisfied: mistune<2,>=0.8.1 in /usr/local/lib/python3.10/dist-packages (from nbconvert<8,>=6.4.5->voila) (0.8.4)\n",
            "Requirement already satisfied: entrypoints>=0.2.2 in /usr/local/lib/python3.10/dist-packages (from nbconvert<8,>=6.4.5->voila) (0.4)\n",
            "Requirement already satisfied: beautifulsoup4 in /usr/local/lib/python3.10/dist-packages (from nbconvert<8,>=6.4.5->voila) (4.11.2)\n",
            "Requirement already satisfied: pandocfilters>=1.4.1 in /usr/local/lib/python3.10/dist-packages (from nbconvert<8,>=6.4.5->voila) (1.5.0)\n",
            "Requirement already satisfied: MarkupSafe>=2.0 in /usr/local/lib/python3.10/dist-packages (from nbconvert<8,>=6.4.5->voila) (2.1.2)\n",
            "Requirement already satisfied: jupyterlab-pygments in /usr/local/lib/python3.10/dist-packages (from nbconvert<8,>=6.4.5->voila) (0.2.2)\n",
            "Requirement already satisfied: bleach in /usr/local/lib/python3.10/dist-packages (from nbconvert<8,>=6.4.5->voila) (6.0.0)\n",
            "Requirement already satisfied: pygments>=2.4.1 in /usr/local/lib/python3.10/dist-packages (from nbconvert<8,>=6.4.5->voila) (2.14.0)\n",
            "Requirement already satisfied: lxml in /usr/local/lib/python3.10/dist-packages (from nbconvert<8,>=6.4.5->voila) (4.9.2)\n",
            "Requirement already satisfied: defusedxml in /usr/local/lib/python3.10/dist-packages (from nbconvert<8,>=6.4.5->voila) (0.7.1)\n",
            "Requirement already satisfied: tinycss2 in /usr/local/lib/python3.10/dist-packages (from nbconvert<8,>=6.4.5->voila) (1.2.1)\n",
            "Requirement already satisfied: idna>=2.8 in /usr/local/lib/python3.10/dist-packages (from anyio<4,>=3.1.0->jupyter-server<2.0.0,>=1.18->voila) (3.4)\n",
            "Requirement already satisfied: sniffio>=1.1 in /usr/local/lib/python3.10/dist-packages (from anyio<4,>=3.1.0->jupyter-server<2.0.0,>=1.18->voila) (1.3.0)\n",
            "Requirement already satisfied: attrs>=17.4.0 in /usr/local/lib/python3.10/dist-packages (from jsonschema>=4.17.3->jupyterlab-server<3,>=2.3.0->voila) (23.1.0)\n",
            "Requirement already satisfied: pyrsistent!=0.17.0,!=0.17.1,!=0.17.2,>=0.14.0 in /usr/local/lib/python3.10/dist-packages (from jsonschema>=4.17.3->jupyterlab-server<3,>=2.3.0->voila) (0.19.3)\n",
            "Requirement already satisfied: fastjsonschema in /usr/local/lib/python3.10/dist-packages (from nbformat>=5.2.0->jupyter-server<2.0.0,>=1.18->voila) (2.16.3)\n",
            "Requirement already satisfied: six>=1.5 in /usr/local/lib/python3.10/dist-packages (from python-dateutil>=2.1->jupyter-client<=7.4.1,>=6.1.3->voila) (1.16.0)\n",
            "Requirement already satisfied: urllib3<3,>=1.21.1 in /usr/local/lib/python3.10/dist-packages (from requests>=2.28->jupyterlab-server<3,>=2.3.0->voila) (1.26.15)\n",
            "Requirement already satisfied: charset-normalizer<4,>=2 in /usr/local/lib/python3.10/dist-packages (from requests>=2.28->jupyterlab-server<3,>=2.3.0->voila) (2.0.12)\n",
            "Requirement already satisfied: certifi>=2017.4.17 in /usr/local/lib/python3.10/dist-packages (from requests>=2.28->jupyterlab-server<3,>=2.3.0->voila) (2022.12.7)\n",
            "Requirement already satisfied: ptyprocess in /usr/local/lib/python3.10/dist-packages (from terminado>=0.8.3->jupyter-server<2.0.0,>=1.18->voila) (0.7.0)\n",
            "Requirement already satisfied: argon2-cffi-bindings in /usr/local/lib/python3.10/dist-packages (from argon2-cffi->jupyter-server<2.0.0,>=1.18->voila) (21.2.0)\n",
            "Requirement already satisfied: soupsieve>1.2 in /usr/local/lib/python3.10/dist-packages (from beautifulsoup4->nbconvert<8,>=6.4.5->voila) (2.4.1)\n",
            "Requirement already satisfied: webencodings in /usr/local/lib/python3.10/dist-packages (from bleach->nbconvert<8,>=6.4.5->voila) (0.5.1)\n",
            "Requirement already satisfied: cffi>=1.0.1 in /usr/local/lib/python3.10/dist-packages (from argon2-cffi-bindings->argon2-cffi->jupyter-server<2.0.0,>=1.18->voila) (1.15.1)\n",
            "Requirement already satisfied: pycparser in /usr/local/lib/python3.10/dist-packages (from cffi>=1.0.1->argon2-cffi-bindings->argon2-cffi->jupyter-server<2.0.0,>=1.18->voila) (2.21)\n",
            "Installing collected packages: json5, websockets, requests, jsonschema, jupyterlab-server, voila\n",
            "  Attempting uninstall: requests\n",
            "    Found existing installation: requests 2.27.1\n",
            "    Uninstalling requests-2.27.1:\n",
            "      Successfully uninstalled requests-2.27.1\n",
            "  Attempting uninstall: jsonschema\n",
            "    Found existing installation: jsonschema 4.3.3\n",
            "    Uninstalling jsonschema-4.3.3:\n",
            "      Successfully uninstalled jsonschema-4.3.3\n",
            "Successfully installed json5-0.9.11 jsonschema-4.17.3 jupyterlab-server-2.22.1 requests-2.30.0 voila-0.4.0 websockets-11.0.2\n"
          ]
        }
      ]
    },
    {
      "cell_type": "markdown",
      "source": [
        "### Start first example web-app\n",
        "* use the file browser to have a look at basics.ipynb\n"
      ],
      "metadata": {
        "id": "PDE48DQ9Wjno"
      }
    },
    {
      "cell_type": "code",
      "source": [
        "#convert and serve notebook (backgroud job)\n",
        "get_ipython().system_raw(\"voila --no-browser DATA/notebooks/basics.ipynb &\")"
      ],
      "metadata": {
        "id": "8MFWA26YV-I0"
      },
      "execution_count": 1,
      "outputs": []
    },
    {
      "cell_type": "code",
      "source": [
        "#start proxy to make app visible to the world... default port is 8866\n",
        "from google.colab.output import eval_js\n",
        "\n",
        "print(eval_js(\"google.colab.kernel.proxyPort(8866)\"))"
      ],
      "metadata": {
        "colab": {
          "base_uri": "https://localhost:8080/",
          "height": 35
        },
        "id": "lAEZjvIwW9Iq",
        "outputId": "3d7101d0-3264-4746-bfb3-27b9a1775397"
      },
      "execution_count": 6,
      "outputs": [
        {
          "output_type": "stream",
          "name": "stdout",
          "text": [
            "https://dpvftmqyzx-496ff2e9c6d22116-8866-colab.googleusercontent.com/\n"
          ]
        }
      ]
    },
    {
      "cell_type": "code",
      "source": [
        "#end app\n",
        "!killall voila"
      ],
      "metadata": {
        "id": "FZsJDBUxXtMt"
      },
      "execution_count": 8,
      "outputs": []
    },
    {
      "cell_type": "code",
      "source": [
        "#agian, now showing the source code\n",
        "get_ipython().system_raw(\"voila --strip_sources=False DATA/notebooks/basics.ipynb &\")"
      ],
      "metadata": {
        "id": "cBoiI40pYhOZ"
      },
      "execution_count": null,
      "outputs": []
    },
    {
      "cell_type": "markdown",
      "source": [
        "### serve folder of notebooks"
      ],
      "metadata": {
        "id": "HReuGy70ivGw"
      }
    },
    {
      "cell_type": "code",
      "source": [
        "%cd DATA/notebooks"
      ],
      "metadata": {
        "colab": {
          "base_uri": "https://localhost:8080/"
        },
        "id": "fpSGuPtYc0Th",
        "outputId": "bf669061-e86e-4409-8f71-4e307ab71c97"
      },
      "execution_count": 4,
      "outputs": [
        {
          "output_type": "stream",
          "name": "stdout",
          "text": [
            "/content/DATA/notebooks\n"
          ]
        }
      ]
    },
    {
      "cell_type": "code",
      "source": [
        "get_ipython().system_raw(\"voila --no-browser --debug &\")#serve all"
      ],
      "metadata": {
        "id": "rnxx6YLUgCSD"
      },
      "execution_count": 7,
      "outputs": []
    },
    {
      "cell_type": "code",
      "source": [
        "!voila --no-browser --debug"
      ],
      "metadata": {
        "colab": {
          "base_uri": "https://localhost:8080/"
        },
        "id": "UUB8yuTni9Of",
        "outputId": "0a5ad1ee-499a-4cfb-e39d-f2e9cbf75d65"
      },
      "execution_count": null,
      "outputs": [
        {
          "output_type": "stream",
          "name": "stdout",
          "text": [
            "[Voila] Looking for voila in /etc/jupyter\n",
            "[Voila] Looking for voila in /usr/local/etc/jupyter\n",
            "[Voila] Looking for voila in /usr/etc/jupyter\n",
            "[Voila] Looking for voila in /root/.local/etc/jupyter\n",
            "[Voila] Looking for voila in /root/.jupyter\n",
            "[Voila] Looking for voila in /content/DATA/notebooks\n",
            "[Voila] using template: lab\n",
            "[Voila] template paths:\n",
            "\t/usr/local/share/jupyter/voila/templates/lab\n",
            "\t/usr/local/share/jupyter/nbconvert/templates/lab\n",
            "\t/usr/local/share/jupyter/voila/templates/base\n",
            "\t/usr/local/share/jupyter/nbconvert/templates/base\n",
            "\t/root/.local/share/jupyter\n",
            "\t/root/.local/share/jupyter/voila/templates\n",
            "\t/root/.local/share/jupyter/nbconvert/templates\n",
            "\t/usr/local/share/jupyter\n",
            "\t/usr/local/share/jupyter/voila/templates\n",
            "\t/usr/local/share/jupyter/nbconvert/templates\n",
            "\t/usr/share/jupyter\n",
            "\t/usr/share/jupyter/voila/templates\n",
            "\t/usr/share/jupyter/nbconvert/templates\n",
            "[Voila] static paths:\n",
            "\t/root/.local/share/jupyter/voila/templates/lab/static\n",
            "\t/root/.local/share/jupyter/nbconvert/templates/lab/static\n",
            "\t/usr/local/share/jupyter/voila/templates/lab/static\n",
            "\t/usr/local/share/jupyter/nbconvert/templates/lab/static\n",
            "\t/usr/share/jupyter/voila/templates/lab/static\n",
            "\t/usr/share/jupyter/nbconvert/templates/lab/static\n",
            "\t/root/.local/share/jupyter/voila/templates/base/static\n",
            "\t/root/.local/share/jupyter/nbconvert/templates/base/static\n",
            "\t/usr/local/share/jupyter/voila/templates/base/static\n",
            "\t/usr/local/share/jupyter/nbconvert/templates/base/static\n",
            "\t/usr/share/jupyter/voila/templates/base/static\n",
            "\t/usr/share/jupyter/nbconvert/templates/base/static\n",
            "[Voila] Using /tmp to store connection files\n",
            "[Voila] Storing connection files in /tmp/voila_y0i3g1zs.\n",
            "[Voila] Serving static files from /usr/local/lib/python3.10/dist-packages/voila/static.\n",
            "[Voila] serving directory: '/content/DATA/notebooks'\n",
            "[Voila] Voilà is running at:\n",
            "http://localhost:8866/\n",
            "[Voila] Using contents: services/contents\n",
            "404 GET /favicon.ico (127.0.0.1) 1.20ms\n",
            "[Voila] Writing notebook-signing key to /root/.local/share/jupyter/notebook_secret\n",
            "[Voila] WARNING | Notebook basics.ipynb is not trusted\n",
            "[Voila] Found kernel python3 in /usr/local/share/jupyter/kernels\n",
            "[Voila] Found kernel ir in /usr/local/share/jupyter/kernels\n",
            "[Voila] Starting kernel (async): ['/usr/bin/python3', '-m', 'ipykernel_launcher', '-f', '/tmp/voila_y0i3g1zs/kernel-54fe50a5-13c4-4ba7-b445-3a82c1b1d0c0.json']\n",
            "[Voila] Connecting to: tcp://127.0.0.1:48809\n",
            "[Voila] Connecting to: tcp://127.0.0.1:56429\n",
            "[Voila] Kernel started: 54fe50a5-13c4-4ba7-b445-3a82c1b1d0c0\n",
            "[Voila] Kernel args: {'kernel_name': 'python3', 'env': {'SHELL': '/bin/bash', 'NV_LIBCUBLAS_VERSION': '11.11.3.6-1', 'NVIDIA_VISIBLE_DEVICES': 'all', 'COLAB_JUPYTER_TRANSPORT': 'ipc', 'NV_NVML_DEV_VERSION': '11.8.86-1', 'NV_CUDNN_PACKAGE_NAME': 'libcudnn8', 'CGROUP_MEMORY_EVENTS': '/sys/fs/cgroup/memory.events /var/colab/cgroup/jupyter-children/memory.events', 'NV_LIBNCCL_DEV_PACKAGE': 'libnccl-dev=2.16.2-1+cuda11.8', 'NV_LIBNCCL_DEV_PACKAGE_VERSION': '2.16.2-1', 'VM_GCE_METADATA_HOST': '169.254.169.253', 'HOSTNAME': 'ffcc0bfee237', 'TBE_RUNTIME_ADDR': '172.28.0.1:8011', 'GCE_METADATA_TIMEOUT': '3', 'NVIDIA_REQUIRE_CUDA': 'cuda>=11.8 brand=tesla,driver>=450,driver<451 brand=tesla,driver>=470,driver<471 brand=unknown,driver>=470,driver<471 brand=nvidia,driver>=470,driver<471 brand=nvidiartx,driver>=470,driver<471 brand=geforce,driver>=470,driver<471 brand=geforcertx,driver>=470,driver<471 brand=quadro,driver>=470,driver<471 brand=quadrortx,driver>=470,driver<471 brand=titan,driver>=470,driver<471 brand=titanrtx,driver>=470,driver<471 brand=tesla,driver>=510,driver<511 brand=unknown,driver>=510,driver<511 brand=nvidia,driver>=510,driver<511 brand=nvidiartx,driver>=510,driver<511 brand=geforce,driver>=510,driver<511 brand=geforcertx,driver>=510,driver<511 brand=quadro,driver>=510,driver<511 brand=quadrortx,driver>=510,driver<511 brand=titan,driver>=510,driver<511 brand=titanrtx,driver>=510,driver<511 brand=tesla,driver>=515,driver<516 brand=unknown,driver>=515,driver<516 brand=nvidia,driver>=515,driver<516 brand=nvidiartx,driver>=515,driver<516 brand=geforce,driver>=515,driver<516 brand=geforcertx,driver>=515,driver<516 brand=quadro,driver>=515,driver<516 brand=quadrortx,driver>=515,driver<516 brand=titan,driver>=515,driver<516 brand=titanrtx,driver>=515,driver<516', 'NV_LIBCUBLAS_DEV_PACKAGE': 'libcublas-dev-11-8=11.11.3.6-1', 'NV_NVTX_VERSION': '11.8.86-1', 'COLAB_JUPYTER_IP': '172.28.0.12', 'NV_CUDA_CUDART_DEV_VERSION': '11.8.89-1', 'NV_LIBCUSPARSE_VERSION': '11.7.5.86-1', 'COLAB_LANGUAGE_SERVER_PROXY_ROOT_URL': 'http://172.28.0.1:8013/', 'NV_LIBNPP_VERSION': '11.8.0.86-1', 'NCCL_VERSION': '2.16.2-1', 'KMP_LISTEN_PORT': '6000', 'TF_FORCE_GPU_ALLOW_GROWTH': 'true', 'ENV': '/root/.bashrc', 'PWD': '/content/DATA/notebooks', 'COLAB_LANGUAGE_SERVER_PROXY_REQUEST_TIMEOUT': '30s', 'TBE_EPHEM_CREDS_ADDR': '172.28.0.1:8009', 'TBE_CREDS_ADDR': '172.28.0.1:8008', 'NV_CUDNN_PACKAGE': 'libcudnn8=8.7.0.84-1+cuda11.8', 'NVIDIA_DRIVER_CAPABILITIES': 'compute,utility', 'COLAB_JUPYTER_TOKEN': '', 'LAST_FORCED_REBUILD': '20230428', 'NV_NVPROF_DEV_PACKAGE': 'cuda-nvprof-11-8=11.8.87-1', 'NV_LIBNPP_PACKAGE': 'libnpp-11-8=11.8.0.86-1', 'NV_LIBNCCL_DEV_PACKAGE_NAME': 'libnccl-dev', 'TCLLIBPATH': '/usr/share/tcltk/tcllib1.20', 'NV_LIBCUBLAS_DEV_VERSION': '11.11.3.6-1', 'COLAB_KERNEL_MANAGER_PROXY_HOST': '172.28.0.12', 'NVIDIA_PRODUCT_NAME': 'CUDA', 'NV_LIBCUBLAS_DEV_PACKAGE_NAME': 'libcublas-dev-11-8', 'USE_AUTH_EPHEM': '1', 'NV_CUDA_CUDART_VERSION': '11.8.89-1', 'HOME': '/root', 'LANG': 'en_US.UTF-8', 'CUDA_VERSION': '11.8.0', 'CLOUDSDK_CONFIG': '/content/.config', 'NV_LIBCUBLAS_PACKAGE': 'libcublas-11-8=11.11.3.6-1', 'COLAB_RELEASE_TAG': 'release-colab-20230502-060158-RC00', 'PYDEVD_USE_FRAME_EVAL': 'NO', 'KMP_TARGET_PORT': '9000', 'CLICOLOR': '1', 'KMP_EXTRA_ARGS': '--logtostderr --listen_host=172.28.0.12 --target_host=172.28.0.12 --tunnel_background_save_url=https://colab.research.google.com/tun/m/cc48301118ce562b961b3c22d803539adc1e0c19/m-s-s6g4opngivi8 --tunnel_background_save_delay=10s --tunnel_periodic_background_save_frequency=30m0s --enable_output_coalescing=true --output_coalescing_required=true', 'NV_LIBNPP_DEV_PACKAGE': 'libnpp-dev-11-8=11.8.0.86-1', 'NV_LIBCUBLAS_PACKAGE_NAME': 'libcublas-11-8', 'COLAB_KERNEL_MANAGER_PROXY_PORT': '6000', 'CLOUDSDK_PYTHON': 'python3', 'NV_LIBNPP_DEV_VERSION': '11.8.0.86-1', 'ENABLE_DIRECTORYPREFETCHER': '1', 'NO_GCE_CHECK': 'False', 'JPY_PARENT_PID': '81', 'PYTHONPATH': '/env/python', 'TERM': 'xterm-color', 'SETUPTOOLS_USE_DISTUTILS': 'stdlib', 'NV_LIBCUSPARSE_DEV_VERSION': '11.7.5.86-1', 'GIT_PAGER': 'cat', 'LIBRARY_PATH': '/usr/local/cuda/lib64/stubs', 'NV_CUDNN_VERSION': '8.7.0.84', 'SHLVL': '0', 'PAGER': 'cat', 'COLAB_LANGUAGE_SERVER_PROXY': '/usr/colab/bin/language_service', 'NV_CUDA_LIB_VERSION': '11.8.0-1', 'NVARCH': 'x86_64', 'NV_CUDNN_PACKAGE_DEV': 'libcudnn8-dev=8.7.0.84-1+cuda11.8', 'NV_CUDA_COMPAT_PACKAGE': 'cuda-compat-11-8', 'MPLBACKEND': 'module://ipykernel.pylab.backend_inline', 'NV_LIBNCCL_PACKAGE': 'libnccl2=2.16.2-1+cuda11.8', 'LD_LIBRARY_PATH': '/usr/local/nvidia/lib:/usr/local/nvidia/lib64', 'COLAB_GPU': '', 'GCS_READ_CACHE_BLOCK_SIZE_MB': '16', 'NV_NVPROF_VERSION': '11.8.87-1', 'PATH': '/opt/bin:/usr/local/nvidia/bin:/usr/local/cuda/bin:/usr/local/sbin:/usr/local/bin:/usr/sbin:/usr/bin:/sbin:/bin:/tools/node/bin:/tools/google-cloud-sdk/bin', 'NV_LIBNCCL_PACKAGE_NAME': 'libnccl2', 'COLAB_DEBUG_ADAPTER_MUX_PATH': '/usr/local/bin/dap_multiplexer', 'NV_LIBNCCL_PACKAGE_VERSION': '2.16.2-1', 'PYTHONWARNINGS': 'ignore:::pip._internal.cli.base_command', 'DEBIAN_FRONTEND': 'noninteractive', 'COLAB_BACKEND_VERSION': 'next', 'OLDPWD': '/', '_': '/usr/local/bin/voila', <ENV_VARIABLE.SCRIPT_NAME: 'SCRIPT_NAME'>: '/voila/render/basics.ipynb', <ENV_VARIABLE.PATH_INFO: 'PATH_INFO'>: '', <ENV_VARIABLE.QUERY_STRING: 'QUERY_STRING'>: '', <ENV_VARIABLE.SERVER_SOFTWARE: 'SERVER_SOFTWARE'>: 'voila/0.4.0', <ENV_VARIABLE.SERVER_PROTOCOL: 'SERVER_PROTOCOL'>: 'HTTP/1.1', <ENV_VARIABLE.SERVER_PORT: 'SERVER_PORT'>: '', <ENV_VARIABLE.SERVER_NAME: 'SERVER_NAME'>: 'colab.research.google.com', <ENV_VARIABLE.VOILA_PREHEAT: 'VOILA_PREHEAT'>: 'False', <ENV_VARIABLE.VOILA_BASE_URL: 'VOILA_BASE_URL'>: '/', <ENV_VARIABLE.VOILA_SERVER_URL: 'VOILA_SERVER_URL'>: '/'}, 'cwd': '/content/DATA/notebooks'}\n",
            "[Voila] Template paths:\n",
            "\t/usr/local/share/jupyter/voila/templates/lab\n",
            "\t/usr/local/share/jupyter/nbconvert/templates/lab\n",
            "\t/usr/local/share/jupyter/voila/templates/base\n",
            "\t/usr/local/share/jupyter/nbconvert/templates/base\n",
            "\t/root/.local/share/jupyter\n",
            "\t/root/.local/share/jupyter/voila/templates\n",
            "\t/root/.local/share/jupyter/nbconvert/templates\n",
            "\t/usr/local/share/jupyter\n",
            "\t/usr/local/share/jupyter/voila/templates\n",
            "\t/usr/local/share/jupyter/nbconvert/templates\n",
            "\t/usr/share/jupyter\n",
            "\t/usr/share/jupyter/voila/templates\n",
            "\t/usr/share/jupyter/nbconvert/templates\n",
            "[Voila] Applying preprocessor: TagRemovePreprocessor\n",
            "[Voila] Applying preprocessor: RegexRemovePreprocessor\n",
            "[Voila] Applying preprocessor: coalesce_streams\n",
            "[Voila] Applying preprocessor: HighlightMagicsPreprocessor\n",
            "[Voila] Applying preprocessor: CSSHTMLHeaderPreprocessor\n",
            "[Voila] Attempting to load template index.html.j2\n",
            "[Voila]     template_paths: /usr/local/share/jupyter/voila/templates/lab:/usr/local/share/jupyter/nbconvert/templates/lab:/usr/local/share/jupyter/voila/templates/base:/usr/local/share/jupyter/nbconvert/templates/base:/root/.local/share/jupyter:/root/.local/share/jupyter/voila/templates:/root/.local/share/jupyter/nbconvert/templates:/usr/local/share/jupyter:/usr/local/share/jupyter/voila/templates:/usr/local/share/jupyter/nbconvert/templates:/usr/share/jupyter:/usr/share/jupyter/voila/templates:/usr/share/jupyter/nbconvert/templates\n",
            "[Voila] connecting iopub channel to tcp://127.0.0.1:56429\n",
            "[Voila] Connecting to: tcp://127.0.0.1:56429\n",
            "[Voila] connecting shell channel to tcp://127.0.0.1:45449\n",
            "[Voila] Connecting to: tcp://127.0.0.1:45449\n",
            "[Voila] connecting stdin channel to tcp://127.0.0.1:60889\n",
            "[Voila] Connecting to: tcp://127.0.0.1:60889\n",
            "[Voila] connecting heartbeat channel to tcp://127.0.0.1:57801\n",
            "[Voila] connecting control channel to tcp://127.0.0.1:48809\n",
            "[Voila] Connecting to: tcp://127.0.0.1:48809\n",
            "[Voila] activity on 54fe50a5-13c4-4ba7-b445-3a82c1b1d0c0: status (starting)\n",
            "[Voila] activity on 54fe50a5-13c4-4ba7-b445-3a82c1b1d0c0: status (busy)\n",
            "[Voila] activity on 54fe50a5-13c4-4ba7-b445-3a82c1b1d0c0: status (idle)\n",
            "[Voila] Skipping non-executing cell 0\n",
            "[Voila] Skipping non-executing cell 1\n",
            "[Voila] Executing cell:\n",
            "import ipywidgets as widgets\n",
            "\n",
            "slider = widgets.FloatSlider(description='$x$')\n",
            "text = widgets.FloatText(disabled=True, description='$x^2$')\n",
            "\n",
            "def compute(*ignore):\n",
            "    text.value = str(slider.value ** 2)\n",
            "\n",
            "slider.observe(compute, 'value')\n",
            "\n",
            "slider.value = 4\n",
            "\n",
            "widgets.VBox([slider, text])\n",
            "[Voila] activity on 54fe50a5-13c4-4ba7-b445-3a82c1b1d0c0: status (busy)\n",
            "[Voila] activity on 54fe50a5-13c4-4ba7-b445-3a82c1b1d0c0: execute_input\n",
            "[Voila] activity on 54fe50a5-13c4-4ba7-b445-3a82c1b1d0c0: status (idle)\n",
            "[Voila] activity on 54fe50a5-13c4-4ba7-b445-3a82c1b1d0c0: status (busy)\n",
            "[Voila] activity on 54fe50a5-13c4-4ba7-b445-3a82c1b1d0c0: execute_input\n",
            "[Voila] msg_type: status\n",
            "[Voila] content: {'execution_state': 'busy'}\n",
            "[Voila] msg_type: execute_input\n",
            "[Voila] content: {'code': \"import ipywidgets as widgets\\n\\nslider = widgets.FloatSlider(description='$x$')\\ntext = widgets.FloatText(disabled=True, description='$x^2$')\\n\\ndef compute(*ignore):\\n    text.value = str(slider.value ** 2)\\n\\nslider.observe(compute, 'value')\\n\\nslider.value = 4\\n\\nwidgets.VBox([slider, text])\", 'execution_count': 1}\n",
            "[Voila] activity on 54fe50a5-13c4-4ba7-b445-3a82c1b1d0c0: comm_open\n",
            "[Voila] activity on 54fe50a5-13c4-4ba7-b445-3a82c1b1d0c0: comm_open\n",
            "[Voila] activity on 54fe50a5-13c4-4ba7-b445-3a82c1b1d0c0: comm_open\n",
            "[Voila] msg_type: comm_open\n",
            "[Voila] content: {'data': {'state': {'_model_module': '@jupyter-widgets/base', '_model_module_version': '1.2.0', '_model_name': 'LayoutModel', '_view_count': None, '_view_module': '@jupyter-widgets/base', '_view_module_version': '1.2.0', '_view_name': 'LayoutView', 'align_content': None, 'align_items': None, 'align_self': None, 'border': None, 'bottom': None, 'display': None, 'flex': None, 'flex_flow': None, 'grid_area': None, 'grid_auto_columns': None, 'grid_auto_flow': None, 'grid_auto_rows': None, 'grid_column': None, 'grid_gap': None, 'grid_row': None, 'grid_template_areas': None, 'grid_template_columns': None, 'grid_template_rows': None, 'height': None, 'justify_content': None, 'justify_items': None, 'left': None, 'margin': None, 'max_height': None, 'max_width': None, 'min_height': None, 'min_width': None, 'object_fit': None, 'object_position': None, 'order': None, 'overflow': None, 'overflow_x': None, 'overflow_y': None, 'padding': None, 'right': None, 'top': None, 'visibility': None, 'width': None}, 'buffer_paths': []}, 'comm_id': '4e6f473aabc44c1ab52f07727d208289', 'target_name': 'jupyter.widget', 'target_module': None}\n",
            "[Voila] activity on 54fe50a5-13c4-4ba7-b445-3a82c1b1d0c0: comm_open\n",
            "[Voila] activity on 54fe50a5-13c4-4ba7-b445-3a82c1b1d0c0: comm_open\n",
            "[Voila] msg_type: comm_open\n",
            "[Voila] content: {'data': {'state': {'_model_module': '@jupyter-widgets/controls', '_model_module_version': '1.5.0', '_model_name': 'SliderStyleModel', '_view_count': None, '_view_module': '@jupyter-widgets/base', '_view_module_version': '1.2.0', '_view_name': 'StyleView', 'description_width': '', 'handle_color': None}, 'buffer_paths': []}, 'comm_id': '400554d0b30a4cb5b27ed7600dd7d517', 'target_name': 'jupyter.widget', 'target_module': None}\n",
            "[Voila] activity on 54fe50a5-13c4-4ba7-b445-3a82c1b1d0c0: comm_open\n",
            "[Voila] activity on 54fe50a5-13c4-4ba7-b445-3a82c1b1d0c0: comm_msg\n",
            "[Voila] activity on 54fe50a5-13c4-4ba7-b445-3a82c1b1d0c0: comm_msg\n",
            "[Voila] msg_type: comm_open\n",
            "[Voila] content: {'data': {'state': {'_dom_classes': [], '_model_module': '@jupyter-widgets/controls', '_model_module_version': '1.5.0', '_model_name': 'FloatSliderModel', '_view_count': None, '_view_module': '@jupyter-widgets/controls', '_view_module_version': '1.5.0', '_view_name': 'FloatSliderView', 'continuous_update': True, 'description': '$x$', 'description_tooltip': None, 'disabled': False, 'layout': 'IPY_MODEL_4e6f473aabc44c1ab52f07727d208289', 'max': 100.0, 'min': 0.0, 'orientation': 'horizontal', 'readout': True, 'readout_format': '.2f', 'step': 0.1, 'style': 'IPY_MODEL_400554d0b30a4cb5b27ed7600dd7d517', 'value': 0.0}, 'buffer_paths': []}, 'comm_id': '4b4702e2150d40b3966f6b3214f73339', 'target_name': 'jupyter.widget', 'target_module': None}\n",
            "[Voila] activity on 54fe50a5-13c4-4ba7-b445-3a82c1b1d0c0: comm_open\n",
            "[Voila] activity on 54fe50a5-13c4-4ba7-b445-3a82c1b1d0c0: comm_open\n",
            "[Voila] msg_type: comm_open\n",
            "[Voila] content: {'data': {'state': {'_model_module': '@jupyter-widgets/base', '_model_module_version': '1.2.0', '_model_name': 'LayoutModel', '_view_count': None, '_view_module': '@jupyter-widgets/base', '_view_module_version': '1.2.0', '_view_name': 'LayoutView', 'align_content': None, 'align_items': None, 'align_self': None, 'border': None, 'bottom': None, 'display': None, 'flex': None, 'flex_flow': None, 'grid_area': None, 'grid_auto_columns': None, 'grid_auto_flow': None, 'grid_auto_rows': None, 'grid_column': None, 'grid_gap': None, 'grid_row': None, 'grid_template_areas': None, 'grid_template_columns': None, 'grid_template_rows': None, 'height': None, 'justify_content': None, 'justify_items': None, 'left': None, 'margin': None, 'max_height': None, 'max_width': None, 'min_height': None, 'min_width': None, 'object_fit': None, 'object_position': None, 'order': None, 'overflow': None, 'overflow_x': None, 'overflow_y': None, 'padding': None, 'right': None, 'top': None, 'visibility': None, 'width': None}, 'buffer_paths': []}, 'comm_id': '8e144d32ba9b45e1a353f32ea9f3ae8e', 'target_name': 'jupyter.widget', 'target_module': None}\n",
            "[Voila] activity on 54fe50a5-13c4-4ba7-b445-3a82c1b1d0c0: display_data\n",
            "[Voila] msg_type: comm_open\n",
            "[Voila] content: {'data': {'state': {'_model_module': '@jupyter-widgets/controls', '_model_module_version': '1.5.0', '_model_name': 'DescriptionStyleModel', '_view_count': None, '_view_module': '@jupyter-widgets/base', '_view_module_version': '1.2.0', '_view_name': 'StyleView', 'description_width': ''}, 'buffer_paths': []}, 'comm_id': '8685c340717e4907b74a5c4818300c0b', 'target_name': 'jupyter.widget', 'target_module': None}\n",
            "[Voila] msg_type: comm_open\n",
            "[Voila] content: {'data': {'state': {'_dom_classes': [], '_model_module': '@jupyter-widgets/controls', '_model_module_version': '1.5.0', '_model_name': 'FloatTextModel', '_view_count': None, '_view_module': '@jupyter-widgets/controls', '_view_module_version': '1.5.0', '_view_name': 'FloatTextView', 'continuous_update': False, 'description': '$x^2$', 'description_tooltip': None, 'disabled': True, 'layout': 'IPY_MODEL_8e144d32ba9b45e1a353f32ea9f3ae8e', 'step': None, 'style': 'IPY_MODEL_8685c340717e4907b74a5c4818300c0b', 'value': 0.0}, 'buffer_paths': []}, 'comm_id': 'ddb46f4a4e8d4787bff463bb0eb264ce', 'target_name': 'jupyter.widget', 'target_module': None}\n",
            "[Voila] msg_type: comm_msg\n",
            "[Voila] content: {'data': {'method': 'update', 'state': {'value': 4.0}, 'buffer_paths': []}, 'comm_id': '4b4702e2150d40b3966f6b3214f73339'}\n",
            "[Voila] activity on 54fe50a5-13c4-4ba7-b445-3a82c1b1d0c0: status (idle)\n",
            "[Voila] msg_type: comm_msg\n",
            "[Voila] content: {'data': {'method': 'update', 'state': {'value': 16.0}, 'buffer_paths': []}, 'comm_id': 'ddb46f4a4e8d4787bff463bb0eb264ce'}\n",
            "[Voila] msg_type: comm_open\n",
            "[Voila] content: {'data': {'state': {'_model_module': '@jupyter-widgets/base', '_model_module_version': '1.2.0', '_model_name': 'LayoutModel', '_view_count': None, '_view_module': '@jupyter-widgets/base', '_view_module_version': '1.2.0', '_view_name': 'LayoutView', 'align_content': None, 'align_items': None, 'align_self': None, 'border': None, 'bottom': None, 'display': None, 'flex': None, 'flex_flow': None, 'grid_area': None, 'grid_auto_columns': None, 'grid_auto_flow': None, 'grid_auto_rows': None, 'grid_column': None, 'grid_gap': None, 'grid_row': None, 'grid_template_areas': None, 'grid_template_columns': None, 'grid_template_rows': None, 'height': None, 'justify_content': None, 'justify_items': None, 'left': None, 'margin': None, 'max_height': None, 'max_width': None, 'min_height': None, 'min_width': None, 'object_fit': None, 'object_position': None, 'order': None, 'overflow': None, 'overflow_x': None, 'overflow_y': None, 'padding': None, 'right': None, 'top': None, 'visibility': None, 'width': None}, 'buffer_paths': []}, 'comm_id': 'b971ada4351d4f57ae0dabbed48d6111', 'target_name': 'jupyter.widget', 'target_module': None}\n",
            "[Voila] msg_type: comm_open\n",
            "[Voila] content: {'data': {'state': {'_dom_classes': [], '_model_module': '@jupyter-widgets/controls', '_model_module_version': '1.5.0', '_model_name': 'VBoxModel', '_view_count': None, '_view_module': '@jupyter-widgets/controls', '_view_module_version': '1.5.0', '_view_name': 'VBoxView', 'box_style': '', 'children': ['IPY_MODEL_4b4702e2150d40b3966f6b3214f73339', 'IPY_MODEL_ddb46f4a4e8d4787bff463bb0eb264ce'], 'layout': 'IPY_MODEL_b971ada4351d4f57ae0dabbed48d6111'}, 'buffer_paths': []}, 'comm_id': '023c4406b8da4bf49d93bf640f881129', 'target_name': 'jupyter.widget', 'target_module': None}\n",
            "[Voila] msg_type: display_data\n",
            "[Voila] content: {'data': {'text/plain': \"VBox(children=(FloatSlider(value=4.0, description='$x$'), FloatText(value=16.0, description='$x^2$', disabled=…\", 'application/vnd.jupyter.widget-view+json': {'version_major': 2, 'version_minor': 0, 'model_id': '023c4406b8da4bf49d93bf640f881129'}}, 'metadata': {}, 'transient': {}}\n",
            "[Voila] msg_type: status\n",
            "[Voila] content: {'execution_state': 'idle'}\n",
            "[Voila] Skipping non-executing cell 3\n",
            "[Voila] Executing cell:\n",
            "import pandas as pd\n",
            "\n",
            "iris = pd.read_csv('https://raw.githubusercontent.com/mwaskom/seaborn-data/master/iris.csv')\n",
            "iris\n",
            "[Voila] activity on 54fe50a5-13c4-4ba7-b445-3a82c1b1d0c0: status (busy)\n",
            "[Voila] activity on 54fe50a5-13c4-4ba7-b445-3a82c1b1d0c0: execute_input\n",
            "[Voila] msg_type: status\n",
            "[Voila] content: {'execution_state': 'busy'}\n",
            "[Voila] msg_type: execute_input\n",
            "[Voila] content: {'code': \"import pandas as pd\\n\\niris = pd.read_csv('https://raw.githubusercontent.com/mwaskom/seaborn-data/master/iris.csv')\\niris\", 'execution_count': 2}\n",
            "[Voila] activity on 54fe50a5-13c4-4ba7-b445-3a82c1b1d0c0: execute_result\n",
            "[Voila] msg_type: execute_result\n",
            "[Voila] content: {'data': {'text/plain': '     sepal_length  sepal_width  petal_length  petal_width    species\\n0             5.1          3.5           1.4          0.2     setosa\\n1             4.9          3.0           1.4          0.2     setosa\\n2             4.7          3.2           1.3          0.2     setosa\\n3             4.6          3.1           1.5          0.2     setosa\\n4             5.0          3.6           1.4          0.2     setosa\\n..            ...          ...           ...          ...        ...\\n145           6.7          3.0           5.2          2.3  virginica\\n146           6.3          2.5           5.0          1.9  virginica\\n147           6.5          3.0           5.2          2.0  virginica\\n148           6.2          3.4           5.4          2.3  virginica\\n149           5.9          3.0           5.1          1.8  virginica\\n\\n[150 rows x 5 columns]', 'text/html': '\\n  <div id=\"df-fb4c7e61-4a09-4842-86ac-c7ee86e835e4\">\\n    <div class=\"colab-df-container\">\\n      <div>\\n<style scoped>\\n    .dataframe tbody tr th:only-of-type {\\n        vertical-align: middle;\\n    }\\n\\n    .dataframe tbody tr th {\\n        vertical-align: top;\\n    }\\n\\n    .dataframe thead th {\\n        text-align: right;\\n    }\\n</style>\\n<table border=\"1\" class=\"dataframe\">\\n  <thead>\\n    <tr style=\"text-align: right;\">\\n      <th></th>\\n      <th>sepal_length</th>\\n      <th>sepal_width</th>\\n      <th>petal_length</th>\\n      <th>petal_width</th>\\n      <th>species</th>\\n    </tr>\\n  </thead>\\n  <tbody>\\n    <tr>\\n      <th>0</th>\\n      <td>5.1</td>\\n      <td>3.5</td>\\n      <td>1.4</td>\\n      <td>0.2</td>\\n      <td>setosa</td>\\n    </tr>\\n    <tr>\\n      <th>1</th>\\n      <td>4.9</td>\\n      <td>3.0</td>\\n      <td>1.4</td>\\n      <td>0.2</td>\\n      <td>setosa</td>\\n    </tr>\\n    <tr>\\n      <th>2</th>\\n      <td>4.7</td>\\n      <td>3.2</td>\\n      <td>1.3</td>\\n      <td>0.2</td>\\n      <td>setosa</td>\\n    </tr>\\n    <tr>\\n      <th>3</th>\\n      <td>4.6</td>\\n      <td>3.1</td>\\n      <td>1.5</td>\\n      <td>0.2</td>\\n      <td>setosa</td>\\n    </tr>\\n    <tr>\\n      <th>4</th>\\n      <td>5.0</td>\\n      <td>3.6</td>\\n      <td>1.4</td>\\n      <td>0.2</td>\\n      <td>setosa</td>\\n    </tr>\\n    <tr>\\n      <th>...</th>\\n      <td>...</td>\\n      <td>...</td>\\n      <td>...</td>\\n      <td>...</td>\\n      <td>...</td>\\n    </tr>\\n    <tr>\\n      <th>145</th>\\n      <td>6.7</td>\\n      <td>3.0</td>\\n      <td>5.2</td>\\n      <td>2.3</td>\\n      <td>virginica</td>\\n    </tr>\\n    <tr>\\n      <th>146</th>\\n      <td>6.3</td>\\n      <td>2.5</td>\\n      <td>5.0</td>\\n      <td>1.9</td>\\n      <td>virginica</td>\\n    </tr>\\n    <tr>\\n      <th>147</th>\\n      <td>6.5</td>\\n      <td>3.0</td>\\n      <td>5.2</td>\\n      <td>2.0</td>\\n      <td>virginica</td>\\n    </tr>\\n    <tr>\\n      <th>148</th>\\n      <td>6.2</td>\\n      <td>3.4</td>\\n      <td>5.4</td>\\n      <td>2.3</td>\\n      <td>virginica</td>\\n    </tr>\\n    <tr>\\n      <th>149</th>\\n      <td>5.9</td>\\n      <td>3.0</td>\\n      <td>5.1</td>\\n      <td>1.8</td>\\n      <td>virginica</td>\\n    </tr>\\n  </tbody>\\n</table>\\n<p>150 rows × 5 columns</p>\\n</div>\\n      <button class=\"colab-df-convert\" onclick=\"convertToInteractive(\\'df-fb4c7e61-4a09-4842-86ac-c7ee86e835e4\\')\"\\n              title=\"Convert this dataframe to an interactive table.\"\\n              style=\"display:none;\">\\n        \\n  <svg xmlns=\"http://www.w3.org/2000/svg\" height=\"24px\"viewBox=\"0 0 24 24\"\\n       width=\"24px\">\\n    <path d=\"M0 0h24v24H0V0z\" fill=\"none\"/>\\n    <path d=\"M18.56 5.44l.94 2.06.94-2.06 2.06-.94-2.06-.94-.94-2.06-.94 2.06-2.06.94zm-11 1L8.5 8.5l.94-2.06 2.06-.94-2.06-.94L8.5 2.5l-.94 2.06-2.06.94zm10 10l.94 2.06.94-2.06 2.06-.94-2.06-.94-.94-2.06-.94 2.06-2.06.94z\"/><path d=\"M17.41 7.96l-1.37-1.37c-.4-.4-.92-.59-1.43-.59-.52 0-1.04.2-1.43.59L10.3 9.45l-7.72 7.72c-.78.78-.78 2.05 0 2.83L4 21.41c.39.39.9.59 1.41.59.51 0 1.02-.2 1.41-.59l7.78-7.78 2.81-2.81c.8-.78.8-2.07 0-2.86zM5.41 20L4 18.59l7.72-7.72 1.47 1.35L5.41 20z\"/>\\n  </svg>\\n      </button>\\n      \\n  <style>\\n    .colab-df-container {\\n      display:flex;\\n      flex-wrap:wrap;\\n      gap: 12px;\\n    }\\n\\n    .colab-df-convert {\\n      background-color: #E8F0FE;\\n      border: none;\\n      border-radius: 50%;\\n      cursor: pointer;\\n      display: none;\\n      fill: #1967D2;\\n      height: 32px;\\n      padding: 0 0 0 0;\\n      width: 32px;\\n    }\\n\\n    .colab-df-convert:hover {\\n      background-color: #E2EBFA;\\n      box-shadow: 0px 1px 2px rgba(60, 64, 67, 0.3), 0px 1px 3px 1px rgba(60, 64, 67, 0.15);\\n      fill: #174EA6;\\n    }\\n\\n    [theme=dark] .colab-df-convert {\\n      background-color: #3B4455;\\n      fill: #D2E3FC;\\n    }\\n\\n    [theme=dark] .colab-df-convert:hover {\\n      background-color: #434B5C;\\n      box-shadow: 0px 1px 3px 1px rgba(0, 0, 0, 0.15);\\n      filter: drop-shadow(0px 1px 2px rgba(0, 0, 0, 0.3));\\n      fill: #FFFFFF;\\n    }\\n  </style>\\n\\n      <script>\\n        const buttonEl =\\n          document.querySelector(\\'#df-fb4c7e61-4a09-4842-86ac-c7ee86e835e4 button.colab-df-convert\\');\\n        buttonEl.style.display =\\n          google.colab.kernel.accessAllowed ? \\'block\\' : \\'none\\';\\n\\n        async function convertToInteractive(key) {\\n          const element = document.querySelector(\\'#df-fb4c7e61-4a09-4842-86ac-c7ee86e835e4\\');\\n          const dataTable =\\n            await google.colab.kernel.invokeFunction(\\'convertToInteractive\\',\\n                                                     [key], {});\\n          if (!dataTable) return;\\n\\n          const docLinkHtml = \\'Like what you see? Visit the \\' +\\n            \\'<a target=\"_blank\" href=https://colab.research.google.com/notebooks/data_table.ipynb>data table notebook</a>\\'\\n            + \\' to learn more about interactive tables.\\';\\n          element.innerHTML = \\'\\';\\n          dataTable[\\'output_type\\'] = \\'display_data\\';\\n          await google.colab.output.renderOutput(dataTable, element);\\n          const docLink = document.createElement(\\'div\\');\\n          docLink.innerHTML = docLinkHtml;\\n          element.appendChild(docLink);\\n        }\\n      </script>\\n    </div>\\n  </div>\\n  '}, 'metadata': {}, 'execution_count': 2}\n",
            "[Voila] activity on 54fe50a5-13c4-4ba7-b445-3a82c1b1d0c0: status (idle)\n",
            "[Voila] msg_type: status\n",
            "[Voila] content: {'execution_state': 'idle'}\n",
            "[Voila] Skipping non-executing cell 5\n",
            "404 GET /favicon.ico (127.0.0.1) 0.79ms\n",
            "/usr/local/lib/python3.10/dist-packages/jupyter_server/base/handlers.py:197: UserWarning: The Tornado web application does not have an 'authorizer' defined in its settings. In future releases of jupyter_server, this will be a required key for all subclasses of `JupyterHandler`. For an example, see the jupyter_server source code for how to add an authorizer to the tornado settings: https://github.com/jupyter-server/jupyter_server/blob/653740cbad7ce0c8a8752ce83e4d3c2c754b13cb/jupyter_server/serverapp.py#L234-L256\n",
            "  warnings.warn(\n"
          ]
        }
      ]
    },
    {
      "cell_type": "code",
      "source": [],
      "metadata": {
        "id": "WK4Hu57gjax1"
      },
      "execution_count": null,
      "outputs": []
    }
  ]
}