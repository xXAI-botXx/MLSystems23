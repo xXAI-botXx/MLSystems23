{
  "cells": [
    {
      "cell_type": "markdown",
      "id": "latin-worst",
      "metadata": {
        "id": "latin-worst"
      },
      "source": [
        "# Intro to DVC"
      ]
    },
    {
      "cell_type": "markdown",
      "id": "objective-masters",
      "metadata": {
        "id": "objective-masters"
      },
      "source": [
        "#### Installing DVC\n",
        "\n",
        "DVC can be installed either through pip:\n",
        "\n",
        "```\n",
        "pip install dvc\n",
        "```\n",
        "\n",
        "Or by downloading an installer from their website: https://dvc.org/\n"
      ]
    },
    {
      "cell_type": "code",
      "source": [
        "!pip install dvc"
      ],
      "metadata": {
        "id": "Qnv54lXOilsM",
        "outputId": "424cf6b1-c6c2-4d6a-889b-35c9ea9ddf7b",
        "colab": {
          "base_uri": "https://localhost:8080/",
          "height": 1000
        }
      },
      "id": "Qnv54lXOilsM",
      "execution_count": 1,
      "outputs": [
        {
          "output_type": "stream",
          "name": "stdout",
          "text": [
            "Looking in indexes: https://pypi.org/simple, https://us-python.pkg.dev/colab-wheels/public/simple/\n",
            "Collecting dvc\n",
            "  Downloading dvc-2.54.0-py3-none-any.whl (417 kB)\n",
            "\u001b[2K     \u001b[90m━━━━━━━━━━━━━━━━━━━━━━━━━━━━━━━━━━━━━━━\u001b[0m \u001b[32m417.4/417.4 kB\u001b[0m \u001b[31m9.9 MB/s\u001b[0m eta \u001b[36m0:00:00\u001b[0m\n",
            "\u001b[?25hCollecting dvc-studio-client<1,>=0.6.1\n",
            "  Downloading dvc_studio_client-0.6.2-py3-none-any.whl (9.9 kB)\n",
            "Collecting dvc-data<0.48,>=0.47.1\n",
            "  Downloading dvc_data-0.47.1-py3-none-any.whl (59 kB)\n",
            "\u001b[2K     \u001b[90m━━━━━━━━━━━━━━━━━━━━━━━━━━━━━━━━━━━━━━━━\u001b[0m \u001b[32m59.4/59.4 kB\u001b[0m \u001b[31m2.9 MB/s\u001b[0m eta \u001b[36m0:00:00\u001b[0m\n",
            "\u001b[?25hCollecting dvc-render<0.4.0,>=0.3.1\n",
            "  Downloading dvc_render-0.3.1-py3-none-any.whl (18 kB)\n",
            "Requirement already satisfied: pydot>=1.2.4 in /usr/local/lib/python3.9/dist-packages (from dvc) (1.4.2)\n",
            "Collecting zc.lockfile>=1.2.1\n",
            "  Downloading zc.lockfile-3.0.post1-py3-none-any.whl (9.8 kB)\n",
            "Collecting tomlkit>=0.11.1\n",
            "  Downloading tomlkit-0.11.7-py3-none-any.whl (35 kB)\n",
            "Collecting flufl.lock>=5\n",
            "  Downloading flufl.lock-7.1.1-py3-none-any.whl (11 kB)\n",
            "Collecting shortuuid>=0.5\n",
            "  Downloading shortuuid-1.0.11-py3-none-any.whl (10 kB)\n",
            "Collecting funcy>=1.14\n",
            "  Downloading funcy-2.0-py2.py3-none-any.whl (30 kB)\n",
            "Collecting shtab<2,>=1.3.4\n",
            "  Downloading shtab-1.6.1-py3-none-any.whl (13 kB)\n",
            "Requirement already satisfied: tqdm<5,>=4.63.1 in /usr/local/lib/python3.9/dist-packages (from dvc) (4.65.0)\n",
            "Collecting dvc-http>=2.29.0\n",
            "  Downloading dvc_http-2.30.2-py3-none-any.whl (12 kB)\n",
            "Requirement already satisfied: requests>=2.22 in /usr/local/lib/python3.9/dist-packages (from dvc) (2.27.1)\n",
            "Collecting dpath<3,>=2.1.0\n",
            "  Downloading dpath-2.1.5-py3-none-any.whl (17 kB)\n",
            "Collecting grandalf<1,>=0.7\n",
            "  Downloading grandalf-0.8-py3-none-any.whl (41 kB)\n",
            "\u001b[2K     \u001b[90m━━━━━━━━━━━━━━━━━━━━━━━━━━━━━━━━━━━━━━━━\u001b[0m \u001b[32m41.8/41.8 kB\u001b[0m \u001b[31m1.8 MB/s\u001b[0m eta \u001b[36m0:00:00\u001b[0m\n",
            "\u001b[?25hCollecting distro>=1.3\n",
            "  Downloading distro-1.8.0-py3-none-any.whl (20 kB)\n",
            "Collecting iterative-telemetry>=0.0.7\n",
            "  Downloading iterative_telemetry-0.0.8-py3-none-any.whl (10 kB)\n",
            "Collecting flatten-dict<1,>=0.4.1\n",
            "  Downloading flatten_dict-0.4.2-py2.py3-none-any.whl (9.7 kB)\n",
            "Collecting ruamel.yaml>=0.17.11\n",
            "  Downloading ruamel.yaml-0.17.21-py3-none-any.whl (109 kB)\n",
            "\u001b[2K     \u001b[90m━━━━━━━━━━━━━━━━━━━━━━━━━━━━━━━━━━━━━━━\u001b[0m \u001b[32m109.5/109.5 kB\u001b[0m \u001b[31m3.7 MB/s\u001b[0m eta \u001b[36m0:00:00\u001b[0m\n",
            "\u001b[?25hRequirement already satisfied: networkx>=2.5 in /usr/local/lib/python3.9/dist-packages (from dvc) (3.1)\n",
            "Requirement already satisfied: platformdirs<4,>=3.1.1 in /usr/local/lib/python3.9/dist-packages (from dvc) (3.2.0)\n",
            "Requirement already satisfied: tabulate>=0.8.7 in /usr/local/lib/python3.9/dist-packages (from dvc) (0.8.10)\n",
            "Collecting configobj>=5.0.6\n",
            "  Downloading configobj-5.0.8-py2.py3-none-any.whl (36 kB)\n",
            "Collecting hydra-core>=1.1\n",
            "  Downloading hydra_core-1.3.2-py3-none-any.whl (154 kB)\n",
            "\u001b[2K     \u001b[90m━━━━━━━━━━━━━━━━━━━━━━━━━━━━━━━━━━━━━━━\u001b[0m \u001b[32m154.5/154.5 kB\u001b[0m \u001b[31m8.1 MB/s\u001b[0m eta \u001b[36m0:00:00\u001b[0m\n",
            "\u001b[?25hRequirement already satisfied: rich>=12 in /usr/local/lib/python3.9/dist-packages (from dvc) (13.3.3)\n",
            "Collecting dvc-task<1,>=0.2.0\n",
            "  Downloading dvc_task-0.2.0-py3-none-any.whl (23 kB)\n",
            "Requirement already satisfied: packaging>=19 in /usr/local/lib/python3.9/dist-packages (from dvc) (23.0)\n",
            "Requirement already satisfied: psutil>=5.8 in /usr/local/lib/python3.9/dist-packages (from dvc) (5.9.4)\n",
            "Collecting colorama>=0.3.9\n",
            "  Downloading colorama-0.4.6-py2.py3-none-any.whl (25 kB)\n",
            "Collecting pathspec>=0.10.3\n",
            "  Downloading pathspec-0.11.1-py3-none-any.whl (29 kB)\n",
            "Collecting pygtrie>=2.3.2\n",
            "  Downloading pygtrie-2.5.0-py3-none-any.whl (25 kB)\n",
            "Collecting scmrepo<2,>=1.0.0\n",
            "  Downloading scmrepo-1.0.1-py3-none-any.whl (54 kB)\n",
            "\u001b[2K     \u001b[90m━━━━━━━━━━━━━━━━━━━━━━━━━━━━━━━━━━━━━━━━\u001b[0m \u001b[32m54.7/54.7 kB\u001b[0m \u001b[31m3.9 MB/s\u001b[0m eta \u001b[36m0:00:00\u001b[0m\n",
            "\u001b[?25hCollecting voluptuous>=0.11.7\n",
            "  Downloading voluptuous-0.13.1-py3-none-any.whl (29 kB)\n",
            "Requirement already satisfied: pyparsing>=2.4.7 in /usr/local/lib/python3.9/dist-packages (from dvc) (3.0.9)\n",
            "Requirement already satisfied: six in /usr/local/lib/python3.9/dist-packages (from configobj>=5.0.6->dvc) (1.16.0)\n",
            "Collecting dvc-objects<1,>=0.21.1\n",
            "  Downloading dvc_objects-0.21.1-py3-none-any.whl (37 kB)\n",
            "Collecting dictdiffer>=0.8.1\n",
            "  Downloading dictdiffer-0.9.0-py2.py3-none-any.whl (16 kB)\n",
            "Collecting diskcache>=5.2.1\n",
            "  Downloading diskcache-5.5.1-py3-none-any.whl (45 kB)\n",
            "\u001b[2K     \u001b[90m━━━━━━━━━━━━━━━━━━━━━━━━━━━━━━━━━━━━━━━━\u001b[0m \u001b[32m45.2/45.2 kB\u001b[0m \u001b[31m2.9 MB/s\u001b[0m eta \u001b[36m0:00:00\u001b[0m\n",
            "\u001b[?25hCollecting sqltrie<1,>=0.3.0\n",
            "  Downloading sqltrie-0.3.1-py3-none-any.whl (16 kB)\n",
            "Requirement already satisfied: attrs>=21.3.0 in /usr/local/lib/python3.9/dist-packages (from dvc-data<0.48,>=0.47.1->dvc) (22.2.0)\n",
            "Collecting nanotime>=0.5.2\n",
            "  Downloading nanotime-0.5.2.tar.gz (3.2 kB)\n",
            "  Preparing metadata (setup.py) ... \u001b[?25l\u001b[?25hdone\n",
            "Requirement already satisfied: fsspec[http] in /usr/local/lib/python3.9/dist-packages (from dvc-http>=2.29.0->dvc) (2023.4.0)\n",
            "Collecting aiohttp-retry>=2.5.0\n",
            "  Downloading aiohttp_retry-2.8.3-py3-none-any.whl (9.8 kB)\n",
            "Collecting dulwich\n",
            "  Downloading dulwich-0.21.3-cp39-cp39-manylinux_2_17_x86_64.manylinux2014_x86_64.whl (505 kB)\n",
            "\u001b[2K     \u001b[90m━━━━━━━━━━━━━━━━━━━━━━━━━━━━━━━━━━━━━━\u001b[0m \u001b[32m505.9/505.9 kB\u001b[0m \u001b[31m12.0 MB/s\u001b[0m eta \u001b[36m0:00:00\u001b[0m\n",
            "\u001b[?25hCollecting celery<6,>=5.2.0\n",
            "  Downloading celery-5.2.7-py3-none-any.whl (405 kB)\n",
            "\u001b[2K     \u001b[90m━━━━━━━━━━━━━━━━━━━━━━━━━━━━━━━━━━━━━━━\u001b[0m \u001b[32m405.6/405.6 kB\u001b[0m \u001b[31m9.5 MB/s\u001b[0m eta \u001b[36m0:00:00\u001b[0m\n",
            "\u001b[?25hCollecting kombu<6,>=5.2.0\n",
            "  Downloading kombu-5.2.4-py3-none-any.whl (189 kB)\n",
            "\u001b[2K     \u001b[90m━━━━━━━━━━━━━━━━━━━━━━━━━━━━━━━━━━━━━━\u001b[0m \u001b[32m189.2/189.2 kB\u001b[0m \u001b[31m12.0 MB/s\u001b[0m eta \u001b[36m0:00:00\u001b[0m\n",
            "\u001b[?25hCollecting atpublic>=2.3\n",
            "  Downloading atpublic-3.1.1-py3-none-any.whl (4.8 kB)\n",
            "Collecting antlr4-python3-runtime==4.9.*\n",
            "  Downloading antlr4-python3-runtime-4.9.3.tar.gz (117 kB)\n",
            "\u001b[2K     \u001b[90m━━━━━━━━━━━━━━━━━━━━━━━━━━━━━━━━━━━━━━━\u001b[0m \u001b[32m117.0/117.0 kB\u001b[0m \u001b[31m5.0 MB/s\u001b[0m eta \u001b[36m0:00:00\u001b[0m\n",
            "\u001b[?25h  Preparing metadata (setup.py) ... \u001b[?25l\u001b[?25hdone\n",
            "Collecting omegaconf<2.4,>=2.2\n",
            "  Downloading omegaconf-2.3.0-py3-none-any.whl (79 kB)\n",
            "\u001b[2K     \u001b[90m━━━━━━━━━━━━━━━━━━━━━━━━━━━━━━━━━━━━━━━━\u001b[0m \u001b[32m79.5/79.5 kB\u001b[0m \u001b[31m3.2 MB/s\u001b[0m eta \u001b[36m0:00:00\u001b[0m\n",
            "\u001b[?25hRequirement already satisfied: filelock in /usr/local/lib/python3.9/dist-packages (from iterative-telemetry>=0.0.7->dvc) (3.11.0)\n",
            "Requirement already satisfied: appdirs in /usr/local/lib/python3.9/dist-packages (from iterative-telemetry>=0.0.7->dvc) (1.4.4)\n",
            "Requirement already satisfied: charset-normalizer~=2.0.0 in /usr/local/lib/python3.9/dist-packages (from requests>=2.22->dvc) (2.0.12)\n",
            "Requirement already satisfied: idna<4,>=2.5 in /usr/local/lib/python3.9/dist-packages (from requests>=2.22->dvc) (3.4)\n",
            "Requirement already satisfied: urllib3<1.27,>=1.21.1 in /usr/local/lib/python3.9/dist-packages (from requests>=2.22->dvc) (1.26.15)\n",
            "Requirement already satisfied: certifi>=2017.4.17 in /usr/local/lib/python3.9/dist-packages (from requests>=2.22->dvc) (2022.12.7)\n",
            "Requirement already satisfied: pygments<3.0.0,>=2.13.0 in /usr/local/lib/python3.9/dist-packages (from rich>=12->dvc) (2.14.0)\n",
            "Requirement already satisfied: markdown-it-py<3.0.0,>=2.2.0 in /usr/local/lib/python3.9/dist-packages (from rich>=12->dvc) (2.2.0)\n",
            "Collecting ruamel.yaml.clib>=0.2.6\n",
            "  Downloading ruamel.yaml.clib-0.2.7-cp39-cp39-manylinux_2_17_x86_64.manylinux2014_x86_64.manylinux_2_24_x86_64.whl (519 kB)\n",
            "\u001b[2K     \u001b[90m━━━━━━━━━━━━━━━━━━━━━━━━━━━━━━━━━━━━━━\u001b[0m \u001b[32m519.4/519.4 kB\u001b[0m \u001b[31m22.9 MB/s\u001b[0m eta \u001b[36m0:00:00\u001b[0m\n",
            "\u001b[?25hCollecting gitpython>3\n",
            "  Downloading GitPython-3.1.31-py3-none-any.whl (184 kB)\n",
            "\u001b[2K     \u001b[90m━━━━━━━━━━━━━━━━━━━━━━━━━━━━━━━━━━━━━━\u001b[0m \u001b[32m184.3/184.3 kB\u001b[0m \u001b[31m13.4 MB/s\u001b[0m eta \u001b[36m0:00:00\u001b[0m\n",
            "\u001b[?25hCollecting asyncssh<3,>=2.13.1\n",
            "  Downloading asyncssh-2.13.1-py3-none-any.whl (348 kB)\n",
            "\u001b[2K     \u001b[90m━━━━━━━━━━━━━━━━━━━━━━━━━━━━━━━━━━━━━━\u001b[0m \u001b[32m348.5/348.5 kB\u001b[0m \u001b[31m15.1 MB/s\u001b[0m eta \u001b[36m0:00:00\u001b[0m\n",
            "\u001b[?25hCollecting pygit2>=1.10.0\n",
            "  Downloading pygit2-1.12.0-cp39-cp39-manylinux_2_17_x86_64.manylinux2014_x86_64.whl (4.9 MB)\n",
            "\u001b[2K     \u001b[90m━━━━━━━━━━━━━━━━━━━━━━━━━━━━━━━━━━━━━━━━\u001b[0m \u001b[32m4.9/4.9 MB\u001b[0m \u001b[31m52.0 MB/s\u001b[0m eta \u001b[36m0:00:00\u001b[0m\n",
            "\u001b[?25hRequirement already satisfied: setuptools in /usr/local/lib/python3.9/dist-packages (from zc.lockfile>=1.2.1->dvc) (67.6.1)\n",
            "Collecting aiohttp\n",
            "  Downloading aiohttp-3.8.4-cp39-cp39-manylinux_2_17_x86_64.manylinux2014_x86_64.whl (1.0 MB)\n",
            "\u001b[2K     \u001b[90m━━━━━━━━━━━━━━━━━━━━━━━━━━━━━━━━━━━━━━━━\u001b[0m \u001b[32m1.0/1.0 MB\u001b[0m \u001b[31m21.3 MB/s\u001b[0m eta \u001b[36m0:00:00\u001b[0m\n",
            "\u001b[?25hRequirement already satisfied: cryptography>=3.1 in /usr/local/lib/python3.9/dist-packages (from asyncssh<3,>=2.13.1->scmrepo<2,>=1.0.0->dvc) (40.0.1)\n",
            "Requirement already satisfied: typing-extensions>=3.6 in /usr/local/lib/python3.9/dist-packages (from asyncssh<3,>=2.13.1->scmrepo<2,>=1.0.0->dvc) (4.5.0)\n",
            "Requirement already satisfied: click<9.0,>=8.0.3 in /usr/local/lib/python3.9/dist-packages (from celery<6,>=5.2.0->dvc-task<1,>=0.2.0->dvc) (8.1.3)\n",
            "Collecting vine<6.0,>=5.0.0\n",
            "  Downloading vine-5.0.0-py2.py3-none-any.whl (9.4 kB)\n",
            "Collecting click-plugins>=1.1.1\n",
            "  Downloading click_plugins-1.1.1-py2.py3-none-any.whl (7.5 kB)\n",
            "Collecting click-repl>=0.2.0\n",
            "  Downloading click_repl-0.2.0-py3-none-any.whl (5.2 kB)\n",
            "Requirement already satisfied: pytz>=2021.3 in /usr/local/lib/python3.9/dist-packages (from celery<6,>=5.2.0->dvc-task<1,>=0.2.0->dvc) (2022.7.1)\n",
            "Collecting click-didyoumean>=0.0.3\n",
            "  Downloading click_didyoumean-0.3.0-py3-none-any.whl (2.7 kB)\n",
            "Collecting billiard<4.0,>=3.6.4.0\n",
            "  Downloading billiard-3.6.4.0-py3-none-any.whl (89 kB)\n",
            "\u001b[2K     \u001b[90m━━━━━━━━━━━━━━━━━━━━━━━━━━━━━━━━━━━━━━━━\u001b[0m \u001b[32m89.5/89.5 kB\u001b[0m \u001b[31m10.1 MB/s\u001b[0m eta \u001b[36m0:00:00\u001b[0m\n",
            "\u001b[?25hCollecting gitdb<5,>=4.0.1\n",
            "  Downloading gitdb-4.0.10-py3-none-any.whl (62 kB)\n",
            "\u001b[2K     \u001b[90m━━━━━━━━━━━━━━━━━━━━━━━━━━━━━━━━━━━━━━━━\u001b[0m \u001b[32m62.7/62.7 kB\u001b[0m \u001b[31m7.9 MB/s\u001b[0m eta \u001b[36m0:00:00\u001b[0m\n",
            "\u001b[?25hCollecting amqp<6.0.0,>=5.0.9\n",
            "  Downloading amqp-5.1.1-py3-none-any.whl (50 kB)\n",
            "\u001b[2K     \u001b[90m━━━━━━━━━━━━━━━━━━━━━━━━━━━━━━━━━━━━━━━━\u001b[0m \u001b[32m50.8/50.8 kB\u001b[0m \u001b[31m5.5 MB/s\u001b[0m eta \u001b[36m0:00:00\u001b[0m\n",
            "\u001b[?25hRequirement already satisfied: mdurl~=0.1 in /usr/local/lib/python3.9/dist-packages (from markdown-it-py<3.0.0,>=2.2.0->rich>=12->dvc) (0.1.2)\n",
            "Requirement already satisfied: PyYAML>=5.1.0 in /usr/local/lib/python3.9/dist-packages (from omegaconf<2.4,>=2.2->hydra-core>=1.1->dvc) (6.0)\n",
            "Requirement already satisfied: cffi>=1.9.1 in /usr/local/lib/python3.9/dist-packages (from pygit2>=1.10.0->scmrepo<2,>=1.0.0->dvc) (1.15.1)\n",
            "Collecting orjson\n",
            "  Downloading orjson-3.8.10-cp39-cp39-manylinux_2_28_x86_64.whl (140 kB)\n",
            "\u001b[2K     \u001b[90m━━━━━━━━━━━━━━━━━━━━━━━━━━━━━━━━━━━━━━\u001b[0m \u001b[32m140.5/140.5 kB\u001b[0m \u001b[31m11.3 MB/s\u001b[0m eta \u001b[36m0:00:00\u001b[0m\n",
            "\u001b[?25hCollecting frozenlist>=1.1.1\n",
            "  Downloading frozenlist-1.3.3-cp39-cp39-manylinux_2_5_x86_64.manylinux1_x86_64.manylinux_2_17_x86_64.manylinux2014_x86_64.whl (158 kB)\n",
            "\u001b[2K     \u001b[90m━━━━━━━━━━━━━━━━━━━━━━━━━━━━━━━━━━━━━━\u001b[0m \u001b[32m158.8/158.8 kB\u001b[0m \u001b[31m13.6 MB/s\u001b[0m eta \u001b[36m0:00:00\u001b[0m\n",
            "\u001b[?25hCollecting async-timeout<5.0,>=4.0.0a3\n",
            "  Downloading async_timeout-4.0.2-py3-none-any.whl (5.8 kB)\n",
            "Collecting aiosignal>=1.1.2\n",
            "  Downloading aiosignal-1.3.1-py3-none-any.whl (7.6 kB)\n",
            "Collecting yarl<2.0,>=1.0\n",
            "  Downloading yarl-1.8.2-cp39-cp39-manylinux_2_17_x86_64.manylinux2014_x86_64.whl (264 kB)\n",
            "\u001b[2K     \u001b[90m━━━━━━━━━━━━━━━━━━━━━━━━━━━━━━━━━━━━━━\u001b[0m \u001b[32m264.6/264.6 kB\u001b[0m \u001b[31m24.6 MB/s\u001b[0m eta \u001b[36m0:00:00\u001b[0m\n",
            "\u001b[?25hCollecting multidict<7.0,>=4.5\n",
            "  Downloading multidict-6.0.4-cp39-cp39-manylinux_2_17_x86_64.manylinux2014_x86_64.whl (114 kB)\n",
            "\u001b[2K     \u001b[90m━━━━━━━━━━━━━━━━━━━━━━━━━━━━━━━━━━━━━━━\u001b[0m \u001b[32m114.2/114.2 kB\u001b[0m \u001b[31m5.1 MB/s\u001b[0m eta \u001b[36m0:00:00\u001b[0m\n",
            "\u001b[?25hRequirement already satisfied: pycparser in /usr/local/lib/python3.9/dist-packages (from cffi>=1.9.1->pygit2>=1.10.0->scmrepo<2,>=1.0.0->dvc) (2.21)\n",
            "Requirement already satisfied: prompt-toolkit in /usr/local/lib/python3.9/dist-packages (from click-repl>=0.2.0->celery<6,>=5.2.0->dvc-task<1,>=0.2.0->dvc) (3.0.38)\n",
            "Collecting smmap<6,>=3.0.1\n",
            "  Downloading smmap-5.0.0-py3-none-any.whl (24 kB)\n",
            "Requirement already satisfied: wcwidth in /usr/local/lib/python3.9/dist-packages (from prompt-toolkit->click-repl>=0.2.0->celery<6,>=5.2.0->dvc-task<1,>=0.2.0->dvc) (0.2.6)\n",
            "Building wheels for collected packages: antlr4-python3-runtime, nanotime\n",
            "  Building wheel for antlr4-python3-runtime (setup.py) ... \u001b[?25l\u001b[?25hdone\n",
            "  Created wheel for antlr4-python3-runtime: filename=antlr4_python3_runtime-4.9.3-py3-none-any.whl size=144573 sha256=9e84287c11ecf3dd7fa538a15999a0827ad57a413dd423a970a13171e00f2011\n",
            "  Stored in directory: /root/.cache/pip/wheels/23/cf/80/f3efa822e6ab23277902ee9165fe772eeb1dfb8014f359020a\n",
            "  Building wheel for nanotime (setup.py) ... \u001b[?25l\u001b[?25hdone\n",
            "  Created wheel for nanotime: filename=nanotime-0.5.2-py3-none-any.whl size=2440 sha256=6d71e914f48208d44e099f8cf5886951eea716d748d7f4172b95f254efeccb2a\n",
            "  Stored in directory: /root/.cache/pip/wheels/ee/1f/7c/610bdb7d5541b98d9743c5953e32681ef35dd54fadddd347e8\n",
            "Successfully built antlr4-python3-runtime nanotime\n",
            "Installing collected packages: voluptuous, pygtrie, nanotime, funcy, dictdiffer, billiard, antlr4-python3-runtime, zc.lockfile, vine, tomlkit, smmap, shtab, shortuuid, ruamel.yaml.clib, pathspec, orjson, omegaconf, multidict, grandalf, frozenlist, flatten-dict, dvc-render, dulwich, dpath, distro, diskcache, configobj, colorama, click-plugins, click-didyoumean, atpublic, async-timeout, yarl, sqltrie, ruamel.yaml, pygit2, iterative-telemetry, hydra-core, gitdb, flufl.lock, dvc-studio-client, dvc-objects, click-repl, amqp, aiosignal, kombu, gitpython, dvc-data, asyncssh, aiohttp, scmrepo, celery, aiohttp-retry, dvc-task, dvc-http, dvc\n",
            "Successfully installed aiohttp-3.8.4 aiohttp-retry-2.8.3 aiosignal-1.3.1 amqp-5.1.1 antlr4-python3-runtime-4.9.3 async-timeout-4.0.2 asyncssh-2.13.1 atpublic-3.1.1 billiard-3.6.4.0 celery-5.2.7 click-didyoumean-0.3.0 click-plugins-1.1.1 click-repl-0.2.0 colorama-0.4.6 configobj-5.0.8 dictdiffer-0.9.0 diskcache-5.5.1 distro-1.8.0 dpath-2.1.5 dulwich-0.21.3 dvc-2.54.0 dvc-data-0.47.1 dvc-http-2.30.2 dvc-objects-0.21.1 dvc-render-0.3.1 dvc-studio-client-0.6.2 dvc-task-0.2.0 flatten-dict-0.4.2 flufl.lock-7.1.1 frozenlist-1.3.3 funcy-2.0 gitdb-4.0.10 gitpython-3.1.31 grandalf-0.8 hydra-core-1.3.2 iterative-telemetry-0.0.8 kombu-5.2.4 multidict-6.0.4 nanotime-0.5.2 omegaconf-2.3.0 orjson-3.8.10 pathspec-0.11.1 pygit2-1.12.0 pygtrie-2.5.0 ruamel.yaml-0.17.21 ruamel.yaml.clib-0.2.7 scmrepo-1.0.1 shortuuid-1.0.11 shtab-1.6.1 smmap-5.0.0 sqltrie-0.3.1 tomlkit-0.11.7 vine-5.0.0 voluptuous-0.13.1 yarl-1.8.2 zc.lockfile-3.0.post1\n"
          ]
        },
        {
          "output_type": "display_data",
          "data": {
            "application/vnd.colab-display-data+json": {
              "pip_warning": {
                "packages": [
                  "pydevd_plugins"
                ]
              }
            }
          },
          "metadata": {}
        }
      ]
    },
    {
      "cell_type": "markdown",
      "id": "casual-information",
      "metadata": {
        "id": "casual-information"
      },
      "source": [
        "### Discussion: Where's the Data?\n",
        "\n",
        "  1. \"I want to run your analysis script.  Where is the data for the analysis?  How do I get it?\"\n",
        "  2. \"I found a cool data analysis project on the internet that has a data download step.\"  Where is it getting the data from?\n"
      ]
    },
    {
      "cell_type": "markdown",
      "id": "accessory-composer",
      "metadata": {
        "id": "accessory-composer"
      },
      "source": [
        "## Data Validation"
      ]
    },
    {
      "cell_type": "markdown",
      "id": "dominican-writer",
      "metadata": {
        "id": "dominican-writer"
      },
      "source": [
        "### Discussion: Fickle Files\n",
        "\n",
        "  1. \"I ran the analysis, but there was an error when it tried to read the file. What went wrong?\"\n",
        "  2. \"I ran the analysis on the data without errors, but I got a different result than you did. What went wrong?\""
      ]
    },
    {
      "cell_type": "markdown",
      "id": "mighty-double",
      "metadata": {
        "id": "mighty-double"
      },
      "source": [
        "### Write Some Test Data to a File"
      ]
    },
    {
      "cell_type": "code",
      "execution_count": 2,
      "id": "novel-microphone",
      "metadata": {
        "id": "novel-microphone",
        "outputId": "f666f4eb-b17f-4911-b1cc-ae466c4f6081",
        "colab": {
          "base_uri": "https://localhost:8080/"
        }
      },
      "outputs": [
        {
          "output_type": "stream",
          "name": "stdout",
          "text": [
            "Writing test.txt\n"
          ]
        }
      ],
      "source": [
        "%%writefile test.txt\n",
        "Session Count\n",
        "1 10\n",
        "2 7\n",
        "3 13"
      ]
    },
    {
      "cell_type": "markdown",
      "id": "grand-scale",
      "metadata": {
        "id": "grand-scale"
      },
      "source": [
        "### Comparing Files Directly in Python"
      ]
    },
    {
      "cell_type": "markdown",
      "id": "authentic-zimbabwe",
      "metadata": {
        "id": "authentic-zimbabwe"
      },
      "source": [
        "#### Reading Files with Path.read_bytes()"
      ]
    },
    {
      "cell_type": "code",
      "execution_count": 3,
      "id": "aggregate-highlight",
      "metadata": {
        "id": "aggregate-highlight",
        "outputId": "61ce30bd-7980-47a3-d271-2fb9d621e18c",
        "colab": {
          "base_uri": "https://localhost:8080/"
        }
      },
      "outputs": [
        {
          "output_type": "execute_result",
          "data": {
            "text/plain": [
              "b'Session Count\\n1 10\\n2 7\\n3 13\\n'"
            ]
          },
          "metadata": {},
          "execution_count": 3
        }
      ],
      "source": [
        "from pathlib import Path\n",
        "data = Path(\"test.txt\").read_bytes()\n",
        "data"
      ]
    },
    {
      "cell_type": "markdown",
      "id": "needed-appearance",
      "metadata": {
        "id": "needed-appearance"
      },
      "source": [
        "#### Comparing Data with =="
      ]
    },
    {
      "cell_type": "code",
      "execution_count": 4,
      "id": "written-delaware",
      "metadata": {
        "id": "written-delaware",
        "outputId": "7f6a385d-0393-4231-ec30-e7b3f6fb9aa7",
        "colab": {
          "base_uri": "https://localhost:8080/"
        }
      },
      "outputs": [
        {
          "output_type": "execute_result",
          "data": {
            "text/plain": [
              "False"
            ]
          },
          "metadata": {},
          "execution_count": 4
        }
      ],
      "source": [
        "data == b'Session Count\\r\\n1 10\\r\\n2 7\\r\\n3 13\\r\\n'"
      ]
    },
    {
      "cell_type": "markdown",
      "id": "ethical-significance",
      "metadata": {
        "id": "ethical-significance"
      },
      "source": [
        "### Hashing in Python"
      ]
    },
    {
      "cell_type": "code",
      "execution_count": 5,
      "id": "shaped-hormone",
      "metadata": {
        "id": "shaped-hormone"
      },
      "outputs": [],
      "source": [
        "from hashlib import sha256, sha512, md5"
      ]
    },
    {
      "cell_type": "code",
      "execution_count": 6,
      "id": "extra-chair",
      "metadata": {
        "id": "extra-chair",
        "outputId": "e1ddc188-9e60-4eae-d413-c2d30c845f3d",
        "colab": {
          "base_uri": "https://localhost:8080/",
          "height": 36
        }
      },
      "outputs": [
        {
          "output_type": "execute_result",
          "data": {
            "text/plain": [
              "'1ade9261c064fdc16ee8ec1b6555bb0b'"
            ],
            "application/vnd.google.colaboratory.intrinsic+json": {
              "type": "string"
            }
          },
          "metadata": {},
          "execution_count": 6
        }
      ],
      "source": [
        "md5(data).hexdigest()"
      ]
    },
    {
      "cell_type": "code",
      "execution_count": 7,
      "id": "authentic-sauce",
      "metadata": {
        "id": "authentic-sauce",
        "outputId": "b4e551c4-9e1c-43c1-9816-32426475df71",
        "colab": {
          "base_uri": "https://localhost:8080/",
          "height": 36
        }
      },
      "outputs": [
        {
          "output_type": "execute_result",
          "data": {
            "text/plain": [
              "'dde1cd8a5ce31ccd175c53962885a4c707c082d73814bfef6161f388dbb39a35'"
            ],
            "application/vnd.google.colaboratory.intrinsic+json": {
              "type": "string"
            }
          },
          "metadata": {},
          "execution_count": 7
        }
      ],
      "source": [
        "sha256(data).hexdigest()"
      ]
    },
    {
      "cell_type": "code",
      "execution_count": 8,
      "id": "partial-weekly",
      "metadata": {
        "id": "partial-weekly",
        "outputId": "aec9ec4e-c143-4586-af13-c1d323cfa5db",
        "colab": {
          "base_uri": "https://localhost:8080/",
          "height": 36
        }
      },
      "outputs": [
        {
          "output_type": "execute_result",
          "data": {
            "text/plain": [
              "'b2c94009ef78e0b8be39373f3471ace5c2acb87de8c7ef9ceb810c2366d9e96fffebe77a689f32a958d5b2672d105c87a20af3781fcb182e37afc41222cadcaa'"
            ],
            "application/vnd.google.colaboratory.intrinsic+json": {
              "type": "string"
            }
          },
          "metadata": {},
          "execution_count": 8
        }
      ],
      "source": [
        "sha512(data).hexdigest()"
      ]
    },
    {
      "cell_type": "markdown",
      "id": "impossible-hurricane",
      "metadata": {
        "id": "impossible-hurricane"
      },
      "source": [
        "### Hashing in DVC"
      ]
    },
    {
      "cell_type": "markdown",
      "id": "split-optimization",
      "metadata": {
        "id": "split-optimization"
      },
      "source": [
        "#### One-Time Setup per Projectg: Setting up DVC environment\n",
        "\n",
        "DVC needs a few things to work:\n",
        "\n",
        "  1. **A project folder**: Everything DVC should be tracking as a single project should be in the same main place on the computer.\n",
        "  4. **A dvc repo**: Before it starts tracking files, DVC needs to initialize some things in the project first.\n",
        "  \n",
        "These translate into these steps:\n",
        "\n",
        "  1. `cd myprojectfolder`: change the working directory to the folder you want to use as the project folder.\n",
        "  4. `dvc init`: make the dvc repository by adding a \".dvc\" folder.\n",
        "\n",
        "  "
      ]
    },
    {
      "cell_type": "code",
      "execution_count": 9,
      "id": "cognitive-template",
      "metadata": {
        "id": "cognitive-template",
        "outputId": "4cbf8bc7-2f70-4831-de1a-ef240300ab52",
        "colab": {
          "base_uri": "https://localhost:8080/"
        }
      },
      "outputs": [
        {
          "output_type": "stream",
          "name": "stdout",
          "text": [
            "Initialized empty Git repository in /content/.git/\n"
          ]
        }
      ],
      "source": [
        "!git init"
      ]
    },
    {
      "cell_type": "code",
      "execution_count": 10,
      "id": "nonprofit-bhutan",
      "metadata": {
        "id": "nonprofit-bhutan",
        "outputId": "fa5b0bc2-6536-4c18-8aff-68b648e11178",
        "colab": {
          "base_uri": "https://localhost:8080/"
        }
      },
      "outputs": [
        {
          "output_type": "stream",
          "name": "stdout",
          "text": [
            "Initialized DVC repository.\n",
            "\n",
            "\u001b[31m+---------------------------------------------------------------------+\n",
            "\u001b[0m\u001b[31m|\u001b[0m                                                                     \u001b[31m|\u001b[0m\n",
            "\u001b[31m|\u001b[0m        DVC has enabled anonymous aggregate usage analytics.         \u001b[31m|\u001b[0m\n",
            "\u001b[31m|\u001b[0m     Read the analytics documentation (and how to opt-out) here:     \u001b[31m|\u001b[0m\n",
            "\u001b[31m|\u001b[0m             <\u001b[36mhttps://dvc.org/doc/user-guide/analytics\u001b[39m>              \u001b[31m|\u001b[0m\n",
            "\u001b[31m|\u001b[0m                                                                     \u001b[31m|\u001b[0m\n",
            "\u001b[31m+---------------------------------------------------------------------+\n",
            "\u001b[0m\n",
            "\u001b[33mWhat's next?\u001b[39m\n",
            "\u001b[33m------------\u001b[39m\n",
            "- Check out the documentation: <\u001b[36mhttps://dvc.org/doc\u001b[39m>\n",
            "- Get help and share ideas: <\u001b[36mhttps://dvc.org/chat\u001b[39m>\n",
            "- Star us on GitHub: <\u001b[36mhttps://github.com/iterative/dvc\u001b[39m>\n",
            "\u001b[0m"
          ]
        }
      ],
      "source": [
        "!dvc init --no-scm"
      ]
    },
    {
      "cell_type": "markdown",
      "id": "stainless-pierre",
      "metadata": {
        "id": "stainless-pierre"
      },
      "source": [
        "### Adding Hashes to the DVC Repo by Adding \"Stub\" Files"
      ]
    },
    {
      "cell_type": "code",
      "execution_count": 11,
      "id": "romance-aquarium",
      "metadata": {
        "id": "romance-aquarium",
        "outputId": "9330125a-1675-44d0-84d4-e3d4526ee8bc",
        "colab": {
          "base_uri": "https://localhost:8080/"
        }
      },
      "outputs": [
        {
          "output_type": "stream",
          "name": "stdout",
          "text": [
            "Overwriting test.txt\n"
          ]
        }
      ],
      "source": [
        "%%writefile test.txt\n",
        "Session Count\n",
        "1 10\n",
        "2 7\n",
        "3 13"
      ]
    },
    {
      "cell_type": "code",
      "execution_count": 12,
      "id": "banned-consequence",
      "metadata": {
        "id": "banned-consequence",
        "outputId": "ea4571d9-a758-4edc-9d5f-d286c8cf8c6f",
        "colab": {
          "base_uri": "https://localhost:8080/"
        }
      },
      "outputs": [
        {
          "output_type": "stream",
          "name": "stdout",
          "text": [
            "\u001b[2K\u001b[32m⠙\u001b[0m Checking graph\n",
            "Adding...:   0% 0/1 [00:00<?, ?file/s{'info': ''}]\n",
            "!\u001b[A\n",
            "  0% |          |0/? [00:00<?,    ?files/s]\u001b[A\n",
            "                                           \u001b[A\n",
            "!\u001b[A\n",
            "  0%|          |Transferring                          0/? [00:00<?,     ?file/s]\u001b[A\n",
            "Transferring:   0% 0/1 [00:00<?, ?file/s{'info': ''}]                           \u001b[A\n",
            "Adding...: 100% 1/1 [00:00<00:00, 20.03file/s{'info': ''}]\n",
            "\u001b[0m"
          ]
        }
      ],
      "source": [
        "!dvc add test.txt"
      ]
    },
    {
      "cell_type": "code",
      "execution_count": 13,
      "id": "sonic-detective",
      "metadata": {
        "id": "sonic-detective",
        "outputId": "a5eccb1f-5eaa-4cb8-f9d6-733a42fa7dd9",
        "colab": {
          "base_uri": "https://localhost:8080/"
        }
      },
      "outputs": [
        {
          "output_type": "stream",
          "name": "stdout",
          "text": [
            "sample_data  test.txt  test.txt.dvc\n"
          ]
        }
      ],
      "source": [
        "!ls"
      ]
    },
    {
      "cell_type": "code",
      "execution_count": 14,
      "id": "japanese-cedar",
      "metadata": {
        "id": "japanese-cedar",
        "outputId": "fd70ad1a-cdeb-4978-e292-8cc44a619b0a",
        "colab": {
          "base_uri": "https://localhost:8080/"
        }
      },
      "outputs": [
        {
          "output_type": "stream",
          "name": "stdout",
          "text": [
            "outs:\n",
            "- md5: 1ade9261c064fdc16ee8ec1b6555bb0b\n",
            "  size: 28\n",
            "  path: test.txt\n",
            "\n"
          ]
        }
      ],
      "source": [
        "from pathlib import Path\n",
        "print(Path(\"test.txt.dvc\").read_text())"
      ]
    },
    {
      "cell_type": "markdown",
      "id": "determined-dispute",
      "metadata": {
        "id": "determined-dispute"
      },
      "source": [
        "## Version Control\n",
        "\n",
        "Contrary to its name (\"Data Version Control\"), DVC doesn't actually handle much of the version control work--it lets Git do it instead on DVC's stub files.  This is a nice solution to synchronizing code, documentation, and data: when there's only one system keeping track of things, synchronization errors can be avoided."
      ]
    },
    {
      "cell_type": "markdown",
      "id": "visible-dance",
      "metadata": {
        "id": "visible-dance"
      },
      "source": [
        "### Setting Up Git for Version Control for DVC\n",
        "\n",
        "  1. `git init`: Make the project folder a Git repository.\n",
        "  2. `dvc init`: Make the DVC repo, telling it to talk to Git when it needs version control help (default behavior)\n",
        "    - *Note*: For this tutorial, we already did this but specified `--no-scm` (no source control manager).  This is not good anymore--just delete the .dvc folder and re-run the `dvc init` command to get things set up correctly.\n",
        "  3. `git commit -m \"added dvc\"`: save the dvc configuration files into git version control."
      ]
    },
    {
      "cell_type": "markdown",
      "id": "talented-wallet",
      "metadata": {
        "id": "talented-wallet"
      },
      "source": [
        "#### Init the Git Repository"
      ]
    },
    {
      "cell_type": "code",
      "execution_count": 15,
      "id": "valuable-condition",
      "metadata": {
        "id": "valuable-condition",
        "outputId": "80ea271f-0798-4669-f9f2-9ecd42c34301",
        "colab": {
          "base_uri": "https://localhost:8080/"
        }
      },
      "outputs": [
        {
          "output_type": "stream",
          "name": "stdout",
          "text": [
            "Reinitialized existing Git repository in /content/.git/\n"
          ]
        }
      ],
      "source": [
        "!git init"
      ]
    },
    {
      "cell_type": "markdown",
      "id": "tamil-stadium",
      "metadata": {
        "id": "tamil-stadium"
      },
      "source": [
        "### Add and Commit the Files\n",
        "\n",
        "Version control is straightforward.  Whenever data files are changed or added, just use the `dvc add` command, then commit the resulting stub files to git for version control with the `git commit` command.  Below are all the manual steps, but DVC helps out a bit by giving some git commands for you."
      ]
    },
    {
      "cell_type": "code",
      "execution_count": 16,
      "id": "least-essay",
      "metadata": {
        "id": "least-essay",
        "outputId": "0b58248f-ced3-4eed-d776-a2b26689f387",
        "colab": {
          "base_uri": "https://localhost:8080/"
        }
      },
      "outputs": [
        {
          "output_type": "stream",
          "name": "stdout",
          "text": [
            "\r!\rIf DVC froze, see `hardlink_lock` in <\u001b[36mhttps://man.dvc.org/config#core\u001b[39m>\r                                                                      \r\r!\rCollecting targets          |0.00 [00:00,     ?file/s]\r                                                      \r\u001b[?25l\u001b[32m⠋\u001b[0m Checking graph\r\u001b[2K\u001b[32m⠋\u001b[0m Checking graph\n",
            "\u001b[?25h\r\u001b[1A\u001b[2K\rAdding...:   0% 0/1 [00:00<?, ?file/s]\rAdding...:   0% 0/1 [00:00<?, ?file/s{'info': ''}]\rAdding...:   0% 0/1 [00:00<?, ?file/s{'info': ''}]\n",
            "\r!\u001b[A\n",
            "\r  0% |          |0/? [00:00<?,    ?files/s]\u001b[A\n",
            "\r                                           \u001b[A\rAdding...: 100% 1/1 [00:00<00:00, 26.06file/s{'info': ''}]\n",
            "\u001b[0m"
          ]
        }
      ],
      "source": [
        "!dvc add test.txt"
      ]
    },
    {
      "cell_type": "code",
      "execution_count": 17,
      "id": "alpine-issue",
      "metadata": {
        "id": "alpine-issue"
      },
      "outputs": [],
      "source": [
        "!git add test.txt.dvc"
      ]
    },
    {
      "cell_type": "code",
      "execution_count": 18,
      "id": "prospective-malawi",
      "metadata": {
        "id": "prospective-malawi"
      },
      "outputs": [],
      "source": [
        "!git config --global user.name \"my name\"\n",
        "!git config --global user.email \"my.name@gmail.com\""
      ]
    },
    {
      "cell_type": "code",
      "execution_count": 19,
      "id": "ignored-maintenance",
      "metadata": {
        "id": "ignored-maintenance",
        "outputId": "a7dde770-57a1-48d9-b473-6ae3e5c52643",
        "colab": {
          "base_uri": "https://localhost:8080/"
        }
      },
      "outputs": [
        {
          "output_type": "stream",
          "name": "stdout",
          "text": [
            "[master (root-commit) 56d2d52] changed files\n",
            " 1 file changed, 4 insertions(+)\n",
            " create mode 100644 test.txt.dvc\n"
          ]
        }
      ],
      "source": [
        "!git commit -m \"changed files\""
      ]
    },
    {
      "cell_type": "markdown",
      "id": "musical-forth",
      "metadata": {
        "id": "musical-forth"
      },
      "source": [
        "*Note*: If this is your first time using git on the computer, you may be asked to log your name and email first (code for doing this below)"
      ]
    },
    {
      "cell_type": "markdown",
      "id": "verified-bibliography",
      "metadata": {
        "id": "verified-bibliography"
      },
      "source": [
        "That's it!  You've saved a snapshot of the project, along with the stub files."
      ]
    },
    {
      "cell_type": "markdown",
      "id": "severe-drive",
      "metadata": {
        "id": "severe-drive"
      },
      "source": [
        "## Documenting Remote Data Storage and Retrieval"
      ]
    },
    {
      "cell_type": "markdown",
      "id": "israeli-shaft",
      "metadata": {
        "id": "israeli-shaft"
      },
      "source": [
        "\n",
        "Storing your data on a different machine can be really helpful, if:\n",
        "\n",
        "  1. You have lots of data, but only need to access some of it at a time.\n",
        "  2. You use different computers to do your analysis, and want a common place to look for your data\n",
        "  3. Other people would like to access your data\n",
        "  4. You value your data and don't want to accidentally delete/modify it.\n",
        "  5. Your organization/industry has regulations around data protection, privacy, security, and/or intellection property.\n",
        "  6. You love making things more complicated, and one computer for one analysis just isn't enough.\n",
        "  "
      ]
    },
    {
      "cell_type": "markdown",
      "id": "molecular-weekly",
      "metadata": {
        "id": "molecular-weekly"
      },
      "source": [
        "### DVC \"Remotes\": Connections to various remote data storage tools\n",
        "\n",
        "DVC's cache contains all the versions of your project's data, indexed by the file's checksum.  This is essentially a DVC-specific database for storing your data.\n",
        "\n",
        "DVC can connect to a lot of different services, from proprietary ones like Amazon S3 or Google Drive to generic ones like SSH or FTP connections.  You can even consider a different folder on the same computer as a \"remote\" backup--it's all the same."
      ]
    },
    {
      "cell_type": "markdown",
      "id": "fancy-convergence",
      "metadata": {
        "id": "fancy-convergence"
      },
      "source": [
        "#### Add a New DVC Remote\n",
        "\n",
        "DVC Docs: `dvc remote add`: https://dvc.org/doc/command-reference/remote/add\n",
        "\n",
        "To use these different services, you'll likely need to pip install some remote-specific python libraries.  The docs show how."
      ]
    },
    {
      "cell_type": "code",
      "execution_count": 20,
      "id": "excessive-class",
      "metadata": {
        "id": "excessive-class",
        "outputId": "4a452da0-c892-4c39-cc2a-e27d34a96843",
        "colab": {
          "base_uri": "https://localhost:8080/"
        }
      },
      "outputs": [
        {
          "output_type": "stream",
          "name": "stdout",
          "text": [
            "\u001b[0m"
          ]
        }
      ],
      "source": [
        "!dvc remote add local ../myfolder"
      ]
    },
    {
      "cell_type": "code",
      "execution_count": null,
      "id": "sophisticated-backing",
      "metadata": {
        "id": "sophisticated-backing"
      },
      "outputs": [],
      "source": [
        "# !dvc remote add ssh ssh://172.105.74.128/myfolder"
      ]
    },
    {
      "cell_type": "code",
      "execution_count": null,
      "id": "synthetic-nitrogen",
      "metadata": {
        "id": "synthetic-nitrogen"
      },
      "outputs": [],
      "source": [
        "# !dvc remote add gdrive gdrive://adf=2342876ds8762g324327824"
      ]
    },
    {
      "cell_type": "markdown",
      "id": "crude-article",
      "metadata": {
        "id": "crude-article"
      },
      "source": [
        "### Push the Data to the Remote"
      ]
    },
    {
      "cell_type": "code",
      "execution_count": 21,
      "id": "departmental-cooling",
      "metadata": {
        "id": "departmental-cooling",
        "outputId": "d188a916-5d74-408c-d77f-c44b587197be",
        "colab": {
          "base_uri": "https://localhost:8080/"
        }
      },
      "outputs": [
        {
          "output_type": "stream",
          "name": "stdout",
          "text": [
            "\r!\rIf DVC froze, see `hardlink_lock` in <\u001b[36mhttps://man.dvc.org/config#core\u001b[39m>\r                                                                      \r\r!\r  0% |          |0/? [00:00<?,    ?files/s]\r                                           \r\r!\r  0% |          |0/? [00:00<?,    ?files/s]\r                                           \r\r!\r  0% Transferring|          |0/? [00:00<?,     ?file/s]\rTransferring:   0% 0/1 [00:00<?, ?file/s{'info': ''}]  \n",
            "\r!\u001b[A\n",
            "\r  0%|          |/content/.dvc/cache/1a/de9261c064fd0.00/? [00:00<?,        ?B/s]\u001b[A\n",
            "\r  0% 0.00/28.0 [00:00<?, ?B/s{'info': ''}]                                      \u001b[A\n",
            "\r                                          \u001b[A\r                                                     \r1 file pushed\n",
            "\u001b[0m"
          ]
        }
      ],
      "source": [
        "!dvc push -r local"
      ]
    },
    {
      "cell_type": "markdown",
      "id": "ambient-crack",
      "metadata": {
        "id": "ambient-crack"
      },
      "source": [
        "### Pull the Data From the Remote"
      ]
    },
    {
      "cell_type": "code",
      "execution_count": 22,
      "id": "consolidated-union",
      "metadata": {
        "id": "consolidated-union",
        "outputId": "5b514fa6-e023-4509-a56e-57b755b45c05",
        "colab": {
          "base_uri": "https://localhost:8080/"
        }
      },
      "outputs": [
        {
          "output_type": "stream",
          "name": "stdout",
          "text": [
            "\r!\rIf DVC froze, see `hardlink_lock` in <\u001b[36mhttps://man.dvc.org/config#core\u001b[39m>\r                                                                      \r\r!\r  0% |          |0/? [00:00<?,    ?files/s]\r                                           \r\r!\r  0% Checkout|          |0/? [00:00<?,     ?file/s]\rCheckout:   0% 0/1 [00:00<?, ?file/s{'info': ''}]  \r                                                 \rEverything is up to date.\n",
            "\u001b[0m"
          ]
        }
      ],
      "source": [
        "!dvc pull -r local"
      ]
    },
    {
      "cell_type": "code",
      "source": [],
      "metadata": {
        "id": "sWAtBnkyjakD"
      },
      "id": "sWAtBnkyjakD",
      "execution_count": null,
      "outputs": []
    }
  ],
  "metadata": {
    "kernelspec": {
      "display_name": "Python 3",
      "language": "python",
      "name": "python3"
    },
    "language_info": {
      "codemirror_mode": {
        "name": "ipython",
        "version": 3
      },
      "file_extension": ".py",
      "mimetype": "text/x-python",
      "name": "python",
      "nbconvert_exporter": "python",
      "pygments_lexer": "ipython3",
      "version": "3.8.3"
    },
    "colab": {
      "provenance": []
    }
  },
  "nbformat": 4,
  "nbformat_minor": 5
}