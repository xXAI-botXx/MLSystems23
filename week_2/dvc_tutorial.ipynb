{
  "cells": [
    {
      "cell_type": "markdown",
      "id": "latin-worst",
      "metadata": {
        "id": "latin-worst"
      },
      "source": [
        "# Intro to DVC"
      ]
    },
    {
      "cell_type": "markdown",
      "id": "objective-masters",
      "metadata": {
        "id": "objective-masters"
      },
      "source": [
        "#### Installing DVC\n",
        "\n",
        "DVC can be installed either through pip:\n",
        "\n",
        "```\n",
        "pip install dvc\n",
        "```\n",
        "\n",
        "Or by downloading an installer from their website: https://dvc.org/\n"
      ]
    },
    {
      "cell_type": "code",
      "source": [
        "!pip install dvc"
      ],
      "metadata": {
        "id": "Qnv54lXOilsM",
        "outputId": "6757eaab-7f4b-42ee-9870-1bbbdbd5c253",
        "colab": {
          "base_uri": "https://localhost:8080/"
        }
      },
      "id": "Qnv54lXOilsM",
      "execution_count": 43,
      "outputs": [
        {
          "output_type": "stream",
          "name": "stdout",
          "text": [
            "Looking in indexes: https://pypi.org/simple, https://us-python.pkg.dev/colab-wheels/public/simple/\n",
            "Requirement already satisfied: dvc in /usr/local/lib/python3.9/dist-packages (2.54.0)\n",
            "Requirement already satisfied: pathspec>=0.10.3 in /usr/local/lib/python3.9/dist-packages (from dvc) (0.11.1)\n",
            "Requirement already satisfied: platformdirs<4,>=3.1.1 in /usr/local/lib/python3.9/dist-packages (from dvc) (3.2.0)\n",
            "Requirement already satisfied: rich>=12 in /usr/local/lib/python3.9/dist-packages (from dvc) (13.3.3)\n",
            "Requirement already satisfied: scmrepo<2,>=1.0.0 in /usr/local/lib/python3.9/dist-packages (from dvc) (1.0.1)\n",
            "Requirement already satisfied: dvc-render<0.4.0,>=0.3.1 in /usr/local/lib/python3.9/dist-packages (from dvc) (0.3.1)\n",
            "Requirement already satisfied: hydra-core>=1.1 in /usr/local/lib/python3.9/dist-packages (from dvc) (1.3.2)\n",
            "Requirement already satisfied: grandalf<1,>=0.7 in /usr/local/lib/python3.9/dist-packages (from dvc) (0.8)\n",
            "Requirement already satisfied: funcy>=1.14 in /usr/local/lib/python3.9/dist-packages (from dvc) (2.0)\n",
            "Requirement already satisfied: requests>=2.22 in /usr/local/lib/python3.9/dist-packages (from dvc) (2.27.1)\n",
            "Requirement already satisfied: tqdm<5,>=4.63.1 in /usr/local/lib/python3.9/dist-packages (from dvc) (4.65.0)\n",
            "Requirement already satisfied: flufl.lock>=5 in /usr/local/lib/python3.9/dist-packages (from dvc) (7.1.1)\n",
            "Requirement already satisfied: psutil>=5.8 in /usr/local/lib/python3.9/dist-packages (from dvc) (5.9.4)\n",
            "Requirement already satisfied: tabulate>=0.8.7 in /usr/local/lib/python3.9/dist-packages (from dvc) (0.8.10)\n",
            "Requirement already satisfied: voluptuous>=0.11.7 in /usr/local/lib/python3.9/dist-packages (from dvc) (0.13.1)\n",
            "Requirement already satisfied: shortuuid>=0.5 in /usr/local/lib/python3.9/dist-packages (from dvc) (1.0.11)\n",
            "Requirement already satisfied: colorama>=0.3.9 in /usr/local/lib/python3.9/dist-packages (from dvc) (0.4.6)\n",
            "Requirement already satisfied: ruamel.yaml>=0.17.11 in /usr/local/lib/python3.9/dist-packages (from dvc) (0.17.21)\n",
            "Requirement already satisfied: flatten-dict<1,>=0.4.1 in /usr/local/lib/python3.9/dist-packages (from dvc) (0.4.2)\n",
            "Requirement already satisfied: shtab<2,>=1.3.4 in /usr/local/lib/python3.9/dist-packages (from dvc) (1.6.1)\n",
            "Requirement already satisfied: pygtrie>=2.3.2 in /usr/local/lib/python3.9/dist-packages (from dvc) (2.5.0)\n",
            "Requirement already satisfied: pydot>=1.2.4 in /usr/local/lib/python3.9/dist-packages (from dvc) (1.4.2)\n",
            "Requirement already satisfied: distro>=1.3 in /usr/local/lib/python3.9/dist-packages (from dvc) (1.8.0)\n",
            "Requirement already satisfied: dvc-studio-client<1,>=0.6.1 in /usr/local/lib/python3.9/dist-packages (from dvc) (0.6.2)\n",
            "Requirement already satisfied: configobj>=5.0.6 in /usr/local/lib/python3.9/dist-packages (from dvc) (5.0.8)\n",
            "Requirement already satisfied: dvc-task<1,>=0.2.0 in /usr/local/lib/python3.9/dist-packages (from dvc) (0.2.0)\n",
            "Requirement already satisfied: packaging>=19 in /usr/local/lib/python3.9/dist-packages (from dvc) (23.0)\n",
            "Requirement already satisfied: networkx>=2.5 in /usr/local/lib/python3.9/dist-packages (from dvc) (3.1)\n",
            "Requirement already satisfied: tomlkit>=0.11.1 in /usr/local/lib/python3.9/dist-packages (from dvc) (0.11.7)\n",
            "Requirement already satisfied: dvc-http>=2.29.0 in /usr/local/lib/python3.9/dist-packages (from dvc) (2.30.2)\n",
            "Requirement already satisfied: iterative-telemetry>=0.0.7 in /usr/local/lib/python3.9/dist-packages (from dvc) (0.0.8)\n",
            "Requirement already satisfied: zc.lockfile>=1.2.1 in /usr/local/lib/python3.9/dist-packages (from dvc) (3.0.post1)\n",
            "Requirement already satisfied: dvc-data<0.48,>=0.47.1 in /usr/local/lib/python3.9/dist-packages (from dvc) (0.47.1)\n",
            "Requirement already satisfied: pyparsing>=2.4.7 in /usr/local/lib/python3.9/dist-packages (from dvc) (3.0.9)\n",
            "Requirement already satisfied: dpath<3,>=2.1.0 in /usr/local/lib/python3.9/dist-packages (from dvc) (2.1.5)\n",
            "Requirement already satisfied: six in /usr/local/lib/python3.9/dist-packages (from configobj>=5.0.6->dvc) (1.16.0)\n",
            "Requirement already satisfied: sqltrie<1,>=0.3.0 in /usr/local/lib/python3.9/dist-packages (from dvc-data<0.48,>=0.47.1->dvc) (0.3.1)\n",
            "Requirement already satisfied: nanotime>=0.5.2 in /usr/local/lib/python3.9/dist-packages (from dvc-data<0.48,>=0.47.1->dvc) (0.5.2)\n",
            "Requirement already satisfied: attrs>=21.3.0 in /usr/local/lib/python3.9/dist-packages (from dvc-data<0.48,>=0.47.1->dvc) (22.2.0)\n",
            "Requirement already satisfied: diskcache>=5.2.1 in /usr/local/lib/python3.9/dist-packages (from dvc-data<0.48,>=0.47.1->dvc) (5.5.1)\n",
            "Requirement already satisfied: dictdiffer>=0.8.1 in /usr/local/lib/python3.9/dist-packages (from dvc-data<0.48,>=0.47.1->dvc) (0.9.0)\n",
            "Requirement already satisfied: dvc-objects<1,>=0.21.1 in /usr/local/lib/python3.9/dist-packages (from dvc-data<0.48,>=0.47.1->dvc) (0.21.1)\n",
            "Requirement already satisfied: aiohttp-retry>=2.5.0 in /usr/local/lib/python3.9/dist-packages (from dvc-http>=2.29.0->dvc) (2.8.3)\n",
            "Requirement already satisfied: fsspec[http] in /usr/local/lib/python3.9/dist-packages (from dvc-http>=2.29.0->dvc) (2023.4.0)\n",
            "Requirement already satisfied: dulwich in /usr/local/lib/python3.9/dist-packages (from dvc-studio-client<1,>=0.6.1->dvc) (0.21.3)\n",
            "Requirement already satisfied: celery<6,>=5.2.0 in /usr/local/lib/python3.9/dist-packages (from dvc-task<1,>=0.2.0->dvc) (5.2.7)\n",
            "Requirement already satisfied: kombu<6,>=5.2.0 in /usr/local/lib/python3.9/dist-packages (from dvc-task<1,>=0.2.0->dvc) (5.2.4)\n",
            "Requirement already satisfied: atpublic>=2.3 in /usr/local/lib/python3.9/dist-packages (from flufl.lock>=5->dvc) (3.1.1)\n",
            "Requirement already satisfied: omegaconf<2.4,>=2.2 in /usr/local/lib/python3.9/dist-packages (from hydra-core>=1.1->dvc) (2.3.0)\n",
            "Requirement already satisfied: antlr4-python3-runtime==4.9.* in /usr/local/lib/python3.9/dist-packages (from hydra-core>=1.1->dvc) (4.9.3)\n",
            "Requirement already satisfied: filelock in /usr/local/lib/python3.9/dist-packages (from iterative-telemetry>=0.0.7->dvc) (3.11.0)\n",
            "Requirement already satisfied: appdirs in /usr/local/lib/python3.9/dist-packages (from iterative-telemetry>=0.0.7->dvc) (1.4.4)\n",
            "Requirement already satisfied: idna<4,>=2.5 in /usr/local/lib/python3.9/dist-packages (from requests>=2.22->dvc) (3.4)\n",
            "Requirement already satisfied: charset-normalizer~=2.0.0 in /usr/local/lib/python3.9/dist-packages (from requests>=2.22->dvc) (2.0.12)\n",
            "Requirement already satisfied: certifi>=2017.4.17 in /usr/local/lib/python3.9/dist-packages (from requests>=2.22->dvc) (2022.12.7)\n",
            "Requirement already satisfied: urllib3<1.27,>=1.21.1 in /usr/local/lib/python3.9/dist-packages (from requests>=2.22->dvc) (1.26.15)\n",
            "Requirement already satisfied: pygments<3.0.0,>=2.13.0 in /usr/local/lib/python3.9/dist-packages (from rich>=12->dvc) (2.14.0)\n",
            "Requirement already satisfied: markdown-it-py<3.0.0,>=2.2.0 in /usr/local/lib/python3.9/dist-packages (from rich>=12->dvc) (2.2.0)\n",
            "Requirement already satisfied: ruamel.yaml.clib>=0.2.6 in /usr/local/lib/python3.9/dist-packages (from ruamel.yaml>=0.17.11->dvc) (0.2.7)\n",
            "Requirement already satisfied: pygit2>=1.10.0 in /usr/local/lib/python3.9/dist-packages (from scmrepo<2,>=1.0.0->dvc) (1.12.0)\n",
            "Requirement already satisfied: asyncssh<3,>=2.13.1 in /usr/local/lib/python3.9/dist-packages (from scmrepo<2,>=1.0.0->dvc) (2.13.1)\n",
            "Requirement already satisfied: gitpython>3 in /usr/local/lib/python3.9/dist-packages (from scmrepo<2,>=1.0.0->dvc) (3.1.31)\n",
            "Requirement already satisfied: setuptools in /usr/local/lib/python3.9/dist-packages (from zc.lockfile>=1.2.1->dvc) (67.6.1)\n",
            "Requirement already satisfied: aiohttp in /usr/local/lib/python3.9/dist-packages (from aiohttp-retry>=2.5.0->dvc-http>=2.29.0->dvc) (3.8.4)\n",
            "Requirement already satisfied: cryptography>=3.1 in /usr/local/lib/python3.9/dist-packages (from asyncssh<3,>=2.13.1->scmrepo<2,>=1.0.0->dvc) (40.0.1)\n",
            "Requirement already satisfied: typing-extensions>=3.6 in /usr/local/lib/python3.9/dist-packages (from asyncssh<3,>=2.13.1->scmrepo<2,>=1.0.0->dvc) (4.5.0)\n",
            "Requirement already satisfied: billiard<4.0,>=3.6.4.0 in /usr/local/lib/python3.9/dist-packages (from celery<6,>=5.2.0->dvc-task<1,>=0.2.0->dvc) (3.6.4.0)\n",
            "Requirement already satisfied: click-plugins>=1.1.1 in /usr/local/lib/python3.9/dist-packages (from celery<6,>=5.2.0->dvc-task<1,>=0.2.0->dvc) (1.1.1)\n",
            "Requirement already satisfied: pytz>=2021.3 in /usr/local/lib/python3.9/dist-packages (from celery<6,>=5.2.0->dvc-task<1,>=0.2.0->dvc) (2022.7.1)\n",
            "Requirement already satisfied: click-repl>=0.2.0 in /usr/local/lib/python3.9/dist-packages (from celery<6,>=5.2.0->dvc-task<1,>=0.2.0->dvc) (0.2.0)\n",
            "Requirement already satisfied: vine<6.0,>=5.0.0 in /usr/local/lib/python3.9/dist-packages (from celery<6,>=5.2.0->dvc-task<1,>=0.2.0->dvc) (5.0.0)\n",
            "Requirement already satisfied: click<9.0,>=8.0.3 in /usr/local/lib/python3.9/dist-packages (from celery<6,>=5.2.0->dvc-task<1,>=0.2.0->dvc) (8.1.3)\n",
            "Requirement already satisfied: click-didyoumean>=0.0.3 in /usr/local/lib/python3.9/dist-packages (from celery<6,>=5.2.0->dvc-task<1,>=0.2.0->dvc) (0.3.0)\n",
            "Requirement already satisfied: gitdb<5,>=4.0.1 in /usr/local/lib/python3.9/dist-packages (from gitpython>3->scmrepo<2,>=1.0.0->dvc) (4.0.10)\n",
            "Requirement already satisfied: amqp<6.0.0,>=5.0.9 in /usr/local/lib/python3.9/dist-packages (from kombu<6,>=5.2.0->dvc-task<1,>=0.2.0->dvc) (5.1.1)\n",
            "Requirement already satisfied: mdurl~=0.1 in /usr/local/lib/python3.9/dist-packages (from markdown-it-py<3.0.0,>=2.2.0->rich>=12->dvc) (0.1.2)\n",
            "Requirement already satisfied: PyYAML>=5.1.0 in /usr/local/lib/python3.9/dist-packages (from omegaconf<2.4,>=2.2->hydra-core>=1.1->dvc) (6.0)\n",
            "Requirement already satisfied: cffi>=1.9.1 in /usr/local/lib/python3.9/dist-packages (from pygit2>=1.10.0->scmrepo<2,>=1.0.0->dvc) (1.15.1)\n",
            "Requirement already satisfied: orjson in /usr/local/lib/python3.9/dist-packages (from sqltrie<1,>=0.3.0->dvc-data<0.48,>=0.47.1->dvc) (3.8.10)\n",
            "Requirement already satisfied: yarl<2.0,>=1.0 in /usr/local/lib/python3.9/dist-packages (from aiohttp->aiohttp-retry>=2.5.0->dvc-http>=2.29.0->dvc) (1.8.2)\n",
            "Requirement already satisfied: multidict<7.0,>=4.5 in /usr/local/lib/python3.9/dist-packages (from aiohttp->aiohttp-retry>=2.5.0->dvc-http>=2.29.0->dvc) (6.0.4)\n",
            "Requirement already satisfied: frozenlist>=1.1.1 in /usr/local/lib/python3.9/dist-packages (from aiohttp->aiohttp-retry>=2.5.0->dvc-http>=2.29.0->dvc) (1.3.3)\n",
            "Requirement already satisfied: aiosignal>=1.1.2 in /usr/local/lib/python3.9/dist-packages (from aiohttp->aiohttp-retry>=2.5.0->dvc-http>=2.29.0->dvc) (1.3.1)\n",
            "Requirement already satisfied: async-timeout<5.0,>=4.0.0a3 in /usr/local/lib/python3.9/dist-packages (from aiohttp->aiohttp-retry>=2.5.0->dvc-http>=2.29.0->dvc) (4.0.2)\n",
            "Requirement already satisfied: pycparser in /usr/local/lib/python3.9/dist-packages (from cffi>=1.9.1->pygit2>=1.10.0->scmrepo<2,>=1.0.0->dvc) (2.21)\n",
            "Requirement already satisfied: prompt-toolkit in /usr/local/lib/python3.9/dist-packages (from click-repl>=0.2.0->celery<6,>=5.2.0->dvc-task<1,>=0.2.0->dvc) (3.0.38)\n",
            "Requirement already satisfied: smmap<6,>=3.0.1 in /usr/local/lib/python3.9/dist-packages (from gitdb<5,>=4.0.1->gitpython>3->scmrepo<2,>=1.0.0->dvc) (5.0.0)\n",
            "Requirement already satisfied: wcwidth in /usr/local/lib/python3.9/dist-packages (from prompt-toolkit->click-repl>=0.2.0->celery<6,>=5.2.0->dvc-task<1,>=0.2.0->dvc) (0.2.6)\n"
          ]
        }
      ]
    },
    {
      "cell_type": "markdown",
      "id": "casual-information",
      "metadata": {
        "id": "casual-information"
      },
      "source": [
        "### Discussion: Where's the Data?\n",
        "\n",
        "  1. \"I want to run your analysis script.  Where is the data for the analysis?  How do I get it?\"\n",
        "  2. \"I found a cool data analysis project on the internet that has a data download step.\"  Where is it getting the data from?\n"
      ]
    },
    {
      "cell_type": "markdown",
      "id": "accessory-composer",
      "metadata": {
        "id": "accessory-composer"
      },
      "source": [
        "## Data Validation"
      ]
    },
    {
      "cell_type": "markdown",
      "id": "dominican-writer",
      "metadata": {
        "id": "dominican-writer"
      },
      "source": [
        "### Discussion: Fickle Files\n",
        "\n",
        "  1. \"I ran the analysis, but there was an error when it tried to read the file. What went wrong?\"\n",
        "  2. \"I ran the analysis on the data without errors, but I got a different result than you did. What went wrong?\""
      ]
    },
    {
      "cell_type": "markdown",
      "id": "mighty-double",
      "metadata": {
        "id": "mighty-double"
      },
      "source": [
        "### Write Some Test Data to a File"
      ]
    },
    {
      "cell_type": "code",
      "execution_count": 44,
      "id": "novel-microphone",
      "metadata": {
        "id": "novel-microphone",
        "outputId": "74df0f6c-1b56-4fed-a22d-de3750d16046",
        "colab": {
          "base_uri": "https://localhost:8080/"
        }
      },
      "outputs": [
        {
          "output_type": "stream",
          "name": "stdout",
          "text": [
            "Overwriting test.txt\n"
          ]
        }
      ],
      "source": [
        "%%writefile test.txt\n",
        "Session Count\n",
        "1 10\n",
        "2 7\n",
        "3 13"
      ]
    },
    {
      "cell_type": "markdown",
      "id": "grand-scale",
      "metadata": {
        "id": "grand-scale"
      },
      "source": [
        "### Comparing Files Directly in Python"
      ]
    },
    {
      "cell_type": "markdown",
      "id": "authentic-zimbabwe",
      "metadata": {
        "id": "authentic-zimbabwe"
      },
      "source": [
        "#### Reading Files with Path.read_bytes()"
      ]
    },
    {
      "cell_type": "code",
      "execution_count": 45,
      "id": "aggregate-highlight",
      "metadata": {
        "id": "aggregate-highlight",
        "outputId": "1f785bae-9cec-4e53-823b-48361174fd94",
        "colab": {
          "base_uri": "https://localhost:8080/"
        }
      },
      "outputs": [
        {
          "output_type": "execute_result",
          "data": {
            "text/plain": [
              "b'Session Count\\n1 10\\n2 7\\n3 13\\n'"
            ]
          },
          "metadata": {},
          "execution_count": 45
        }
      ],
      "source": [
        "from pathlib import Path\n",
        "data = Path(\"test.txt\").read_bytes()\n",
        "data"
      ]
    },
    {
      "cell_type": "markdown",
      "id": "needed-appearance",
      "metadata": {
        "id": "needed-appearance"
      },
      "source": [
        "#### Comparing Data with =="
      ]
    },
    {
      "cell_type": "code",
      "execution_count": 46,
      "id": "written-delaware",
      "metadata": {
        "id": "written-delaware",
        "outputId": "ac6b88af-dc17-402a-898b-852884c966be",
        "colab": {
          "base_uri": "https://localhost:8080/"
        }
      },
      "outputs": [
        {
          "output_type": "execute_result",
          "data": {
            "text/plain": [
              "False"
            ]
          },
          "metadata": {},
          "execution_count": 46
        }
      ],
      "source": [
        "data == b'Session Count\\r\\n1 10\\r\\n2 7\\r\\n3 13\\r\\n'"
      ]
    },
    {
      "cell_type": "markdown",
      "id": "ethical-significance",
      "metadata": {
        "id": "ethical-significance"
      },
      "source": [
        "### Hashing in Python"
      ]
    },
    {
      "cell_type": "code",
      "execution_count": 47,
      "id": "shaped-hormone",
      "metadata": {
        "id": "shaped-hormone"
      },
      "outputs": [],
      "source": [
        "from hashlib import sha256, sha512, md5"
      ]
    },
    {
      "cell_type": "code",
      "execution_count": 48,
      "id": "extra-chair",
      "metadata": {
        "id": "extra-chair",
        "outputId": "8ab0f74f-7113-4560-c739-02a30831124a",
        "colab": {
          "base_uri": "https://localhost:8080/",
          "height": 36
        }
      },
      "outputs": [
        {
          "output_type": "execute_result",
          "data": {
            "text/plain": [
              "'1ade9261c064fdc16ee8ec1b6555bb0b'"
            ],
            "application/vnd.google.colaboratory.intrinsic+json": {
              "type": "string"
            }
          },
          "metadata": {},
          "execution_count": 48
        }
      ],
      "source": [
        "md5(data).hexdigest()"
      ]
    },
    {
      "cell_type": "code",
      "execution_count": 49,
      "id": "authentic-sauce",
      "metadata": {
        "id": "authentic-sauce",
        "outputId": "08fc08cf-e4ca-4a6c-e70a-edf4fae4d370",
        "colab": {
          "base_uri": "https://localhost:8080/",
          "height": 36
        }
      },
      "outputs": [
        {
          "output_type": "execute_result",
          "data": {
            "text/plain": [
              "'dde1cd8a5ce31ccd175c53962885a4c707c082d73814bfef6161f388dbb39a35'"
            ],
            "application/vnd.google.colaboratory.intrinsic+json": {
              "type": "string"
            }
          },
          "metadata": {},
          "execution_count": 49
        }
      ],
      "source": [
        "sha256(data).hexdigest()"
      ]
    },
    {
      "cell_type": "code",
      "execution_count": 50,
      "id": "partial-weekly",
      "metadata": {
        "id": "partial-weekly",
        "outputId": "66cee938-ab15-4b8b-e021-2005347c0028",
        "colab": {
          "base_uri": "https://localhost:8080/",
          "height": 36
        }
      },
      "outputs": [
        {
          "output_type": "execute_result",
          "data": {
            "text/plain": [
              "'b2c94009ef78e0b8be39373f3471ace5c2acb87de8c7ef9ceb810c2366d9e96fffebe77a689f32a958d5b2672d105c87a20af3781fcb182e37afc41222cadcaa'"
            ],
            "application/vnd.google.colaboratory.intrinsic+json": {
              "type": "string"
            }
          },
          "metadata": {},
          "execution_count": 50
        }
      ],
      "source": [
        "sha512(data).hexdigest()"
      ]
    },
    {
      "cell_type": "markdown",
      "id": "impossible-hurricane",
      "metadata": {
        "id": "impossible-hurricane"
      },
      "source": [
        "### Hashing in DVC"
      ]
    },
    {
      "cell_type": "markdown",
      "id": "split-optimization",
      "metadata": {
        "id": "split-optimization"
      },
      "source": [
        "#### One-Time Setup per Projectg: Setting up DVC environment\n",
        "\n",
        "DVC needs a few things to work:\n",
        "\n",
        "  1. **A project folder**: Everything DVC should be tracking as a single project should be in the same main place on the computer.\n",
        "  4. **A dvc repo**: Before it starts tracking files, DVC needs to initialize some things in the project first.\n",
        "  \n",
        "These translate into these steps:\n",
        "\n",
        "  1. `cd myprojectfolder`: change the working directory to the folder you want to use as the project folder.\n",
        "  4. `dvc init`: make the dvc repository by adding a \".dvc\" folder.\n",
        "\n",
        "  "
      ]
    },
    {
      "cell_type": "code",
      "execution_count": 51,
      "id": "cognitive-template",
      "metadata": {
        "id": "cognitive-template",
        "outputId": "0c86a911-c010-4aa7-c13c-73ca34d7d656",
        "colab": {
          "base_uri": "https://localhost:8080/"
        }
      },
      "outputs": [
        {
          "output_type": "stream",
          "name": "stdout",
          "text": [
            "Reinitialized existing Git repository in /content/.git/\n"
          ]
        }
      ],
      "source": [
        "!git init"
      ]
    },
    {
      "cell_type": "code",
      "execution_count": 52,
      "id": "nonprofit-bhutan",
      "metadata": {
        "id": "nonprofit-bhutan",
        "outputId": "9ad732f7-ec2c-4d83-8e89-acb6190c5ec6",
        "colab": {
          "base_uri": "https://localhost:8080/"
        }
      },
      "outputs": [
        {
          "output_type": "stream",
          "name": "stdout",
          "text": [
            "\u001b[31mERROR\u001b[39m: failed to initiate DVC - '.dvc' exists. Use `-f` to force.\n",
            "\u001b[0m"
          ]
        }
      ],
      "source": [
        "!dvc init --no-scm"
      ]
    },
    {
      "cell_type": "markdown",
      "id": "stainless-pierre",
      "metadata": {
        "id": "stainless-pierre"
      },
      "source": [
        "### Adding Hashes to the DVC Repo by Adding \"Stub\" Files"
      ]
    },
    {
      "cell_type": "code",
      "execution_count": 53,
      "id": "romance-aquarium",
      "metadata": {
        "id": "romance-aquarium",
        "outputId": "b319f575-8268-422a-b0cc-7a754eb0ea0a",
        "colab": {
          "base_uri": "https://localhost:8080/"
        }
      },
      "outputs": [
        {
          "output_type": "stream",
          "name": "stdout",
          "text": [
            "Overwriting test.txt\n"
          ]
        }
      ],
      "source": [
        "%%writefile test.txt\n",
        "Session Count\n",
        "1 10\n",
        "2 7\n",
        "3 13"
      ]
    },
    {
      "cell_type": "code",
      "execution_count": 54,
      "id": "banned-consequence",
      "metadata": {
        "id": "banned-consequence",
        "outputId": "23b42489-730c-4aa0-c9ff-47f1044a8712",
        "colab": {
          "base_uri": "https://localhost:8080/"
        }
      },
      "outputs": [
        {
          "output_type": "stream",
          "name": "stdout",
          "text": [
            "\r!\rIf DVC froze, see `hardlink_lock` in <\u001b[36mhttps://man.dvc.org/config#core\u001b[39m>\r                                                                      \r\r!\rCollecting targets          |0.00 [00:00,     ?file/s]\r                                                      \r\u001b[?25l\u001b[32m⠋\u001b[0m Checking graph\n",
            "\u001b[?25h\r\u001b[1A\u001b[2K\rAdding...:   0% 0/1 [00:00<?, ?file/s]\rAdding...:   0% 0/1 [00:00<?, ?file/s{'info': ''}]\rAdding...:   0% 0/1 [00:00<?, ?file/s{'info': ''}]\n",
            "\r!\u001b[A\n",
            "\r  0% |          |0/? [00:00<?,    ?files/s]\u001b[A\n",
            "\r                                           \u001b[A\rAdding...: 100% 1/1 [00:00<00:00, 38.51file/s{'info': ''}]\n",
            "\u001b[0m"
          ]
        }
      ],
      "source": [
        "!dvc add test.txt"
      ]
    },
    {
      "cell_type": "code",
      "execution_count": 55,
      "id": "sonic-detective",
      "metadata": {
        "id": "sonic-detective",
        "outputId": "2fc49798-20e2-4a88-8e44-16f98fc8c2ce",
        "colab": {
          "base_uri": "https://localhost:8080/"
        }
      },
      "outputs": [
        {
          "output_type": "stream",
          "name": "stdout",
          "text": [
            "sample_data  test.txt  test.txt.dvc\n"
          ]
        }
      ],
      "source": [
        "!ls"
      ]
    },
    {
      "cell_type": "code",
      "execution_count": 56,
      "id": "japanese-cedar",
      "metadata": {
        "id": "japanese-cedar",
        "outputId": "f0c56833-edab-4a81-99d6-44c6b8e33eae",
        "colab": {
          "base_uri": "https://localhost:8080/"
        }
      },
      "outputs": [
        {
          "output_type": "stream",
          "name": "stdout",
          "text": [
            "outs:\n",
            "- md5: 1ade9261c064fdc16ee8ec1b6555bb0b\n",
            "  size: 28\n",
            "  path: test.txt\n",
            "\n"
          ]
        }
      ],
      "source": [
        "from pathlib import Path\n",
        "print(Path(\"test.txt.dvc\").read_text())"
      ]
    },
    {
      "cell_type": "markdown",
      "id": "determined-dispute",
      "metadata": {
        "id": "determined-dispute"
      },
      "source": [
        "## Version Control\n",
        "\n",
        "Contrary to its name (\"Data Version Control\"), DVC doesn't actually handle much of the version control work--it lets Git do it instead on DVC's stub files.  This is a nice solution to synchronizing code, documentation, and data: when there's only one system keeping track of things, synchronization errors can be avoided."
      ]
    },
    {
      "cell_type": "markdown",
      "id": "visible-dance",
      "metadata": {
        "id": "visible-dance"
      },
      "source": [
        "### Setting Up Git for Version Control for DVC\n",
        "\n",
        "  1. `git init`: Make the project folder a Git repository.\n",
        "  2. `dvc init`: Make the DVC repo, telling it to talk to Git when it needs version control help (default behavior)\n",
        "    - *Note*: For this tutorial, we already did this but specified `--no-scm` (no source control manager).  This is not good anymore--just delete the .dvc folder and re-run the `dvc init` command to get things set up correctly.\n",
        "  3. `git commit -m \"added dvc\"`: save the dvc configuration files into git version control."
      ]
    },
    {
      "cell_type": "markdown",
      "id": "talented-wallet",
      "metadata": {
        "id": "talented-wallet"
      },
      "source": [
        "#### Init the Git Repository"
      ]
    },
    {
      "cell_type": "code",
      "execution_count": 57,
      "id": "valuable-condition",
      "metadata": {
        "id": "valuable-condition",
        "outputId": "ceed2a4c-7cee-4c76-f499-c261d154ca00",
        "colab": {
          "base_uri": "https://localhost:8080/"
        }
      },
      "outputs": [
        {
          "output_type": "stream",
          "name": "stdout",
          "text": [
            "Reinitialized existing Git repository in /content/.git/\n"
          ]
        }
      ],
      "source": [
        "!git init"
      ]
    },
    {
      "cell_type": "markdown",
      "id": "tamil-stadium",
      "metadata": {
        "id": "tamil-stadium"
      },
      "source": [
        "### Add and Commit the Files\n",
        "\n",
        "Version control is straightforward.  Whenever data files are changed or added, just use the `dvc add` command, then commit the resulting stub files to git for version control with the `git commit` command.  Below are all the manual steps, but DVC helps out a bit by giving some git commands for you."
      ]
    },
    {
      "cell_type": "code",
      "execution_count": 58,
      "id": "least-essay",
      "metadata": {
        "id": "least-essay",
        "outputId": "2d4fe630-588b-48c9-a5a8-0bd08a8f7963",
        "colab": {
          "base_uri": "https://localhost:8080/"
        }
      },
      "outputs": [
        {
          "output_type": "stream",
          "name": "stdout",
          "text": [
            "\r!\rIf DVC froze, see `hardlink_lock` in <\u001b[36mhttps://man.dvc.org/config#core\u001b[39m>\r                                                                      \r\r!\rCollecting targets          |0.00 [00:00,     ?file/s]\r                                                      \r\u001b[?25l\u001b[32m⠋\u001b[0m Checking graph\n",
            "\u001b[?25h\r\u001b[1A\u001b[2K\rAdding...:   0% 0/1 [00:00<?, ?file/s]\rAdding...:   0% 0/1 [00:00<?, ?file/s{'info': ''}]\rAdding...:   0% 0/1 [00:00<?, ?file/s{'info': ''}]\n",
            "\r!\u001b[A\n",
            "\r  0% |          |0/? [00:00<?,    ?files/s]\u001b[A\n",
            "\r                                           \u001b[A\rAdding...: 100% 1/1 [00:00<00:00, 31.86file/s{'info': ''}]\n",
            "\u001b[0m"
          ]
        }
      ],
      "source": [
        "!dvc add test.txt"
      ]
    },
    {
      "cell_type": "code",
      "execution_count": 59,
      "id": "alpine-issue",
      "metadata": {
        "id": "alpine-issue"
      },
      "outputs": [],
      "source": [
        "!git add test.txt.dvc"
      ]
    },
    {
      "cell_type": "code",
      "execution_count": 60,
      "id": "prospective-malawi",
      "metadata": {
        "id": "prospective-malawi"
      },
      "outputs": [],
      "source": [
        "!git config --global user.name \"my name\"\n",
        "!git config --global user.email \"my.name@gmail.com\""
      ]
    },
    {
      "cell_type": "code",
      "execution_count": 61,
      "id": "ignored-maintenance",
      "metadata": {
        "id": "ignored-maintenance",
        "outputId": "4c4a5623-df3b-456c-8834-58fec0525e0f",
        "colab": {
          "base_uri": "https://localhost:8080/"
        }
      },
      "outputs": [
        {
          "output_type": "stream",
          "name": "stdout",
          "text": [
            "On branch master\n",
            "Untracked files:\n",
            "  (use \"git add <file>...\" to include in what will be committed)\n",
            "\t\u001b[31m.config/\u001b[m\n",
            "\t\u001b[31m.dvc/\u001b[m\n",
            "\t\u001b[31m.dvcignore\u001b[m\n",
            "\t\u001b[31msample_data/\u001b[m\n",
            "\t\u001b[31mtest.txt\u001b[m\n",
            "\n",
            "nothing added to commit but untracked files present (use \"git add\" to track)\n"
          ]
        }
      ],
      "source": [
        "!git commit -m \"changed files\""
      ]
    },
    {
      "cell_type": "markdown",
      "id": "musical-forth",
      "metadata": {
        "id": "musical-forth"
      },
      "source": [
        "*Note*: If this is your first time using git on the computer, you may be asked to log your name and email first (code for doing this below)"
      ]
    },
    {
      "cell_type": "markdown",
      "id": "verified-bibliography",
      "metadata": {
        "id": "verified-bibliography"
      },
      "source": [
        "That's it!  You've saved a snapshot of the project, along with the stub files."
      ]
    },
    {
      "cell_type": "markdown",
      "id": "severe-drive",
      "metadata": {
        "id": "severe-drive"
      },
      "source": [
        "## Documenting Remote Data Storage and Retrieval"
      ]
    },
    {
      "cell_type": "markdown",
      "id": "israeli-shaft",
      "metadata": {
        "id": "israeli-shaft"
      },
      "source": [
        "\n",
        "Storing your data on a different machine can be really helpful, if:\n",
        "\n",
        "  1. You have lots of data, but only need to access some of it at a time.\n",
        "  2. You use different computers to do your analysis, and want a common place to look for your data\n",
        "  3. Other people would like to access your data\n",
        "  4. You value your data and don't want to accidentally delete/modify it.\n",
        "  5. Your organization/industry has regulations around data protection, privacy, security, and/or intellection property.\n",
        "  6. You love making things more complicated, and one computer for one analysis just isn't enough.\n",
        "  "
      ]
    },
    {
      "cell_type": "markdown",
      "id": "molecular-weekly",
      "metadata": {
        "id": "molecular-weekly"
      },
      "source": [
        "### DVC \"Remotes\": Connections to various remote data storage tools\n",
        "\n",
        "DVC's cache contains all the versions of your project's data, indexed by the file's checksum.  This is essentially a DVC-specific database for storing your data.\n",
        "\n",
        "DVC can connect to a lot of different services, from proprietary ones like Amazon S3 or Google Drive to generic ones like SSH or FTP connections.  You can even consider a different folder on the same computer as a \"remote\" backup--it's all the same."
      ]
    },
    {
      "cell_type": "markdown",
      "id": "fancy-convergence",
      "metadata": {
        "id": "fancy-convergence"
      },
      "source": [
        "#### Add a New DVC Remote\n",
        "\n",
        "DVC Docs: `dvc remote add`: https://dvc.org/doc/command-reference/remote/add\n",
        "\n",
        "To use these different services, you'll likely need to pip install some remote-specific python libraries.  The docs show how."
      ]
    },
    {
      "cell_type": "code",
      "execution_count": 62,
      "id": "excessive-class",
      "metadata": {
        "id": "excessive-class",
        "outputId": "b31107b3-fed5-4a5d-904f-5132f3765653",
        "colab": {
          "base_uri": "https://localhost:8080/"
        }
      },
      "outputs": [
        {
          "output_type": "stream",
          "name": "stdout",
          "text": [
            "\u001b[31mERROR\u001b[39m: configuration error - config file error: remote 'local' already exists. Use `-f|--force` to overwrite it.\n",
            "\u001b[0m"
          ]
        }
      ],
      "source": [
        "!dvc remote add local ../myfolder"
      ]
    },
    {
      "cell_type": "code",
      "execution_count": 63,
      "id": "sophisticated-backing",
      "metadata": {
        "id": "sophisticated-backing"
      },
      "outputs": [],
      "source": [
        "# !dvc remote add ssh ssh://172.105.74.128/myfolder"
      ]
    },
    {
      "cell_type": "code",
      "execution_count": 64,
      "id": "synthetic-nitrogen",
      "metadata": {
        "id": "synthetic-nitrogen"
      },
      "outputs": [],
      "source": [
        "# !dvc remote add gdrive gdrive://adf=2342876ds8762g324327824"
      ]
    },
    {
      "cell_type": "markdown",
      "id": "crude-article",
      "metadata": {
        "id": "crude-article"
      },
      "source": [
        "### Push the Data to the Remote"
      ]
    },
    {
      "cell_type": "code",
      "execution_count": 65,
      "id": "departmental-cooling",
      "metadata": {
        "id": "departmental-cooling",
        "outputId": "a8b0848f-7674-4e47-d23a-99cd3c03aeda",
        "colab": {
          "base_uri": "https://localhost:8080/"
        }
      },
      "outputs": [
        {
          "output_type": "stream",
          "name": "stdout",
          "text": [
            "\r!\rIf DVC froze, see `hardlink_lock` in <\u001b[36mhttps://man.dvc.org/config#core\u001b[39m>\r                                                                      \r\r!\r  0% |          |0/? [00:00<?,    ?files/s]\r                                           \rEverything is up to date.\n",
            "\u001b[0m"
          ]
        }
      ],
      "source": [
        "!dvc push -r local"
      ]
    },
    {
      "cell_type": "markdown",
      "id": "ambient-crack",
      "metadata": {
        "id": "ambient-crack"
      },
      "source": [
        "### Pull the Data From the Remote"
      ]
    },
    {
      "cell_type": "code",
      "execution_count": 66,
      "id": "consolidated-union",
      "metadata": {
        "id": "consolidated-union",
        "outputId": "3e9b1d90-31cc-4cfc-d1f9-6407577d9362",
        "colab": {
          "base_uri": "https://localhost:8080/"
        }
      },
      "outputs": [
        {
          "output_type": "stream",
          "name": "stdout",
          "text": [
            "\r!\rIf DVC froze, see `hardlink_lock` in <\u001b[36mhttps://man.dvc.org/config#core\u001b[39m>\r                                                                      \r\r!\r  0% |          |0/? [00:00<?,    ?files/s]\r                                           \r\r!\r  0% Checkout|          |0/? [00:00<?,     ?file/s]\rCheckout:   0% 0/1 [00:00<?, ?file/s{'info': ''}]  \r                                                 \rEverything is up to date.\n",
            "\u001b[0m"
          ]
        }
      ],
      "source": [
        "!dvc pull -r local"
      ]
    },
    {
      "cell_type": "code",
      "source": [],
      "metadata": {
        "id": "sWAtBnkyjakD"
      },
      "id": "sWAtBnkyjakD",
      "execution_count": 66,
      "outputs": []
    }
  ],
  "metadata": {
    "kernelspec": {
      "display_name": "Python 3",
      "language": "python",
      "name": "python3"
    },
    "language_info": {
      "codemirror_mode": {
        "name": "ipython",
        "version": 3
      },
      "file_extension": ".py",
      "mimetype": "text/x-python",
      "name": "python",
      "nbconvert_exporter": "python",
      "pygments_lexer": "ipython3",
      "version": "3.8.3"
    },
    "colab": {
      "provenance": []
    }
  },
  "nbformat": 4,
  "nbformat_minor": 5
}