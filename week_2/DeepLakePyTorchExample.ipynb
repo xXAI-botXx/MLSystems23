{
 "cells": [
  {
   "cell_type": "markdown",
   "metadata": {
    "id": "lKU8kmSs65xv"
   },
   "source": [
    "# ***Training an Image Classification Model in PyTorch***\n",
    "\n"
   ]
  },
  {
   "cell_type": "markdown",
   "metadata": {
    "id": "3zK9b4yiMRzB"
   },
   "source": [
    "#### The primary objective for Hub is to enable users to manage their data more easily so they can train better ML models. This tutorial shows you how to train a simple image classification model while streaming data from a Hub dataset stored in the cloud."
   ]
  },
  {
   "cell_type": "markdown",
   "metadata": {
    "id": "3UseHLcoRIYz"
   },
   "source": [
    "## Install Hub"
   ]
  },
  {
   "cell_type": "code",
   "execution_count": null,
   "metadata": {
    "id": "l5mOffq5RN-T"
   },
   "outputs": [],
   "source": [
    "from IPython.display import clear_output\n",
    "!pip3 install hub\n",
    "clear_output()"
   ]
  },
  {
   "cell_type": "markdown",
   "metadata": {
    "id": "7wGo53ndMTCB"
   },
   "source": [
    "## Data Preprocessing\n"
   ]
  },
  {
   "cell_type": "markdown",
   "metadata": {
    "id": "52h9xKujOJFs"
   },
   "source": [
    "The first step is to select a dataset for training. This tutorial uses the [Fashion MNIST](https://github.com/zalandoresearch/fashion-mnist) dataset that has already been converted into hub format. It is a simple image classification dataset that categorizes images by clothing type (trouser, shirt, etc.)"
   ]
  },
  {
   "cell_type": "code",
   "execution_count": null,
   "metadata": {
    "id": "neD2jhKDQ5WD"
   },
   "outputs": [],
   "source": [
    "import hub\n",
    "from PIL import Image\n",
    "import numpy as np\n",
    "import os, time\n",
    "import torch\n",
    "from torchvision import datasets, transforms, models\n",
    "\n",
    "ds_train = hub.load('hub://activeloop/fashion-mnist-train')\n",
    "ds_test = hub.load('hub://activeloop/fashion-mnist-test')"
   ]
  },
  {
   "cell_type": "code",
   "execution_count": null,
   "metadata": {
    "id": "m0jtotSNzeJ0"
   },
   "outputs": [],
   "source": [
    "Image.fromarray(ds_train.images[0].numpy()).resize((100,100))"
   ]
  },
  {
   "cell_type": "code",
   "execution_count": null,
   "metadata": {
    "id": "jPSz9kml03Aa"
   },
   "outputs": [],
   "source": [
    "print(ds_train.labels.info.class_names[ds_train.labels[0].numpy()[0]])"
   ]
  },
  {
   "cell_type": "markdown",
   "metadata": {
    "id": "Np5fIbViHlCu"
   },
   "source": [
    "The next step is to define a transformation function that will process the data and convert it into a format that can be passed into a deep learning model. In this particular example, `torchvision.transforms` is used as a part of the transformation pipeline that performs operations such as normalization and image augmentation (rotation)."
   ]
  },
  {
   "cell_type": "code",
   "execution_count": null,
   "metadata": {
    "id": "WqdWgumwQ1d6"
   },
   "outputs": [],
   "source": [
    "tform = transforms.Compose([\n",
    "    transforms.ToPILImage(), # Must convert to PIL image for subsequent operations to run\n",
    "    transforms.RandomRotation(20), # Image augmentation\n",
    "    transforms.ToTensor(), # Must convert to pytorch tensor for subsequent operations to run\n",
    "    transforms.Normalize([0.5], [0.5]),\n",
    "])"
   ]
  },
  {
   "cell_type": "markdown",
   "metadata": {
    "id": "DGmWr44PIQMk"
   },
   "source": [
    "You can now create a pytorch dataloader that connects the Hub dataset to the PyTorch model using the provided method `ds.pytorch()`. This method automatically applies the transformation function, takes care of random shuffling (if desired), and converts hub data to PyTorch tensors. The `num_workers` parameter can be used to parallelize data preprocessing, which is critical for ensuring that preprocessing does not bottleneck the overall training workflow.\n",
    "\n",
    "The `transform` input is a dictionary where the `key` is the tensor name and the `value` is the transformation function that should be applied to that tensor. If a specific tensor's data does not need to be returned, it should be omitted from the keys. If a tensor's data does not need to be modified during preprocessing, the transformation function is set as `None`."
   ]
  },
  {
   "cell_type": "code",
   "execution_count": null,
   "metadata": {
    "id": "MeiU4LobROdE"
   },
   "outputs": [],
   "source": [
    "batch_size = 32\n",
    "\n",
    "train_loader = ds_train.pytorch(num_workers = 0, shuffle = True, transform = {'images': tform, 'labels': None}, batch_size = batch_size)\n",
    "test_loader = ds_test.pytorch(num_workers = 0, transform = {'images': tform, 'labels': None}, batch_size = batch_size)"
   ]
  },
  {
   "cell_type": "code",
   "execution_count": null,
   "metadata": {
    "id": "2Dco8HW9ROXS"
   },
   "outputs": [],
   "source": [
    "# device = torch.device(\"cuda\" if torch.cuda.is_available() else \"cpu\")\n",
    "device = torch.device(\"cpu\")"
   ]
  },
  {
   "cell_type": "markdown",
   "metadata": {
    "id": "Snt5b6qwIZQ_"
   },
   "source": [
    "## Model Definition"
   ]
  },
  {
   "cell_type": "markdown",
   "metadata": {
    "id": "e5LZrDU4I1GO"
   },
   "source": [
    "This tutorial uses a pre-trained [ResNet18](https://pytorch.org/hub/pytorch_vision_resnet/) neural network from the torchvision.models module, converted to a single-channel network for grayscale images."
   ]
  },
  {
   "cell_type": "code",
   "execution_count": null,
   "metadata": {
    "id": "GRBRaROLROUf"
   },
   "outputs": [],
   "source": [
    "# Simple model can be trained on a CPU\n",
    "device = torch.device(\"cpu\")\n",
    "\n",
    "net = models.resnet18(pretrained=True)\n",
    "# Convert model to grayscale\n",
    "net.conv1 = torch.nn.Conv2d(1, 64, kernel_size=7, stride=2, padding=3, bias=False)\n",
    "\n",
    "# Update the fully connected layer based on the number of classes in the dataset\n",
    "net.fc = torch.nn.Linear(net.fc.in_features, len(ds_train.labels.info.class_names))\n",
    "\n",
    "net.to(device)\n",
    "\n",
    "# Specity the loss function and optimizer\n",
    "criterion = torch.nn.CrossEntropyLoss()\n",
    "optimizer = torch.optim.SGD(net.parameters(), lr=0.001, momentum=0.1)"
   ]
  },
  {
   "cell_type": "markdown",
   "metadata": {
    "id": "8sVS5lTFI-gZ"
   },
   "source": [
    "## Training the Model"
   ]
  },
  {
   "cell_type": "markdown",
   "metadata": {
    "id": "V65Xr8aBJCUL"
   },
   "source": [
    "Helper functions for training and testing the model are defined. Note that the dictionary that is returned by the transform function in the PyTorch dataloader is access here and is passed into the model."
   ]
  },
  {
   "cell_type": "code",
   "execution_count": null,
   "metadata": {
    "id": "W6cQJkHeJGtk"
   },
   "outputs": [],
   "source": [
    "def train_model(loader, test_loader, model, epochs = 1):\n",
    "    for epoch in range(epochs):  # loop over the dataset multiple times\n",
    "\n",
    "        # Zero the performance stats for each epoch\n",
    "        running_loss = 0.0\n",
    "        start_time = time.time()\n",
    "        total = 0\n",
    "        correct = 0\n",
    "        \n",
    "        for i, data in enumerate(loader):\n",
    "            # get the inputs; data is a list of [inputs, labels]\n",
    "            inputs = data['images']\n",
    "            labels = torch.squeeze(data['labels'])\n",
    "\n",
    "            inputs = inputs.to(device)\n",
    "            labels = labels.to(device)\n",
    "\n",
    "            # zero the parameter gradients\n",
    "            optimizer.zero_grad()\n",
    "\n",
    "            # forward + backward + optimize\n",
    "            outputs = model(inputs.float())\n",
    "            loss = criterion(outputs, labels)\n",
    "            loss.backward()\n",
    "            optimizer.step()\n",
    "            \n",
    "            _, predicted = torch.max(outputs.data, 1)\n",
    "            total += labels.size(0)\n",
    "            correct += (predicted == labels).sum().item()\n",
    "            accuracy = 100 * correct / total\n",
    "        \n",
    "            # Print performance statistics\n",
    "            running_loss += loss.item()\n",
    "            if i % 10 == 0:    # print every 10 batches\n",
    "                batch_time = time.time()\n",
    "                speed = (i+1)/(batch_time-start_time)\n",
    "                print('[%d, %5d] loss: %.3f, speed: %.2f, accuracy: %.2f %%' %\n",
    "                      (epoch + 1, i, running_loss, speed, accuracy))\n",
    "\n",
    "                running_loss = 0.0\n",
    "        \n",
    "        print('Testing Model Performance')\n",
    "        test_model(test_loader, model)\n",
    "\n",
    "    print('Finished Training')\n",
    "    \n",
    "    \n",
    "def test_model(loader, model):\n",
    "    start_time = time.time()\n",
    "    total = 0\n",
    "    correct = 0\n",
    "    with torch.no_grad():\n",
    "        for i, data in enumerate(loader):\n",
    "            # get the inputs; data is a list of [inputs, labels]\n",
    "            inputs = data['images']\n",
    "            labels = torch.squeeze(data['labels'])\n",
    "\n",
    "            inputs = inputs.to(device)\n",
    "            labels = labels.to(device)\n",
    "\n",
    "            # zero the parameter gradients\n",
    "            optimizer.zero_grad()\n",
    "\n",
    "            # forward + backward + optimize\n",
    "            outputs = model(inputs.float())\n",
    "\n",
    "            _, predicted = torch.max(outputs.data, 1)\n",
    "            total += labels.size(0)\n",
    "            correct += (predicted == labels).sum().item()\n",
    "        accuracy = 100 * correct / total\n",
    "            \n",
    "        print('Finished Testing')\n",
    "        print('Testing accuracy: %.1f %%' %(accuracy))"
   ]
  },
  {
   "cell_type": "markdown",
   "metadata": {
    "id": "vQWzFjzLJINu"
   },
   "source": [
    "The model and data are ready for training. Let's gooooooooooo 🚀!"
   ]
  },
  {
   "cell_type": "code",
   "execution_count": null,
   "metadata": {
    "id": "fMhm4VjDRf7i"
   },
   "outputs": [],
   "source": [
    "train_model(train_loader, test_loader, net, epochs = 1)"
   ]
  },
  {
   "cell_type": "markdown",
   "metadata": {
    "id": "79QnkE-UUySP"
   },
   "source": [
    "Congrats! You successfully trained an image classification model while streaming data directly from the cloud! 🎉"
   ]
  }
 ],
 "metadata": {
  "colab": {
   "name": "Training an Image Classification Model in PyTorch",
   "provenance": []
  },
  "kernelspec": {
   "display_name": "Python 3 (ipykernel)",
   "language": "python",
   "name": "python3"
  },
  "language_info": {
   "codemirror_mode": {
    "name": "ipython",
    "version": 3
   },
   "file_extension": ".py",
   "mimetype": "text/x-python",
   "name": "python",
   "nbconvert_exporter": "python",
   "pygments_lexer": "ipython3",
   "version": "3.9.12"
  }
 },
 "nbformat": 4,
 "nbformat_minor": 1
}
