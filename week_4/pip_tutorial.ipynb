{
  "nbformat": 4,
  "nbformat_minor": 0,
  "metadata": {
    "colab": {
      "provenance": []
    },
    "kernelspec": {
      "name": "python3",
      "display_name": "Python 3"
    },
    "language_info": {
      "name": "python"
    }
  },
  "cells": [
    {
      "cell_type": "markdown",
      "source": [
        "# Building Python Packages with Pip\n",
        "Short tutorial on how to build you own installable Pip package."
      ],
      "metadata": {
        "id": "LSO8V6yHAtxG"
      }
    },
    {
      "cell_type": "code",
      "execution_count": 1,
      "metadata": {
        "colab": {
          "base_uri": "https://localhost:8080/"
        },
        "id": "EmnlykomAqNw",
        "outputId": "f4cd9bfc-5185-4f89-fc8d-14974eb53be7"
      },
      "outputs": [
        {
          "output_type": "stream",
          "name": "stdout",
          "text": [
            "Cloning into 'pip_example'...\n",
            "remote: Enumerating objects: 24, done.\u001b[K\n",
            "remote: Total 24 (delta 0), reused 0 (delta 0), pack-reused 24\u001b[K\n",
            "Unpacking objects: 100% (24/24), 7.62 KiB | 974.00 KiB/s, done.\n"
          ]
        }
      ],
      "source": [
        "#get dummy project code\n",
        "!git clone https://github.com/keuperj/pip_example.git"
      ]
    },
    {
      "cell_type": "code",
      "source": [
        "#go to project folder and have a look at the files\n",
        "# %cd is important! -> switch working directory for all cells in this notebook\n",
        "%cd pip_example"
      ],
      "metadata": {
        "colab": {
          "base_uri": "https://localhost:8080/"
        },
        "id": "Ap_qkwptBCP2",
        "outputId": "f8656dda-9137-48fd-d57d-6830b66945a0"
      },
      "execution_count": 18,
      "outputs": [
        {
          "output_type": "stream",
          "name": "stdout",
          "text": [
            "[Errno 2] No such file or directory: 'pip_example'\n",
            "/content/pip_example\n"
          ]
        }
      ]
    },
    {
      "cell_type": "code",
      "source": [
        "!ls -R\n"
      ],
      "metadata": {
        "colab": {
          "base_uri": "https://localhost:8080/"
        },
        "id": "Z0Hlr0w3Dfis",
        "outputId": "14788064-ce01-4fa0-d71e-82c563b37c51"
      },
      "execution_count": 15,
      "outputs": [
        {
          "output_type": "stream",
          "name": "stdout",
          "text": [
            ".:\n",
            "docs  LICENSE  pyexample  README.rst  setup.py\n",
            "\n",
            "./docs:\n",
            "conf.py  index.rst  Makefile  mpi4py_module.rst  readme.rst\n",
            "\n",
            "./pyexample:\n",
            "__init__.py  module_mpi4py_1.py  module_numpy_1.py  module_numpy_2.py\n"
          ]
        }
      ]
    },
    {
      "cell_type": "markdown",
      "source": [
        "The files should look like this, where the actual python code is in the folder `pyexample`\n",
        "\n",
        "\n",
        "![pip.png](data:image/png;base64,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)"
      ],
      "metadata": {
        "id": "vM5NBxj6BsUa"
      }
    },
    {
      "cell_type": "code",
      "source": [
        "#now we need to install some tools\n",
        "!pip install setuptools"
      ],
      "metadata": {
        "colab": {
          "base_uri": "https://localhost:8080/"
        },
        "id": "V8eOcxs7BMeN",
        "outputId": "00a81846-7ae7-4cfc-d5d7-131a812a827f"
      },
      "execution_count": 10,
      "outputs": [
        {
          "output_type": "stream",
          "name": "stdout",
          "text": [
            "Looking in indexes: https://pypi.org/simple, https://us-python.pkg.dev/colab-wheels/public/simple/\n",
            "Requirement already satisfied: setuptools in /usr/local/lib/python3.9/dist-packages (67.7.2)\n"
          ]
        }
      ]
    },
    {
      "cell_type": "markdown",
      "source": [
        "### Package Configuration\n",
        "The main thing we nedd to do, is to provide a setup file...\n",
        "\n",
        "For Details see: https://setuptools.readthedocs.io/en/latest/setuptools.html#command-reference"
      ],
      "metadata": {
        "id": "qcOp08dICgmd"
      }
    },
    {
      "cell_type": "code",
      "source": [
        "%%writefile setup.py\n",
        "\n",
        "from setuptools import setup\n",
        "\n",
        "setup(\n",
        "    name='pyexample',\n",
        "    version='0.1.0',    \n",
        "    description='A example Python package',\n",
        "    url='https://github.com/shuds13/pyexample',\n",
        "    author='YOUR NAME',\n",
        "    author_email='YOUR.EMAIL@SERVER.COM',    \n",
        "    license='BSD 2-clause',\n",
        "    packages=['pyexample'],\n",
        "    install_requires=['mpi4py>=2.0',\n",
        "                      'numpy',\n",
        "                      ],\n",
        "\n",
        "    classifiers=[\n",
        "        'Development Status :: 1 - Planning',\n",
        "        'Intended Audience :: Science/Research',\n",
        "        'License :: OSI Approved :: BSD License',  \n",
        "        'Operating System :: POSIX :: Linux',        \n",
        "        'Programming Language :: Python :: 2',\n",
        "        'Programming Language :: Python :: 2.7',\n",
        "        'Programming Language :: Python :: 3',\n",
        "        'Programming Language :: Python :: 3.4',\n",
        "        'Programming Language :: Python :: 3.5',\n",
        "    ],\n",
        ")    "
      ],
      "metadata": {
        "colab": {
          "base_uri": "https://localhost:8080/"
        },
        "id": "fkF20F7bBO68",
        "outputId": "787cdb14-dfa7-4e5f-b46e-93cc651afbf1"
      },
      "execution_count": 16,
      "outputs": [
        {
          "output_type": "stream",
          "name": "stdout",
          "text": [
            "Overwriting setup.py\n"
          ]
        }
      ]
    },
    {
      "cell_type": "code",
      "source": [
        "#now build the package!\n",
        "!pip install ."
      ],
      "metadata": {
        "colab": {
          "base_uri": "https://localhost:8080/"
        },
        "id": "TsbzdTFlC2QA",
        "outputId": "f1923440-701e-47d9-c4ee-77dbcb4cff6e"
      },
      "execution_count": 17,
      "outputs": [
        {
          "output_type": "stream",
          "name": "stdout",
          "text": [
            "Looking in indexes: https://pypi.org/simple, https://us-python.pkg.dev/colab-wheels/public/simple/\n",
            "Processing /content/pip_example\n",
            "  Preparing metadata (setup.py) ... \u001b[?25l\u001b[?25hdone\n",
            "Collecting mpi4py>=2.0\n",
            "  Downloading mpi4py-3.1.4.tar.gz (2.5 MB)\n",
            "\u001b[2K     \u001b[90m━━━━━━━━━━━━━━━━━━━━━━━━━━━━━━━━━━━━━━━━\u001b[0m \u001b[32m2.5/2.5 MB\u001b[0m \u001b[31m32.9 MB/s\u001b[0m eta \u001b[36m0:00:00\u001b[0m\n",
            "\u001b[?25h  Installing build dependencies ... \u001b[?25l\u001b[?25hdone\n",
            "  Getting requirements to build wheel ... \u001b[?25l\u001b[?25hdone\n",
            "  Preparing metadata (pyproject.toml) ... \u001b[?25l\u001b[?25hdone\n",
            "Requirement already satisfied: numpy in /usr/local/lib/python3.9/dist-packages (from pyexample==0.1.0) (1.22.4)\n",
            "Building wheels for collected packages: pyexample, mpi4py\n",
            "  Building wheel for pyexample (setup.py) ... \u001b[?25l\u001b[?25hdone\n",
            "  Created wheel for pyexample: filename=pyexample-0.1.0-py3-none-any.whl size=5288 sha256=9e85eac10140b5cc08a77e046847b72ece2b9d6f6229418644779e37c1c7f46e\n",
            "  Stored in directory: /tmp/pip-ephem-wheel-cache-0hz1cd9y/wheels/87/a2/44/0b2e5d0bc7870e975d048f5a3864d22cfbb35a3b47f59b0e19\n",
            "  Building wheel for mpi4py (pyproject.toml) ... \u001b[?25l\u001b[?25hdone\n",
            "  Created wheel for mpi4py: filename=mpi4py-3.1.4-cp39-cp39-linux_x86_64.whl size=3380645 sha256=3da9a6bad580bd768c960dad52b8561aa0827a482e2793107b7d35e75f084545\n",
            "  Stored in directory: /root/.cache/pip/wheels/db/81/9f/43a031fce121c845baca1c5d9a1468cad98208286aa2832de9\n",
            "Successfully built pyexample mpi4py\n",
            "Installing collected packages: mpi4py, pyexample\n",
            "Successfully installed mpi4py-3.1.4 pyexample-0.1.0\n"
          ]
        }
      ]
    },
    {
      "cell_type": "markdown",
      "source": [
        "Our Package is now locally available:"
      ],
      "metadata": {
        "id": "ofX50TAeEvSp"
      }
    },
    {
      "cell_type": "code",
      "source": [
        "!pip list |grep pyexample"
      ],
      "metadata": {
        "colab": {
          "base_uri": "https://localhost:8080/"
        },
        "id": "OXfMDYD3DJZF",
        "outputId": "63deb650-c89d-4ec5-a473-b73424c29a67"
      },
      "execution_count": 22,
      "outputs": [
        {
          "output_type": "stream",
          "name": "stdout",
          "text": [
            "pyexample                     0.1.0\n"
          ]
        }
      ]
    },
    {
      "cell_type": "markdown",
      "source": [
        "### Build Source Distribution"
      ],
      "metadata": {
        "id": "q-hzcC4TEz8J"
      }
    },
    {
      "cell_type": "code",
      "source": [
        "!python setup.py check\n"
      ],
      "metadata": {
        "colab": {
          "base_uri": "https://localhost:8080/"
        },
        "id": "OgNPT3ByE3F0",
        "outputId": "7eff0ebf-491f-4a58-e00a-dd1cfa4cc751"
      },
      "execution_count": 19,
      "outputs": [
        {
          "output_type": "stream",
          "name": "stdout",
          "text": [
            "running check\n"
          ]
        }
      ]
    },
    {
      "cell_type": "code",
      "source": [
        "!python setup.py sdist\n"
      ],
      "metadata": {
        "colab": {
          "base_uri": "https://localhost:8080/"
        },
        "id": "4UhE7qpEE4G0",
        "outputId": "e185b207-c4a6-4fb9-8fe0-ab89e3c95b67"
      },
      "execution_count": 23,
      "outputs": [
        {
          "output_type": "stream",
          "name": "stdout",
          "text": [
            "running sdist\n",
            "running egg_info\n",
            "writing pyexample.egg-info/PKG-INFO\n",
            "writing dependency_links to pyexample.egg-info/dependency_links.txt\n",
            "writing requirements to pyexample.egg-info/requires.txt\n",
            "writing top-level names to pyexample.egg-info/top_level.txt\n",
            "reading manifest file 'pyexample.egg-info/SOURCES.txt'\n",
            "adding license file 'LICENSE'\n",
            "writing manifest file 'pyexample.egg-info/SOURCES.txt'\n",
            "running check\n",
            "creating pyexample-0.1.0\n",
            "creating pyexample-0.1.0/pyexample\n",
            "creating pyexample-0.1.0/pyexample.egg-info\n",
            "copying files to pyexample-0.1.0...\n",
            "copying LICENSE -> pyexample-0.1.0\n",
            "copying README.rst -> pyexample-0.1.0\n",
            "copying setup.py -> pyexample-0.1.0\n",
            "copying pyexample/__init__.py -> pyexample-0.1.0/pyexample\n",
            "copying pyexample/module_mpi4py_1.py -> pyexample-0.1.0/pyexample\n",
            "copying pyexample/module_numpy_1.py -> pyexample-0.1.0/pyexample\n",
            "copying pyexample/module_numpy_2.py -> pyexample-0.1.0/pyexample\n",
            "copying pyexample.egg-info/PKG-INFO -> pyexample-0.1.0/pyexample.egg-info\n",
            "copying pyexample.egg-info/SOURCES.txt -> pyexample-0.1.0/pyexample.egg-info\n",
            "copying pyexample.egg-info/dependency_links.txt -> pyexample-0.1.0/pyexample.egg-info\n",
            "copying pyexample.egg-info/requires.txt -> pyexample-0.1.0/pyexample.egg-info\n",
            "copying pyexample.egg-info/top_level.txt -> pyexample-0.1.0/pyexample.egg-info\n",
            "Writing pyexample-0.1.0/setup.cfg\n",
            "creating dist\n",
            "Creating tar archive\n",
            "removing 'pyexample-0.1.0' (and everything under it)\n"
          ]
        }
      ]
    },
    {
      "cell_type": "code",
      "source": [
        "#now we get a tar file with the source code\n",
        "!ls dist"
      ],
      "metadata": {
        "colab": {
          "base_uri": "https://localhost:8080/"
        },
        "id": "5i546AOpFWCU",
        "outputId": "30fb1dfd-eab1-4b09-e2af-dc90bcc030a0"
      },
      "execution_count": 24,
      "outputs": [
        {
          "output_type": "stream",
          "name": "stdout",
          "text": [
            "pyexample-0.1.0.tar.gz\n"
          ]
        }
      ]
    },
    {
      "cell_type": "markdown",
      "source": [
        "### Publishing our Package\n",
        "\n",
        "See https://pypi.python.org/pypi"
      ],
      "metadata": {
        "id": "4vSomeaNFpLB"
      }
    },
    {
      "cell_type": "code",
      "source": [
        "#we need another tool for that:\n",
        "!pip install twine\n"
      ],
      "metadata": {
        "colab": {
          "base_uri": "https://localhost:8080/"
        },
        "id": "HE1mcOEaFkMx",
        "outputId": "087ce65b-c8da-4ebf-c9b8-f73d7ef1532f"
      },
      "execution_count": 25,
      "outputs": [
        {
          "output_type": "stream",
          "name": "stdout",
          "text": [
            "Looking in indexes: https://pypi.org/simple, https://us-python.pkg.dev/colab-wheels/public/simple/\n",
            "Collecting twine\n",
            "  Downloading twine-4.0.2-py3-none-any.whl (36 kB)\n",
            "Collecting requests-toolbelt!=0.9.0,>=0.8.0\n",
            "  Downloading requests_toolbelt-0.10.1-py2.py3-none-any.whl (54 kB)\n",
            "\u001b[2K     \u001b[90m━━━━━━━━━━━━━━━━━━━━━━━━━━━━━━━━━━━━━━━━\u001b[0m \u001b[32m54.5/54.5 kB\u001b[0m \u001b[31m6.2 MB/s\u001b[0m eta \u001b[36m0:00:00\u001b[0m\n",
            "\u001b[?25hRequirement already satisfied: requests>=2.20 in /usr/local/lib/python3.9/dist-packages (from twine) (2.27.1)\n",
            "Collecting readme-renderer>=35.0\n",
            "  Downloading readme_renderer-37.3-py3-none-any.whl (14 kB)\n",
            "Collecting rfc3986>=1.4.0\n",
            "  Downloading rfc3986-2.0.0-py2.py3-none-any.whl (31 kB)\n",
            "Collecting pkginfo>=1.8.1\n",
            "  Downloading pkginfo-1.9.6-py3-none-any.whl (30 kB)\n",
            "Requirement already satisfied: rich>=12.0.0 in /usr/local/lib/python3.9/dist-packages (from twine) (13.3.4)\n",
            "Requirement already satisfied: urllib3>=1.26.0 in /usr/local/lib/python3.9/dist-packages (from twine) (1.26.15)\n",
            "Collecting keyring>=15.1\n",
            "  Downloading keyring-23.13.1-py3-none-any.whl (37 kB)\n",
            "Requirement already satisfied: importlib-metadata>=3.6 in /usr/local/lib/python3.9/dist-packages (from twine) (6.6.0)\n",
            "Requirement already satisfied: zipp>=0.5 in /usr/local/lib/python3.9/dist-packages (from importlib-metadata>=3.6->twine) (3.15.0)\n",
            "Collecting SecretStorage>=3.2\n",
            "  Downloading SecretStorage-3.3.3-py3-none-any.whl (15 kB)\n",
            "Collecting jeepney>=0.4.2\n",
            "  Downloading jeepney-0.8.0-py3-none-any.whl (48 kB)\n",
            "\u001b[2K     \u001b[90m━━━━━━━━━━━━━━━━━━━━━━━━━━━━━━━━━━━━━━━━\u001b[0m \u001b[32m48.4/48.4 kB\u001b[0m \u001b[31m5.5 MB/s\u001b[0m eta \u001b[36m0:00:00\u001b[0m\n",
            "\u001b[?25hCollecting jaraco.classes\n",
            "  Downloading jaraco.classes-3.2.3-py3-none-any.whl (6.0 kB)\n",
            "Requirement already satisfied: bleach>=2.1.0 in /usr/local/lib/python3.9/dist-packages (from readme-renderer>=35.0->twine) (6.0.0)\n",
            "Requirement already satisfied: docutils>=0.13.1 in /usr/local/lib/python3.9/dist-packages (from readme-renderer>=35.0->twine) (0.16)\n",
            "Requirement already satisfied: Pygments>=2.5.1 in /usr/local/lib/python3.9/dist-packages (from readme-renderer>=35.0->twine) (2.14.0)\n",
            "Requirement already satisfied: charset-normalizer~=2.0.0 in /usr/local/lib/python3.9/dist-packages (from requests>=2.20->twine) (2.0.12)\n",
            "Requirement already satisfied: idna<4,>=2.5 in /usr/local/lib/python3.9/dist-packages (from requests>=2.20->twine) (3.4)\n",
            "Requirement already satisfied: certifi>=2017.4.17 in /usr/local/lib/python3.9/dist-packages (from requests>=2.20->twine) (2022.12.7)\n",
            "Requirement already satisfied: markdown-it-py<3.0.0,>=2.2.0 in /usr/local/lib/python3.9/dist-packages (from rich>=12.0.0->twine) (2.2.0)\n",
            "Requirement already satisfied: webencodings in /usr/local/lib/python3.9/dist-packages (from bleach>=2.1.0->readme-renderer>=35.0->twine) (0.5.1)\n",
            "Requirement already satisfied: six>=1.9.0 in /usr/local/lib/python3.9/dist-packages (from bleach>=2.1.0->readme-renderer>=35.0->twine) (1.16.0)\n",
            "Requirement already satisfied: mdurl~=0.1 in /usr/local/lib/python3.9/dist-packages (from markdown-it-py<3.0.0,>=2.2.0->rich>=12.0.0->twine) (0.1.2)\n",
            "Requirement already satisfied: cryptography>=2.0 in /usr/local/lib/python3.9/dist-packages (from SecretStorage>=3.2->keyring>=15.1->twine) (40.0.2)\n",
            "Requirement already satisfied: more-itertools in /usr/local/lib/python3.9/dist-packages (from jaraco.classes->keyring>=15.1->twine) (9.1.0)\n",
            "Requirement already satisfied: cffi>=1.12 in /usr/local/lib/python3.9/dist-packages (from cryptography>=2.0->SecretStorage>=3.2->keyring>=15.1->twine) (1.15.1)\n",
            "Requirement already satisfied: pycparser in /usr/local/lib/python3.9/dist-packages (from cffi>=1.12->cryptography>=2.0->SecretStorage>=3.2->keyring>=15.1->twine) (2.21)\n",
            "Installing collected packages: rfc3986, pkginfo, jeepney, jaraco.classes, requests-toolbelt, readme-renderer, SecretStorage, keyring, twine\n",
            "Successfully installed SecretStorage-3.3.3 jaraco.classes-3.2.3 jeepney-0.8.0 keyring-23.13.1 pkginfo-1.9.6 readme-renderer-37.3 requests-toolbelt-0.10.1 rfc3986-2.0.0 twine-4.0.2\n"
          ]
        }
      ]
    },
    {
      "cell_type": "code",
      "source": [
        "#now upload our package to PyPy \n",
        "#\n",
        "#of cause this will require an account!\n",
        "# -> no need to actually do this with this dummy code\n",
        "# -> but if you do this for real (and package name is not taken), \n",
        "# you could do a \"pip install pyexample\" on every system \n",
        "!twine upload dist/*"
      ],
      "metadata": {
        "colab": {
          "base_uri": "https://localhost:8080/"
        },
        "id": "H4HDRyTIF2yE",
        "outputId": "97845ddf-c722-4210-bf4a-fc9e602c05f6"
      },
      "execution_count": 27,
      "outputs": [
        {
          "output_type": "stream",
          "name": "stdout",
          "text": [
            "Uploading distributions to https://upload.pypi.org/legacy/\n",
            "Enter your username: Traceback (most recent call last):\n",
            "  File \"/usr/local/bin/twine\", line 8, in <module>\n",
            "    sys.exit(main())\n",
            "  File \"/usr/local/lib/python3.9/dist-packages/twine/__main__.py\", line 33, in main\n",
            "    error = cli.dispatch(sys.argv[1:])\n",
            "  File \"/usr/local/lib/python3.9/dist-packages/twine/cli.py\", line 123, in dispatch\n",
            "    return main(args.args)\n",
            "  File \"/usr/local/lib/python3.9/dist-packages/twine/commands/upload.py\", line 198, in main\n",
            "    return upload(upload_settings, parsed_args.dists)\n",
            "  File \"/usr/local/lib/python3.9/dist-packages/twine/commands/upload.py\", line 127, in upload\n",
            "    repository = upload_settings.create_repository()\n",
            "  File \"/usr/local/lib/python3.9/dist-packages/twine/settings.py\", line 329, in create_repository\n",
            "    self.username,\n",
            "  File \"/usr/local/lib/python3.9/dist-packages/twine/settings.py\", line 131, in username\n",
            "    return cast(Optional[str], self.auth.username)\n",
            "  File \"/usr/local/lib/python3.9/dist-packages/twine/auth.py\", line 34, in username\n",
            "    return utils.get_userpass_value(\n",
            "  File \"/usr/local/lib/python3.9/dist-packages/twine/utils.py\", line 248, in get_userpass_value\n",
            "    value = prompt_strategy()\n",
            "  File \"/usr/local/lib/python3.9/dist-packages/twine/auth.py\", line 85, in username_from_keyring_or_prompt\n",
            "    return self.prompt(\"username\", input)\n",
            "  File \"/usr/local/lib/python3.9/dist-packages/twine/auth.py\", line 96, in prompt\n",
            "    return how(f\"Enter your {what}: \")\n",
            "KeyboardInterrupt\n",
            "^C\n"
          ]
        }
      ]
    },
    {
      "cell_type": "code",
      "source": [],
      "metadata": {
        "id": "RHp0DP2DGgau"
      },
      "execution_count": null,
      "outputs": []
    }
  ]
}