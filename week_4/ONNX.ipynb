{
  "cells": [
    {
      "cell_type": "code",
      "execution_count": 1,
      "metadata": {
        "id": "KyTmoDDI2RmE"
      },
      "outputs": [],
      "source": [
        "%matplotlib inline"
      ]
    },
    {
      "cell_type": "markdown",
      "metadata": {
        "id": "ybMSzVWQ2RmG"
      },
      "source": [
        "# ONNX Tutorial\n",
        "\n",
        "## Exporting a Model from PyTorch to ONNX and Running it using ONNX Runtime\n",
        "\n",
        "In this tutorial, we describe how to convert a model defined\n",
        "in PyTorch into the ONNX format and then run it with ONNX Runtime.\n",
        "\n",
        "ONNX Runtime is a performance-focused engine for ONNX models,\n",
        "which inferences efficiently across multiple platforms and hardware\n",
        "(Windows, Linux, and Mac and on both CPUs and GPUs).\n",
        "ONNX Runtime has proved to considerably increase performance over\n",
        "multiple models as explained [here](https://cloudblogs.microsoft.com/opensource/2019/05/22/onnx-runtime-machine-learning-inferencing-0-4-release)_\n",
        "\n",
        "For this tutorial, you will need to install [ONNX](https://github.com/onnx/onnx)_\n",
        "and [ONNX Runtime](https://github.com/microsoft/onnxruntime)_.\n",
        "You can get binary builds of ONNX and ONNX Runtime with\n",
        "``pip install onnx onnxruntime``.\n",
        "Note that ONNX Runtime is compatible with Python versions 3.5 to 3.7.\n",
        "\n",
        "``NOTE``: This tutorial needs PyTorch master branch which can be installed by following\n",
        "the instructions [here](https://github.com/pytorch/pytorch#from-source)_\n"
      ]
    },
    {
      "cell_type": "code",
      "source": [
        "!pip install onnx"
      ],
      "metadata": {
        "id": "uPwVbzXe2yxM",
        "outputId": "a7c28727-ca7d-420e-ab18-c231f1424f9b",
        "colab": {
          "base_uri": "https://localhost:8080/"
        }
      },
      "execution_count": 6,
      "outputs": [
        {
          "output_type": "stream",
          "name": "stdout",
          "text": [
            "Looking in indexes: https://pypi.org/simple, https://us-python.pkg.dev/colab-wheels/public/simple/\n",
            "Collecting onnx\n",
            "  Downloading onnx-1.13.1-cp39-cp39-manylinux_2_17_x86_64.manylinux2014_x86_64.whl (13.5 MB)\n",
            "\u001b[2K     \u001b[90m━━━━━━━━━━━━━━━━━━━━━━━━━━━━━━━━━━━━━━━━\u001b[0m \u001b[32m13.5/13.5 MB\u001b[0m \u001b[31m70.6 MB/s\u001b[0m eta \u001b[36m0:00:00\u001b[0m\n",
            "\u001b[?25hRequirement already satisfied: typing-extensions>=3.6.2.1 in /usr/local/lib/python3.9/dist-packages (from onnx) (4.5.0)\n",
            "Requirement already satisfied: numpy>=1.16.6 in /usr/local/lib/python3.9/dist-packages (from onnx) (1.22.4)\n",
            "Requirement already satisfied: protobuf<4,>=3.20.2 in /usr/local/lib/python3.9/dist-packages (from onnx) (3.20.3)\n",
            "Installing collected packages: onnx\n",
            "Successfully installed onnx-1.13.1\n"
          ]
        }
      ]
    },
    {
      "cell_type": "code",
      "source": [
        "!pip install onnx onnxruntime"
      ],
      "metadata": {
        "id": "yxoHvAz627cx",
        "outputId": "6b012f40-74db-4b2f-8817-20e873546ad0",
        "colab": {
          "base_uri": "https://localhost:8080/"
        }
      },
      "execution_count": 7,
      "outputs": [
        {
          "output_type": "stream",
          "name": "stdout",
          "text": [
            "Looking in indexes: https://pypi.org/simple, https://us-python.pkg.dev/colab-wheels/public/simple/\n",
            "Requirement already satisfied: onnx in /usr/local/lib/python3.9/dist-packages (1.13.1)\n",
            "Collecting onnxruntime\n",
            "  Downloading onnxruntime-1.14.1-cp39-cp39-manylinux_2_27_x86_64.whl (5.0 MB)\n",
            "\u001b[2K     \u001b[90m━━━━━━━━━━━━━━━━━━━━━━━━━━━━━━━━━━━━━━━━\u001b[0m \u001b[32m5.0/5.0 MB\u001b[0m \u001b[31m66.9 MB/s\u001b[0m eta \u001b[36m0:00:00\u001b[0m\n",
            "\u001b[?25hRequirement already satisfied: typing-extensions>=3.6.2.1 in /usr/local/lib/python3.9/dist-packages (from onnx) (4.5.0)\n",
            "Requirement already satisfied: numpy>=1.16.6 in /usr/local/lib/python3.9/dist-packages (from onnx) (1.22.4)\n",
            "Requirement already satisfied: protobuf<4,>=3.20.2 in /usr/local/lib/python3.9/dist-packages (from onnx) (3.20.3)\n",
            "Requirement already satisfied: flatbuffers in /usr/local/lib/python3.9/dist-packages (from onnxruntime) (23.3.3)\n",
            "Collecting coloredlogs\n",
            "  Downloading coloredlogs-15.0.1-py2.py3-none-any.whl (46 kB)\n",
            "\u001b[2K     \u001b[90m━━━━━━━━━━━━━━━━━━━━━━━━━━━━━━━━━━━━━━━━\u001b[0m \u001b[32m46.0/46.0 kB\u001b[0m \u001b[31m5.3 MB/s\u001b[0m eta \u001b[36m0:00:00\u001b[0m\n",
            "\u001b[?25hRequirement already satisfied: packaging in /usr/local/lib/python3.9/dist-packages (from onnxruntime) (23.1)\n",
            "Requirement already satisfied: sympy in /usr/local/lib/python3.9/dist-packages (from onnxruntime) (1.11.1)\n",
            "Collecting humanfriendly>=9.1\n",
            "  Downloading humanfriendly-10.0-py2.py3-none-any.whl (86 kB)\n",
            "\u001b[2K     \u001b[90m━━━━━━━━━━━━━━━━━━━━━━━━━━━━━━━━━━━━━━━━\u001b[0m \u001b[32m86.8/86.8 kB\u001b[0m \u001b[31m12.8 MB/s\u001b[0m eta \u001b[36m0:00:00\u001b[0m\n",
            "\u001b[?25hRequirement already satisfied: mpmath>=0.19 in /usr/local/lib/python3.9/dist-packages (from sympy->onnxruntime) (1.3.0)\n",
            "Installing collected packages: humanfriendly, coloredlogs, onnxruntime\n",
            "Successfully installed coloredlogs-15.0.1 humanfriendly-10.0 onnxruntime-1.14.1\n"
          ]
        }
      ]
    },
    {
      "cell_type": "code",
      "execution_count": 2,
      "metadata": {
        "id": "MMGESRf52RmI"
      },
      "outputs": [],
      "source": [
        "# Some standard imports\n",
        "import io\n",
        "import numpy as np\n",
        "\n",
        "from torch import nn\n",
        "import torch.utils.model_zoo as model_zoo\n",
        "import torch.onnx"
      ]
    },
    {
      "cell_type": "markdown",
      "metadata": {
        "id": "qlk5Qo222RmJ"
      },
      "source": [
        "### Use Case\n",
        "Super-resolution is a way of increasing the resolution of images, videos\n",
        "and is widely used in image processing or video editing. For this\n",
        "tutorial, we will use a small super-resolution model.\n",
        "\n",
        "First, let's create a ``SuperResolution`` model in PyTorch.\n",
        "This model uses the efficient sub-pixel convolution layer described in\n",
        "[\"Real-Time Single Image and Video Super-Resolution Using an Efficient\n",
        "Sub-Pixel Convolutional Neural Network\" - Shi et al](https://arxiv.org/abs/1609.05158)_\n",
        "for increasing the resolution of an image by an upscale factor.\n",
        "The model expects the Y component of the ``YCbCr`` of an image as an input, and\n",
        "outputs the upscaled Y component in super resolution.\n",
        "\n",
        "[The\n",
        "model](https://github.com/pytorch/examples/blob/master/super_resolution/model.py)_\n",
        "comes directly from PyTorch's examples without modification:\n",
        "\n",
        "\n"
      ]
    },
    {
      "cell_type": "code",
      "execution_count": 3,
      "metadata": {
        "id": "iG_gLvs32RmJ"
      },
      "outputs": [],
      "source": [
        "# Super Resolution model definition in PyTorch\n",
        "import torch.nn as nn\n",
        "import torch.nn.init as init\n",
        "\n",
        "\n",
        "class SuperResolutionNet(nn.Module):\n",
        "    def __init__(self, upscale_factor, inplace=False):\n",
        "        super(SuperResolutionNet, self).__init__()\n",
        "\n",
        "        self.relu = nn.ReLU(inplace=inplace)\n",
        "        self.conv1 = nn.Conv2d(1, 64, (5, 5), (1, 1), (2, 2))\n",
        "        self.conv2 = nn.Conv2d(64, 64, (3, 3), (1, 1), (1, 1))\n",
        "        self.conv3 = nn.Conv2d(64, 32, (3, 3), (1, 1), (1, 1))\n",
        "        self.conv4 = nn.Conv2d(32, upscale_factor ** 2, (3, 3), (1, 1), (1, 1))\n",
        "        self.pixel_shuffle = nn.PixelShuffle(upscale_factor)\n",
        "\n",
        "        self._initialize_weights()\n",
        "\n",
        "    def forward(self, x):\n",
        "        x = self.relu(self.conv1(x))\n",
        "        x = self.relu(self.conv2(x))\n",
        "        x = self.relu(self.conv3(x))\n",
        "        x = self.pixel_shuffle(self.conv4(x))\n",
        "        return x\n",
        "\n",
        "    def _initialize_weights(self):\n",
        "        init.orthogonal_(self.conv1.weight, init.calculate_gain('relu'))\n",
        "        init.orthogonal_(self.conv2.weight, init.calculate_gain('relu'))\n",
        "        init.orthogonal_(self.conv3.weight, init.calculate_gain('relu'))\n",
        "        init.orthogonal_(self.conv4.weight)\n",
        "\n",
        "# Create the super-resolution model by using the above model definition.\n",
        "torch_model = SuperResolutionNet(upscale_factor=3)"
      ]
    },
    {
      "cell_type": "markdown",
      "metadata": {
        "id": "U4NCHIkG2RmL"
      },
      "source": [
        "Ordinarily, you would now train this model; however, for this tutorial,\n",
        "we will instead download some pretrained weights. Note that this model\n",
        "was not trained fully for good accuracy and is used here for\n",
        "demonstration purposes only.\n",
        "\n",
        "It is important to call ``torch_model.eval()`` or ``torch_model.train(False)``\n",
        "before exporting the model, to turn the model to inference mode.\n",
        "This is required since operators like dropout or batchnorm behave\n",
        "differently in inference and training mode.\n",
        "\n",
        "\n"
      ]
    },
    {
      "cell_type": "code",
      "execution_count": 4,
      "metadata": {
        "id": "th1gHR9G2RmL",
        "outputId": "e04053b9-ede5-4d98-bdc3-e351fb7337cb",
        "colab": {
          "base_uri": "https://localhost:8080/"
        }
      },
      "outputs": [
        {
          "output_type": "stream",
          "name": "stderr",
          "text": [
            "Downloading: \"https://s3.amazonaws.com/pytorch/test_data/export/superres_epoch100-44c6958e.pth\" to /root/.cache/torch/hub/checkpoints/superres_epoch100-44c6958e.pth\n",
            "100%|██████████| 234k/234k [00:00<00:00, 19.8MB/s]\n"
          ]
        },
        {
          "output_type": "execute_result",
          "data": {
            "text/plain": [
              "SuperResolutionNet(\n",
              "  (relu): ReLU()\n",
              "  (conv1): Conv2d(1, 64, kernel_size=(5, 5), stride=(1, 1), padding=(2, 2))\n",
              "  (conv2): Conv2d(64, 64, kernel_size=(3, 3), stride=(1, 1), padding=(1, 1))\n",
              "  (conv3): Conv2d(64, 32, kernel_size=(3, 3), stride=(1, 1), padding=(1, 1))\n",
              "  (conv4): Conv2d(32, 9, kernel_size=(3, 3), stride=(1, 1), padding=(1, 1))\n",
              "  (pixel_shuffle): PixelShuffle(upscale_factor=3)\n",
              ")"
            ]
          },
          "metadata": {},
          "execution_count": 4
        }
      ],
      "source": [
        "# Load pretrained model weights\n",
        "model_url = 'https://s3.amazonaws.com/pytorch/test_data/export/superres_epoch100-44c6958e.pth'\n",
        "batch_size = 1    # just a random number\n",
        "\n",
        "# Initialize model with the pretrained weights\n",
        "map_location = lambda storage, loc: storage\n",
        "if torch.cuda.is_available():\n",
        "    map_location = None\n",
        "torch_model.load_state_dict(model_zoo.load_url(model_url, map_location=map_location))\n",
        "\n",
        "# set the model to inference mode\n",
        "torch_model.eval()"
      ]
    },
    {
      "cell_type": "markdown",
      "metadata": {
        "id": "L2POWPvW2RmM"
      },
      "source": [
        "Exporting a model in PyTorch works via tracing or scripting. This\n",
        "tutorial will use as an example a model exported by tracing.\n",
        "To export a model, we call the ``torch.onnx.export()`` function.\n",
        "This will execute the model, recording a trace of what operators\n",
        "are used to compute the outputs.\n",
        "Because ``export`` runs the model, we need to provide an input\n",
        "tensor ``x``. The values in this can be random as long as it is the\n",
        "right type and size.\n",
        "Note that the input size will be fixed in the exported ONNX graph for\n",
        "all the input's dimensions, unless specified as a dynamic axes.\n",
        "In this example we export the model with an input of batch_size 1,\n",
        "but then specify the first dimension as dynamic in the ``dynamic_axes``\n",
        "parameter in ``torch.onnx.export()``.\n",
        "The exported model will thus accept inputs of size [batch_size, 1, 224, 224]\n",
        "where batch_size can be variable.\n",
        "\n",
        "To learn more details about PyTorch's export interface, check out the\n",
        "[torch.onnx documentation](https://pytorch.org/docs/master/onnx.html)_.\n",
        "\n",
        "\n"
      ]
    },
    {
      "cell_type": "code",
      "execution_count": 8,
      "metadata": {
        "id": "gwp8wqQQ2RmN",
        "outputId": "29b1bfd3-ce79-416c-bafe-2a8e7015c921",
        "colab": {
          "base_uri": "https://localhost:8080/"
        }
      },
      "outputs": [
        {
          "output_type": "stream",
          "name": "stdout",
          "text": [
            "============= Diagnostic Run torch.onnx.export version 2.0.0+cu118 =============\n",
            "verbose: False, log level: Level.ERROR\n",
            "======================= 0 NONE 0 NOTE 0 WARNING 0 ERROR ========================\n",
            "\n"
          ]
        }
      ],
      "source": [
        "# Input to the model\n",
        "x = torch.randn(batch_size, 1, 224, 224, requires_grad=True)\n",
        "torch_out = torch_model(x)\n",
        "\n",
        "# Export the model\n",
        "torch.onnx.export(torch_model,               # model being run\n",
        "                  x,                         # model input (or a tuple for multiple inputs)\n",
        "                  \"super_resolution.onnx\",   # where to save the model (can be a file or file-like object)\n",
        "                  export_params=True,        # store the trained parameter weights inside the model file\n",
        "                  opset_version=10,          # the ONNX version to export the model to\n",
        "                  do_constant_folding=True,  # whether to execute constant folding for optimization\n",
        "                  input_names = ['input'],   # the model's input names\n",
        "                  output_names = ['output'], # the model's output names\n",
        "                  dynamic_axes={'input' : {0 : 'batch_size'},    # variable length axes\n",
        "                                'output' : {0 : 'batch_size'}})"
      ]
    },
    {
      "cell_type": "markdown",
      "metadata": {
        "id": "uLTFM7a82RmO"
      },
      "source": [
        "We also computed ``torch_out``, the output after of the model,\n",
        "which we will use to verify that the model we exported computes\n",
        "the same values when run in ONNX Runtime.\n",
        "\n",
        "But before verifying the model's output with ONNX Runtime, we will check\n",
        "the ONNX model with ONNX API.\n",
        "First, ``onnx.load(\"super_resolution.onnx\")`` will load the saved model and\n",
        "will output a ``onnx.ModelProto`` structure (a top-level file/container format for bundling a ML model.\n",
        "For more information [onnx.proto documentation](https://github.com/onnx/onnx/blob/master/onnx/onnx.proto)_.).\n",
        "Then, ``onnx.checker.check_model(onnx_model)`` will verify the model's structure\n",
        "and confirm that the model has a valid schema.\n",
        "The validity of the ONNX graph is verified by checking the model's\n",
        "version, the graph's structure, as well as the nodes and their inputs\n",
        "and outputs.\n",
        "\n",
        "\n"
      ]
    },
    {
      "cell_type": "code",
      "execution_count": 9,
      "metadata": {
        "id": "y8BCRqYG2RmR"
      },
      "outputs": [],
      "source": [
        "import onnx\n",
        "\n",
        "onnx_model = onnx.load(\"super_resolution.onnx\")\n",
        "onnx.checker.check_model(onnx_model)"
      ]
    },
    {
      "cell_type": "markdown",
      "metadata": {
        "id": "HprYTGoj2RmU"
      },
      "source": [
        "Now let's compute the output using ONNX Runtime's Python APIs.\n",
        "This part can normally be done in a separate process or on another\n",
        "machine, but we will continue in the same process so that we can\n",
        "verify that ONNX Runtime and PyTorch are computing the same value\n",
        "for the network.\n",
        "\n",
        "In order to run the model with ONNX Runtime, we need to create an\n",
        "inference session for the model with the chosen configuration\n",
        "parameters (here we use the default config).\n",
        "Once the session is created, we evaluate the model using the run() API.\n",
        "The output of this call is a list containing the outputs of the model\n",
        "computed by ONNX Runtime.\n",
        "\n",
        "\n"
      ]
    },
    {
      "cell_type": "code",
      "execution_count": 10,
      "metadata": {
        "id": "0Kodqyn92RmV",
        "outputId": "207a7778-67b1-4065-9cd1-a147dda2aadf",
        "colab": {
          "base_uri": "https://localhost:8080/"
        }
      },
      "outputs": [
        {
          "output_type": "stream",
          "name": "stdout",
          "text": [
            "Exported model has been tested with ONNXRuntime, and the result looks good!\n"
          ]
        }
      ],
      "source": [
        "import onnxruntime\n",
        "\n",
        "ort_session = onnxruntime.InferenceSession(\"super_resolution.onnx\")\n",
        "\n",
        "def to_numpy(tensor):\n",
        "    return tensor.detach().cpu().numpy() if tensor.requires_grad else tensor.cpu().numpy()\n",
        "\n",
        "# compute ONNX Runtime output prediction\n",
        "ort_inputs = {ort_session.get_inputs()[0].name: to_numpy(x)}\n",
        "ort_outs = ort_session.run(None, ort_inputs)\n",
        "\n",
        "# compare ONNX Runtime and PyTorch results\n",
        "np.testing.assert_allclose(to_numpy(torch_out), ort_outs[0], rtol=1e-03, atol=1e-05)\n",
        "\n",
        "print(\"Exported model has been tested with ONNXRuntime, and the result looks good!\")"
      ]
    },
    {
      "cell_type": "markdown",
      "metadata": {
        "id": "CzfZKFXk2RmV"
      },
      "source": [
        "We should see that the output of PyTorch and ONNX Runtime runs match\n",
        "numerically with the given precision (``rtol=1e-03`` and ``atol=1e-05``).\n",
        "As a side-note, if they do not match then there is an issue in the\n",
        "ONNX exporter, so please contact us in that case.\n",
        "\n",
        "\n"
      ]
    },
    {
      "cell_type": "markdown",
      "metadata": {
        "id": "nfGLCXfK2RmV"
      },
      "source": [
        "## Running the model on an image using ONNX Runtime\n",
        "\n",
        "\n"
      ]
    },
    {
      "cell_type": "markdown",
      "metadata": {
        "id": "hyWMA8ql2RmV"
      },
      "source": [
        "So far we have exported a model from PyTorch and shown how to load it\n",
        "and run it in ONNX Runtime with a dummy tensor as an input.\n",
        "\n"
      ]
    },
    {
      "cell_type": "markdown",
      "metadata": {
        "id": "dxWmukeh2RmV"
      },
      "source": [
        "For this tutorial, we will use a famous cat image used widely which\n",
        "looks like below\n",
        "\n",
        "![cat_224x224.jpg](data:image/jpeg;base64,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)\n",
        "   \n",
        "\n"
      ]
    },
    {
      "cell_type": "markdown",
      "metadata": {
        "id": "zBlrd8f32RmW"
      },
      "source": [
        "First, let's load the image, preprocess it using standard PIL\n",
        "python library. Note that this preprocessing is the standard practice of\n",
        "processing data for training/testing neural networks.\n",
        "\n",
        "We first download the image...\n",
        "\n",
        "\n",
        "\n"
      ]
    },
    {
      "cell_type": "code",
      "source": [
        "!wget https://pytorch.org/tutorials/_images/cat_224x224.jpg"
      ],
      "metadata": {
        "id": "_KWI1l8439TJ",
        "outputId": "0d9b881b-3cf5-40e2-ab74-eee919af1bcf",
        "colab": {
          "base_uri": "https://localhost:8080/"
        }
      },
      "execution_count": 12,
      "outputs": [
        {
          "output_type": "stream",
          "name": "stdout",
          "text": [
            "--2023-04-27 13:21:06--  https://pytorch.org/tutorials/_images/cat_224x224.jpg\n",
            "Resolving pytorch.org (pytorch.org)... 185.199.108.153, 185.199.109.153, 185.199.110.153, ...\n",
            "Connecting to pytorch.org (pytorch.org)|185.199.108.153|:443... connected.\n",
            "HTTP request sent, awaiting response... 200 OK\n",
            "Length: 10270 (10K) [image/jpeg]\n",
            "Saving to: ‘cat_224x224.jpg’\n",
            "\n",
            "\rcat_224x224.jpg       0%[                    ]       0  --.-KB/s               \rcat_224x224.jpg     100%[===================>]  10.03K  --.-KB/s    in 0s      \n",
            "\n",
            "2023-04-27 13:21:06 (86.4 MB/s) - ‘cat_224x224.jpg’ saved [10270/10270]\n",
            "\n"
          ]
        }
      ]
    },
    {
      "cell_type": "code",
      "execution_count": 24,
      "metadata": {
        "id": "Fb3QsGI42RmW",
        "outputId": "bb3e91bf-c454-4e8e-f918-bbebe1aa3a64",
        "colab": {
          "base_uri": "https://localhost:8080/"
        }
      },
      "outputs": [
        {
          "output_type": "execute_result",
          "data": {
            "text/plain": [
              "tensor([[[[0.2157, 0.1961, 0.1922,  ..., 0.5294, 0.5569, 0.5725],\n",
              "          [0.2039, 0.1922, 0.1922,  ..., 0.5333, 0.5529, 0.5686],\n",
              "          [0.2000, 0.1843, 0.1843,  ..., 0.5216, 0.5373, 0.5490],\n",
              "          ...,\n",
              "          [0.6667, 0.6745, 0.6392,  ..., 0.6902, 0.6667, 0.6078],\n",
              "          [0.6392, 0.6431, 0.6235,  ..., 0.8000, 0.7608, 0.6745],\n",
              "          [0.6392, 0.6353, 0.6510,  ..., 0.8118, 0.7686, 0.6667]]]])"
            ]
          },
          "metadata": {},
          "execution_count": 24
        }
      ],
      "source": [
        "from PIL import Image\n",
        "import torchvision.transforms as transforms\n",
        "\n",
        "img = Image.open(\"./cat_224x224.jpg\")\n",
        "\n",
        "resize = transforms.Resize([224, 224])\n",
        "img = resize(img)\n",
        "\n",
        "img_ycbcr = img.convert('YCbCr')\n",
        "img_y, img_cb, img_cr = img_ycbcr.split()\n",
        "\n",
        "to_tensor = transforms.ToTensor()\n",
        "img_y = to_tensor(img_y)\n",
        "img_y.unsqueeze_(0)"
      ]
    },
    {
      "cell_type": "markdown",
      "metadata": {
        "id": "4IGcXyvF2RmW"
      },
      "source": [
        "Now, as a next step, let's take the tensor representing the\n",
        "grayscale resized cat image and run the super-resolution model in\n",
        "ONNX Runtime as explained previously.\n",
        "\n",
        "\n"
      ]
    },
    {
      "cell_type": "code",
      "execution_count": 26,
      "metadata": {
        "id": "Y69XZNsj2RmW"
      },
      "outputs": [],
      "source": [
        "ort_inputs = {ort_session.get_inputs()[0].name: to_numpy(img_y)}\n",
        "ort_outs = ort_session.run(None, ort_inputs)\n",
        "img_out_y = ort_outs[0]"
      ]
    },
    {
      "cell_type": "markdown",
      "metadata": {
        "id": "-Te3ASGe2RmX"
      },
      "source": [
        "At this point, the output of the model is a tensor.\n",
        "Now, we'll process the output of the model to construct back the\n",
        "final output image from the output tensor, and save the image.\n",
        "The post-processing steps have been adopted from PyTorch\n",
        "implementation of super-resolution model\n",
        "[here](https://github.com/pytorch/examples/blob/master/super_resolution/super_resolve.py)_.\n",
        "\n",
        "\n"
      ]
    },
    {
      "cell_type": "code",
      "execution_count": 27,
      "metadata": {
        "id": "pHdM5wky2RmX"
      },
      "outputs": [],
      "source": [
        "img_out_y = Image.fromarray(np.uint8((img_out_y[0] * 255.0).clip(0, 255)[0]), mode='L')\n",
        "\n",
        "# get the output image follow post-processing step from PyTorch implementation\n",
        "final_img = Image.merge(\n",
        "    \"YCbCr\", [\n",
        "        img_out_y,\n",
        "        img_cb.resize(img_out_y.size, Image.BICUBIC),\n",
        "        img_cr.resize(img_out_y.size, Image.BICUBIC),\n",
        "    ]).convert(\"RGB\")\n",
        "\n",
        "# Save the image, we will compare this with the output image from mobile device\n",
        "final_img.save(\"./cat_superres_with_ort.jpg\")"
      ]
    },
    {
      "cell_type": "markdown",
      "metadata": {
        "id": "3KpbPZc02RmX"
      },
      "source": [
        "\n",
        "\n",
        "\n",
        "ONNX Runtime being a cross platform engine, you can run it across\n",
        "multiple platforms and on both CPUs and GPUs.\n",
        "\n",
        "ONNX Runtime can also be deployed to the cloud for model inferencing\n",
        "using Azure Machine Learning Services. More information [here](https://docs.microsoft.com/en-us/azure/machine-learning/service/concept-onnx)_.\n",
        "\n",
        "More information about ONNX Runtime's performance [here](https://github.com/microsoft/onnxruntime#high-performance)_.\n",
        "\n",
        "\n",
        "For more information about ONNX Runtime [here](https://github.com/microsoft/onnxruntime)_.\n",
        "\n",
        "\n"
      ]
    },
    {
      "cell_type": "code",
      "source": [],
      "metadata": {
        "id": "8gbqq-2l5hTh"
      },
      "execution_count": null,
      "outputs": []
    }
  ],
  "metadata": {
    "kernelspec": {
      "display_name": "Python 3",
      "language": "python",
      "name": "python3"
    },
    "language_info": {
      "codemirror_mode": {
        "name": "ipython",
        "version": 3
      },
      "file_extension": ".py",
      "mimetype": "text/x-python",
      "name": "python",
      "nbconvert_exporter": "python",
      "pygments_lexer": "ipython3",
      "version": "3.10.10"
    },
    "colab": {
      "provenance": []
    }
  },
  "nbformat": 4,
  "nbformat_minor": 0
}